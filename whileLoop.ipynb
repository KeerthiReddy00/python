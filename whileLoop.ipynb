{
 "cells": [
  {
   "cell_type": "markdown",
   "metadata": {},
   "source": [
    "1) WAP to print \"hello\" for 5 times"
   ]
  },
  {
   "cell_type": "code",
   "execution_count": 13,
   "metadata": {},
   "outputs": [
    {
     "name": "stdout",
     "output_type": "stream",
     "text": [
      "hello\n",
      "hello\n",
      "hello\n",
      "hello\n",
      "hello\n"
     ]
    }
   ],
   "source": [
    "i=1\n",
    "while i<=5:\n",
    "    print(\"hello\")\n",
    "    i+=1"
   ]
  },
  {
   "cell_type": "markdown",
   "metadata": {},
   "source": [
    "2) WAP to print Good Afternoon and Had your lunch? line by line for 15 times."
   ]
  },
  {
   "cell_type": "code",
   "execution_count": 3,
   "metadata": {},
   "outputs": [
    {
     "name": "stdout",
     "output_type": "stream",
     "text": [
      "Good Afternnon 1\n",
      "Had your lunch?\n",
      "Good Afternnon 2\n",
      "Had your lunch?\n",
      "Good Afternnon 3\n",
      "Had your lunch?\n",
      "Good Afternnon 4\n",
      "Had your lunch?\n",
      "Good Afternnon 5\n",
      "Had your lunch?\n",
      "Good Afternnon 6\n",
      "Had your lunch?\n",
      "Good Afternnon 7\n",
      "Had your lunch?\n",
      "Good Afternnon 8\n",
      "Had your lunch?\n",
      "Good Afternnon 9\n",
      "Had your lunch?\n",
      "Good Afternnon 10\n",
      "Had your lunch?\n",
      "Good Afternnon 11\n",
      "Had your lunch?\n",
      "Good Afternnon 12\n",
      "Had your lunch?\n",
      "Good Afternnon 13\n",
      "Had your lunch?\n",
      "Good Afternnon 14\n",
      "Had your lunch?\n",
      "Good Afternnon 15\n",
      "Had your lunch?\n"
     ]
    }
   ],
   "source": [
    "n=1\n",
    "while n<=15:\n",
    "    print(\"Good Afternnon\",n)\n",
    "    print(\"Had your lunch?\")\n",
    "    n+=1\n"
   ]
  },
  {
   "cell_type": "markdown",
   "metadata": {},
   "source": [
    "3) WAP to print 1 to 10 numbers. "
   ]
  },
  {
   "cell_type": "code",
   "execution_count": 4,
   "metadata": {},
   "outputs": [
    {
     "name": "stdout",
     "output_type": "stream",
     "text": [
      "1\n",
      "2\n",
      "3\n",
      "4\n",
      "5\n",
      "6\n",
      "7\n",
      "8\n",
      "9\n",
      "10\n"
     ]
    }
   ],
   "source": [
    "n=1\n",
    "while n<=10:\n",
    "    print(n)\n",
    "    n+=1"
   ]
  },
  {
   "cell_type": "markdown",
   "metadata": {},
   "source": [
    "WAP to print series of the numbers from 15 to 1"
   ]
  },
  {
   "cell_type": "code",
   "execution_count": 1,
   "metadata": {},
   "outputs": [
    {
     "name": "stdout",
     "output_type": "stream",
     "text": [
      "15\n",
      "14\n",
      "13\n",
      "12\n",
      "11\n",
      "10\n",
      "9\n",
      "8\n",
      "7\n",
      "6\n",
      "5\n",
      "4\n",
      "3\n",
      "2\n",
      "1\n"
     ]
    }
   ],
   "source": [
    "i=15   # Step-1 : giving user input\n",
    "while i>=1: # Step-2: giving condition whether the given input is satisfied or not(input>=1)\n",
    "    print(i) # Step-3 : printing statement (executes if the given condition is true)\n",
    "    i-=1  # Step-4 : decrement if condition is true"
   ]
  },
  {
   "cell_type": "markdown",
   "metadata": {},
   "source": [
    "WAP to print 3 multiplication table 3."
   ]
  },
  {
   "cell_type": "code",
   "execution_count": 4,
   "metadata": {},
   "outputs": [
    {
     "name": "stdout",
     "output_type": "stream",
     "text": [
      "3\n",
      "6\n",
      "9\n",
      "12\n",
      "15\n",
      "18\n",
      "21\n",
      "24\n",
      "27\n",
      "30\n"
     ]
    }
   ],
   "source": [
    "i=1  # Step-1 : giving user input\n",
    "while i<=10:  # Step-2: giving condition whether the given input is satisfied or not(input<=10)\n",
    "    print(3*i) # Step-3 : printing statement (executes if the given condition is true)\n",
    "    i+=1    # Step-4 : increment if condition is true"
   ]
  },
  {
   "cell_type": "markdown",
   "metadata": {},
   "source": [
    "WAP to print even numbers from 7 to 25."
   ]
  },
  {
   "cell_type": "code",
   "execution_count": 5,
   "metadata": {},
   "outputs": [
    {
     "name": "stdout",
     "output_type": "stream",
     "text": [
      "8\n",
      "10\n",
      "12\n",
      "14\n",
      "16\n",
      "18\n",
      "20\n",
      "22\n",
      "24\n"
     ]
    }
   ],
   "source": [
    "i=7   # Step-1 : giving user input\n",
    "while i<=25: # Step-2: giving condition whether the given input is satisfied or not(input<=10)\n",
    "    if (i%2==0): # Step-4 : checking whether the given input is even or not \n",
    "        print(i) # Step-5 : printing given statement if only the if condition is true\n",
    "    i+=1  # Step-3 : increment if while condition is true"
   ]
  },
  {
   "cell_type": "markdown",
   "metadata": {},
   "source": [
    "WAP to print the number which are divisible by both 3 and 5 in the given range of 10 to 25 inclusive."
   ]
  },
  {
   "cell_type": "code",
   "execution_count": 6,
   "metadata": {},
   "outputs": [
    {
     "name": "stdout",
     "output_type": "stream",
     "text": [
      "15\n",
      "program ends\n"
     ]
    }
   ],
   "source": [
    "i=10  # Step-1 : giving user input\n",
    "while i<=25:  # Step-2: giving condition whether the given input is satisfied or not(input<=25)\n",
    "    if i%3==0 and i%5==0:  # Step-4 : checking whether the given input is divisible by 3 and 5 or not\n",
    "        print(i)  # Step-5 : printing given statement if only the if condition is true\n",
    "    i+=1   # Step-3 : increment if while condition is true"
   ]
  },
  {
   "cell_type": "markdown",
   "metadata": {},
   "source": [
    "WAP to first 3 even numbers from the given range 1 to 15."
   ]
  },
  {
   "cell_type": "code",
   "execution_count": 8,
   "metadata": {},
   "outputs": [
    {
     "name": "stdout",
     "output_type": "stream",
     "text": [
      "2\n",
      "4\n",
      "6\n",
      "program ends\n"
     ]
    }
   ],
   "source": [
    "i=1   # Step-1 : giving user input\n",
    "count=0  # Step-2 : Taking a variable to measure the count value\n",
    "while i<=15:  # Step-3: giving condition whether the given input is satisfied or not(input<=15)\n",
    "    if i%2==0 and count<3:  # Step-5 : checking whether the given input is divisible by 2 and count<3 or not\n",
    "        print(i)   # Step-6 : printing given statement if only the if condition is true\n",
    "        count+=1  # Step-7 : increment if the while and if conditions are true\n",
    "    i+=1  # Step-4 : increment if while condition is true"
   ]
  },
  {
   "cell_type": "markdown",
   "metadata": {},
   "source": [
    "WAP to print 5 odd numbers in the given range 1 to 25."
   ]
  },
  {
   "cell_type": "code",
   "execution_count": 10,
   "metadata": {},
   "outputs": [
    {
     "name": "stdout",
     "output_type": "stream",
     "text": [
      "25\n",
      "23\n",
      "21\n",
      "19\n",
      "17\n"
     ]
    }
   ],
   "source": [
    "i=25   # Step-1 : giving user input\n",
    "count=0   # Step-2 : Taking a variable to measure the count value\n",
    "while i>=1:  # Step-3: giving condition whether the given input is satisfied or not(input>=1)\n",
    "    if i%2==1 and count<5:  # Step-5 : checking whether the given input is odd and count<5 or not\n",
    "        print(i)  # Step-6 : printing given statement if only the if condition is true\n",
    "        count+=1  # Step-7 : increment if the while and if conditions are true\n",
    "    i-=1   # Step-4 : decrement if while condition is true"
   ]
  },
  {
   "cell_type": "markdown",
   "metadata": {},
   "source": [
    "4) WAP to print uppercase alphabets."
   ]
  },
  {
   "cell_type": "code",
   "execution_count": 8,
   "metadata": {},
   "outputs": [
    {
     "name": "stdout",
     "output_type": "stream",
     "text": [
      "A\n",
      "B\n",
      "C\n",
      "D\n",
      "E\n",
      "F\n",
      "G\n",
      "H\n",
      "I\n",
      "J\n",
      "K\n",
      "L\n",
      "M\n",
      "N\n",
      "O\n",
      "P\n",
      "Q\n",
      "R\n",
      "S\n",
      "T\n",
      "U\n",
      "V\n",
      "W\n",
      "X\n",
      "Y\n",
      "Z\n"
     ]
    }
   ],
   "source": [
    "i='A'\n",
    "while i<='Z':\n",
    "    print(i)\n",
    "    i=ord(i)+1\n",
    "    i=chr(i)\n",
    "\n",
    "    \n",
    "    "
   ]
  },
  {
   "cell_type": "markdown",
   "metadata": {},
   "source": [
    "5) WAP to print lowercase Alphabets."
   ]
  },
  {
   "cell_type": "code",
   "execution_count": 9,
   "metadata": {},
   "outputs": [
    {
     "name": "stdout",
     "output_type": "stream",
     "text": [
      "a\n",
      "b\n",
      "c\n",
      "d\n",
      "e\n",
      "f\n",
      "g\n",
      "h\n",
      "i\n",
      "j\n",
      "k\n",
      "l\n",
      "m\n",
      "n\n",
      "o\n",
      "p\n",
      "q\n",
      "r\n",
      "s\n",
      "t\n",
      "u\n",
      "v\n",
      "w\n",
      "x\n",
      "y\n",
      "z\n"
     ]
    }
   ],
   "source": [
    "i='a'\n",
    "while i<='z':\n",
    "    print(i)\n",
    "    i=ord(i)+1\n",
    "    i=chr(i)"
   ]
  },
  {
   "cell_type": "markdown",
   "metadata": {},
   "source": [
    "6) WAP to print the character digits."
   ]
  },
  {
   "cell_type": "code",
   "execution_count": 10,
   "metadata": {},
   "outputs": [
    {
     "name": "stdout",
     "output_type": "stream",
     "text": [
      "0\n",
      "1\n",
      "2\n",
      "3\n",
      "4\n",
      "5\n",
      "6\n",
      "7\n",
      "8\n",
      "9\n"
     ]
    }
   ],
   "source": [
    "ch='0'\n",
    "while ch<='9':\n",
    "    print(ch)\n",
    "    ch=ord(ch)+1\n",
    "    ch=chr(ch)"
   ]
  },
  {
   "cell_type": "markdown",
   "metadata": {},
   "source": [
    "7) WAP to print sum of the first 10 natural numbers."
   ]
  },
  {
   "cell_type": "code",
   "execution_count": 14,
   "metadata": {},
   "outputs": [
    {
     "name": "stdout",
     "output_type": "stream",
     "text": [
      "55\n"
     ]
    }
   ],
   "source": [
    "i=1\n",
    "sum=0\n",
    "while i<=10:\n",
    "    sum+=i\n",
    "    i+=1\n",
    "print(sum)"
   ]
  },
  {
   "cell_type": "markdown",
   "metadata": {},
   "source": [
    "8) WAP to print the average of the first 10 natural numbers."
   ]
  },
  {
   "cell_type": "code",
   "execution_count": 21,
   "metadata": {},
   "outputs": [
    {
     "name": "stdout",
     "output_type": "stream",
     "text": [
      "5.5\n"
     ]
    }
   ],
   "source": [
    "i=1\n",
    "sum=0\n",
    "while i<=10:\n",
    "    sum+=i\n",
    "    avg=sum/i\n",
    "    i+=1\n",
    "print(avg)\n"
   ]
  },
  {
   "cell_type": "markdown",
   "metadata": {},
   "source": [
    "9) WAP to print the pattern :\n",
    "   *\n",
    "   * *\n",
    "   * * *\n",
    "   * * * *"
   ]
  },
  {
   "cell_type": "code",
   "execution_count": 39,
   "metadata": {},
   "outputs": [
    {
     "name": "stdout",
     "output_type": "stream",
     "text": [
      "* \n",
      "* * \n",
      "* * * \n",
      "* * * * \n"
     ]
    }
   ],
   "source": [
    "i=1\n",
    "while i<=4:\n",
    "    print('* '*i)\n",
    "    i+=1"
   ]
  },
  {
   "cell_type": "markdown",
   "metadata": {},
   "source": [
    "10) WAP to print the pattern:\n",
    "    * * * *\n",
    "    * * * \n",
    "    * * \n",
    "    *  "
   ]
  },
  {
   "cell_type": "code",
   "execution_count": 45,
   "metadata": {},
   "outputs": [
    {
     "name": "stdout",
     "output_type": "stream",
     "text": [
      "* * * * \n",
      "* * * \n",
      "* * \n",
      "* \n"
     ]
    }
   ],
   "source": [
    "i=4\n",
    "while i>=1:\n",
    "    print(\"* \"*i)\n",
    "    i-=1"
   ]
  },
  {
   "cell_type": "markdown",
   "metadata": {},
   "source": [
    "10) WAP to print the pattern:\n",
    "          *\n",
    "        * *\n",
    "      * * *\n",
    "    * * * *"
   ]
  },
  {
   "cell_type": "code",
   "execution_count": 58,
   "metadata": {},
   "outputs": [
    {
     "name": "stdout",
     "output_type": "stream",
     "text": [
      "       * \n",
      "     * * \n",
      "   * * * \n",
      " * * * * \n"
     ]
    }
   ],
   "source": [
    "i=4\n",
    "j=1\n",
    "spaces=\"  \"\n",
    "star=\"* \"\n",
    "while i>=1 and j<=4:\n",
    "    print(spaces*(i-1),star*(j))\n",
    "    j+=1\n",
    "    i-=1"
   ]
  },
  {
   "cell_type": "markdown",
   "metadata": {},
   "source": [
    "11) WAP to print the pattern:\n",
    "    * * * *\n",
    "      * * *\n",
    "        * *\n",
    "          *   "
   ]
  },
  {
   "cell_type": "code",
   "execution_count": 1,
   "metadata": {},
   "outputs": [
    {
     "name": "stdout",
     "output_type": "stream",
     "text": [
      " * * * * \n",
      "   * * * \n",
      "     * * \n",
      "       * \n"
     ]
    }
   ],
   "source": [
    "i=1\n",
    "j=4\n",
    "spaces=\"  \"\n",
    "star=\"* \"\n",
    "while i<=4 and j>=1:\n",
    "    print(spaces*(i-1),star*(j))\n",
    "    j-=1\n",
    "    i+=1"
   ]
  },
  {
   "cell_type": "code",
   "execution_count": 5,
   "metadata": {},
   "outputs": [
    {
     "name": "stdout",
     "output_type": "stream",
     "text": [
      "prime\n",
      "odd\n"
     ]
    }
   ],
   "source": [
    "num=int(input())\n",
    "i=1\n",
    "sum=0\n",
    "count=0\n",
    "while i<=num:\n",
    "    if num%i==0:\n",
    "        count+=1\n",
    "    i+=1\n",
    "if count==2:\n",
    "    print(\"prime\")\n",
    "    if num%2==0:\n",
    "        print(\"even\")\n",
    "    else:\n",
    "        print(\"odd\")\n",
    "else:\n",
    "    print(\"not a prime\")\n",
    "    i=1\n",
    "    while i<num:\n",
    "        if num%i==0:\n",
    "            sum=sum+i\n",
    "        i+=1\n",
    "    print(sum)\n",
    "    if sum==num:\n",
    "        print(\"perfect number\")\n",
    "    else:\n",
    "        print(\"not a perfect number\")"
   ]
  }
 ],
 "metadata": {
  "kernelspec": {
   "display_name": "Python 3",
   "language": "python",
   "name": "python3"
  },
  "language_info": {
   "codemirror_mode": {
    "name": "ipython",
    "version": 3
   },
   "file_extension": ".py",
   "mimetype": "text/x-python",
   "name": "python",
   "nbconvert_exporter": "python",
   "pygments_lexer": "ipython3",
   "version": "3.12.1"
  }
 },
 "nbformat": 4,
 "nbformat_minor": 2
}
