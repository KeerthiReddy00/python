{
 "cells": [
  {
   "cell_type": "code",
   "execution_count": 1,
   "metadata": {},
   "outputs": [
    {
     "name": "stdout",
     "output_type": "stream",
     "text": [
      "hello\n",
      "hello\n",
      "hello\n",
      "hello\n",
      "hello\n"
     ]
    }
   ],
   "source": [
    "i=1\n",
    "while i<=5:\n",
    "    print(\"hello\")\n",
    "    i+=1"
   ]
  },
  {
   "cell_type": "code",
   "execution_count": 3,
   "metadata": {},
   "outputs": [
    {
     "name": "stdout",
     "output_type": "stream",
     "text": [
      "Good Afternnon 1\n",
      "Had your lunch?\n",
      "Good Afternnon 2\n",
      "Had your lunch?\n",
      "Good Afternnon 3\n",
      "Had your lunch?\n",
      "Good Afternnon 4\n",
      "Had your lunch?\n",
      "Good Afternnon 5\n",
      "Had your lunch?\n",
      "Good Afternnon 6\n",
      "Had your lunch?\n",
      "Good Afternnon 7\n",
      "Had your lunch?\n",
      "Good Afternnon 8\n",
      "Had your lunch?\n",
      "Good Afternnon 9\n",
      "Had your lunch?\n",
      "Good Afternnon 10\n",
      "Had your lunch?\n",
      "Good Afternnon 11\n",
      "Had your lunch?\n",
      "Good Afternnon 12\n",
      "Had your lunch?\n",
      "Good Afternnon 13\n",
      "Had your lunch?\n",
      "Good Afternnon 14\n",
      "Had your lunch?\n",
      "Good Afternnon 15\n",
      "Had your lunch?\n"
     ]
    }
   ],
   "source": [
    "n=1\n",
    "while n<=15:\n",
    "    print(\"Good Afternnon\",n)\n",
    "    print(\"Had your lunch?\")\n",
    "    n+=1\n"
   ]
  },
  {
   "cell_type": "code",
   "execution_count": 4,
   "metadata": {},
   "outputs": [
    {
     "name": "stdout",
     "output_type": "stream",
     "text": [
      "1\n",
      "2\n",
      "3\n",
      "4\n",
      "5\n",
      "6\n",
      "7\n",
      "8\n",
      "9\n",
      "10\n"
     ]
    }
   ],
   "source": [
    "n=1\n",
    "while n<=10:\n",
    "    print(n)\n",
    "    n+=1"
   ]
  }
 ],
 "metadata": {
  "kernelspec": {
   "display_name": "Python 3",
   "language": "python",
   "name": "python3"
  },
  "language_info": {
   "codemirror_mode": {
    "name": "ipython",
    "version": 3
   },
   "file_extension": ".py",
   "mimetype": "text/x-python",
   "name": "python",
   "nbconvert_exporter": "python",
   "pygments_lexer": "ipython3",
   "version": "3.12.1"
  }
 },
 "nbformat": 4,
 "nbformat_minor": 2
}
