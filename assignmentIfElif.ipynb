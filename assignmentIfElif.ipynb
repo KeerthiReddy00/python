{
 "cells": [
  {
   "cell_type": "markdown",
   "metadata": {},
   "source": [
    "1) WAP to check whether a given value is positive or negative or neutral. if positive, display the positive with value.or negative display the negative with value or else display the neutral with value."
   ]
  },
  {
   "cell_type": "code",
   "execution_count": 5,
   "metadata": {},
   "outputs": [
    {
     "name": "stdout",
     "output_type": "stream",
     "text": [
      "positive 9\n"
     ]
    }
   ],
   "source": [
    "num=int(input())\n",
    "if num>0:\n",
    "    print(\"positive\",num)\n",
    "elif num<0:\n",
    "    print(\"negative\",num)\n",
    "elif num==0:\n",
    "    print(\"neutral\",num)"
   ]
  },
  {
   "cell_type": "markdown",
   "metadata": {},
   "source": [
    "2) WAP to find out the greatest of three numbers, and display the greatest number."
   ]
  },
  {
   "cell_type": "code",
   "execution_count": 8,
   "metadata": {},
   "outputs": [
    {
     "name": "stdout",
     "output_type": "stream",
     "text": [
      "num2 is greater\n"
     ]
    }
   ],
   "source": [
    "num1=int(input())\n",
    "num2=int(input())\n",
    "num3=int(input())\n",
    "if num1<num3 and num2<num3:\n",
    "    print(\"num3 is greater\")\n",
    "elif num1<num2 and num3<num2:\n",
    "    print(\"num2 is greater\")\n",
    "elif num2<num1 and num3<num1:\n",
    "    print(\"num1 is greater\")"
   ]
  },
  {
   "cell_type": "markdown",
   "metadata": {},
   "source": [
    "3) Write a program to check whether a given number is divisible by 3 and 5. if the number divisible by 3 print fizz, if the number divisible by 5 print ‘bizz’ if it is divisible by both then print fizzbuzz"
   ]
  },
  {
   "cell_type": "code",
   "execution_count": 12,
   "metadata": {},
   "outputs": [
    {
     "name": "stdout",
     "output_type": "stream",
     "text": [
      "buzz\n"
     ]
    }
   ],
   "source": [
    "num=int(input())\n",
    "if num%3==0 and num%5==0:\n",
    "    print(\"fizzBuzz\")\n",
    "elif num%3==0:\n",
    "    print(\"fizz\")\n",
    "elif num%5==0:\n",
    "    print(\"buzz\")"
   ]
  },
  {
   "cell_type": "markdown",
   "metadata": {},
   "source": [
    "4) WAP to find out the relationship between two values and display the relationship."
   ]
  },
  {
   "cell_type": "code",
   "execution_count": 17,
   "metadata": {},
   "outputs": [
    {
     "name": "stdout",
     "output_type": "stream",
     "text": [
      "num1 greater than num2\n"
     ]
    }
   ],
   "source": [
    "num1=int(input())\n",
    "num2=int(input())\n",
    "if num1==num2:\n",
    "    print(\"equals\")\n",
    "elif num1<num2:\n",
    "    print(\"num1 less than num2\")\n",
    "elif num1>num2:\n",
    "    print(\"num1 greater than num2\")"
   ]
  },
  {
   "cell_type": "markdown",
   "metadata": {},
   "source": [
    "5) Write a program to check if a given number is one digit or two digit or three digit for more than 3 digit, if one digit displays the one digit value, if two digit displays the two digit value and so on.."
   ]
  },
  {
   "cell_type": "code",
   "execution_count": 21,
   "metadata": {},
   "outputs": [
    {
     "name": "stdout",
     "output_type": "stream",
     "text": [
      "34567 more than 3 digits\n"
     ]
    }
   ],
   "source": [
    "num=int(input())\n",
    "if len(str(num))==1:\n",
    "    print(num,\"one digit value\")\n",
    "elif len(str(num))==2:\n",
    "    print(num,\"two digit value\")\n",
    "elif len(str(num))==3:\n",
    "    print(num,\"three digit number\")\n",
    "elif len(str(num))>3:\n",
    "    print(num,\"more than 3 digits\")\n"
   ]
  },
  {
   "cell_type": "markdown",
   "metadata": {},
   "source": [
    "6) WAP to check whether a given character is an alphabet or ascii number or special character or invalid. if alphabet, display the alphabet with character.or elif ascii number display the ascii number with character,or else display the special character with character."
   ]
  },
  {
   "cell_type": "code",
   "execution_count": 10,
   "metadata": {},
   "outputs": [
    {
     "ename": "ValueError",
     "evalue": "invalid literal for int() with base 10: 'h'",
     "output_type": "error",
     "traceback": [
      "\u001b[1;31m---------------------------------------------------------------------------\u001b[0m",
      "\u001b[1;31mValueError\u001b[0m                                Traceback (most recent call last)",
      "Cell \u001b[1;32mIn[10], line 2\u001b[0m\n\u001b[0;32m      1\u001b[0m ch\u001b[38;5;241m=\u001b[39m\u001b[38;5;28minput\u001b[39m()\n\u001b[1;32m----> 2\u001b[0m num\u001b[38;5;241m=\u001b[39m\u001b[38;5;28;43mint\u001b[39;49m\u001b[43m(\u001b[49m\u001b[43mch\u001b[49m\u001b[43m)\u001b[49m\n\u001b[0;32m      3\u001b[0m \u001b[38;5;28;01mif\u001b[39;00m \u001b[38;5;28mtype\u001b[39m(num)\u001b[38;5;241m==\u001b[39m\u001b[38;5;28mint\u001b[39m:\n\u001b[0;32m      4\u001b[0m     \u001b[38;5;28mprint\u001b[39m(\u001b[38;5;124m\"\u001b[39m\u001b[38;5;124mascii number\u001b[39m\u001b[38;5;124m\"\u001b[39m,ch)\n",
      "\u001b[1;31mValueError\u001b[0m: invalid literal for int() with base 10: 'h'"
     ]
    }
   ],
   "source": [
    "ch=input()\n",
    "num=int(ch)\n",
    "if :\n",
    "    print(\"ascii number\",ch)\n",
    "elif (ch>='A' and ch<='Z')or(ch>='a' and ch<='z'):\n",
    "    print(\"alphabet\",ch)\n",
    "elif not((ch>='A' and ch<='Z')or(ch>='a' and ch<='z')or(ch<='0' and ch>='9')):\n",
    "    print(\"special character\",ch)"
   ]
  },
  {
   "cell_type": "markdown",
   "metadata": {},
   "source": [
    "7) Write a program to accept any number from 1-5 and display that number in word form."
   ]
  },
  {
   "cell_type": "code",
   "execution_count": 4,
   "metadata": {},
   "outputs": [
    {
     "name": "stdout",
     "output_type": "stream",
     "text": [
      "four\n"
     ]
    }
   ],
   "source": [
    "num=int(input())\n",
    "if num==1:\n",
    "    print(\"one\")\n",
    "elif num==2:\n",
    "    print(\"two\")\n",
    "elif num==3:\n",
    "    print(\"three\")\n",
    "elif num==4:\n",
    "    print(\"four\")\n",
    "elif num==5:\n",
    "    print(\"five\")"
   ]
  },
  {
   "cell_type": "markdown",
   "metadata": {},
   "source": [
    "8) WAP to check whether the given input character is uppercase, lowercase, number or a special symbol. To display the message."
   ]
  },
  {
   "cell_type": "code",
   "execution_count": 8,
   "metadata": {},
   "outputs": [
    {
     "name": "stdout",
     "output_type": "stream",
     "text": [
      "special symbol\n"
     ]
    }
   ],
   "source": [
    "ch=input()\n",
    "if ch>='A' and ch<='Z':\n",
    "    print(\"Uppercase\")\n",
    "elif ch>='a' and ch<='z':\n",
    "    print(\"lowercase\")\n",
    "elif ch>='0' and ch<='9':\n",
    "    print(\"number\")\n",
    "elif not((ch>='A' and ch<='Z') or (ch>='a' and ch<='z') or (ch>='0' and ch<='9')):\n",
    "    print(\"special symbol\")"
   ]
  },
  {
   "cell_type": "markdown",
   "metadata": {},
   "source": [
    "9) WAP to check whether a given character is uppercase or lowercase or special character. if uppercase, convert to lower case.or elif lowercase, convert to uppercase or else display the previous,given,next characters and display it."
   ]
  },
  {
   "cell_type": "code",
   "execution_count": 12,
   "metadata": {},
   "outputs": [
    {
     "name": "stdout",
     "output_type": "stream",
     "text": [
      "special symbol\n",
      "#\n",
      "$\n",
      "%\n"
     ]
    }
   ],
   "source": [
    "ch=input()\n",
    "if ch>='A' and ch<='Z':\n",
    "    print(\"Uppercase\")\n",
    "    print(chr(ord(ch)+32))\n",
    "elif ch>='a' and ch<='z':\n",
    "    print(\"lowercase\")\n",
    "    print(chr(ord(ch)-32))\n",
    "elif ch>='0' and ch<='9':\n",
    "    print(\"number\")\n",
    "    print(chr(ord(ch)-1))\n",
    "    print(ch)\n",
    "    print(chr(ord(ch)+1))\n",
    "elif not((ch>='A' and ch<='Z') or (ch>='a' and ch<='z') or (ch>='0' and ch<='9')):\n",
    "    print(\"special symbol\")\n",
    "    print(chr(ord(ch)-1))\n",
    "    print(ch)\n",
    "    print(chr(ord(ch)+1))"
   ]
  },
  {
   "cell_type": "markdown",
   "metadata": {},
   "source": [
    "10) WAP to check whether the given character is in lowercase or uppercase, numeric or special characters. Display the what type of case."
   ]
  },
  {
   "cell_type": "code",
   "execution_count": 13,
   "metadata": {},
   "outputs": [
    {
     "name": "stdout",
     "output_type": "stream",
     "text": [
      "special symbol\n"
     ]
    }
   ],
   "source": [
    "ch=input()\n",
    "if ch>='A' and ch<='Z':\n",
    "    print(\"Uppercase\")\n",
    "elif ch>='a' and ch<='z':\n",
    "    print(\"lowercase\")\n",
    "elif ch>='0' and ch<='9':\n",
    "    print(\"number\")\n",
    "elif not((ch>='A' and ch<='Z') or (ch>='a' and ch<='z') or (ch>='0' and ch<='9')):\n",
    "    print(\"special symbol\")"
   ]
  },
  {
   "cell_type": "markdown",
   "metadata": {},
   "source": [
    "11) WAP to check whether a given percentage is which grade and display grade.\n",
    "note.(first grade, second grade, third grade, fail)"
   ]
  },
  {
   "cell_type": "code",
   "execution_count": 18,
   "metadata": {},
   "outputs": [
    {
     "name": "stdout",
     "output_type": "stream",
     "text": [
      "third grade\n"
     ]
    }
   ],
   "source": [
    "marks=int(input())\n",
    "if marks<=100 and marks>=80:\n",
    "    print(\"First grade\")\n",
    "elif marks<80 and marks>=60:\n",
    "    print(\"second grade\")\n",
    "elif marks<60 and marks>=35:\n",
    "    print(\"third grade\")\n",
    "elif marks<35:\n",
    "    print(\"fail\")\n"
   ]
  },
  {
   "cell_type": "markdown",
   "metadata": {},
   "source": [
    "12) WAP to perform arithmetic operations depends on a user choice."
   ]
  },
  {
   "cell_type": "code",
   "execution_count": 19,
   "metadata": {},
   "outputs": [
    {
     "name": "stdout",
     "output_type": "stream",
     "text": [
      "28\n"
     ]
    }
   ],
   "source": [
    "num1=int(input())\n",
    "num2=int(input())\n",
    "ch=input()\n",
    "if ch=='+' :\n",
    "    print(num1+num2)\n",
    "elif ch=='-':\n",
    "    print(num1-num2)\n",
    "elif ch=='*':\n",
    "    print(num1*num2)\n",
    "elif ch=='/':\n",
    "    print(num1/num2)\n",
    "elif ch=='//':\n",
    "    print(num1//num2)\n",
    "elif ch=='%':\n",
    "    print(num1%num2)\n",
    "elif ch=='**':\n",
    "    print(num1**num2)\n"
   ]
  },
  {
   "cell_type": "markdown",
   "metadata": {},
   "source": [
    "13) WAP to check a given number is one digit or two digit or three digits for more than 3 digits."
   ]
  },
  {
   "cell_type": "code",
   "execution_count": 21,
   "metadata": {},
   "outputs": [
    {
     "name": "stdout",
     "output_type": "stream",
     "text": [
      "890 three digit number\n"
     ]
    }
   ],
   "source": [
    "num=int(input())\n",
    "if len(str(num))==1:\n",
    "    print(num,\"one digit value\")\n",
    "elif len(str(num))==2:\n",
    "    print(num,\"two digit value\")\n",
    "elif len(str(num))==3:\n",
    "    print(num,\"three digit number\")\n",
    "elif len(str(num))>3:\n",
    "    print(num,\"more than 3 digits\")"
   ]
  },
  {
   "cell_type": "markdown",
   "metadata": {},
   "source": [
    "14) WAP to check whether a given collection is a list or tuple or set or character string.\n",
    "if list, append the new value in middle of the list,\n",
    "if tuple, append the new value in starting of the tuple\n",
    "if set, append the new value in set, or else append a new key as given character and values as an ascii value with character."
   ]
  },
  {
   "cell_type": "code",
   "execution_count": 4,
   "metadata": {},
   "outputs": [
    {
     "name": "stdout",
     "output_type": "stream",
     "text": [
      "97\n",
      "a 97\n"
     ]
    }
   ],
   "source": [
    "col=\"hi\"\n",
    "newVal=int(input())\n",
    "if type(col)==list:\n",
    "    col[len(col)//2]=newVal\n",
    "    print(col)\n",
    "elif type(col)==tuple:\n",
    "    col=list(col)\n",
    "    col[0]=newVal\n",
    "    col=tuple(col)\n",
    "    print(col)\n",
    "elif type(col)==set:\n",
    "    col=list(col)\n",
    "    col=col+[newVal]\n",
    "    col=set(col)\n",
    "    print(col)\n",
    "else:\n",
    "    col=newVal\n",
    "    print(col)\n",
    "    print(chr(newVal),newVal)\n"
   ]
  },
  {
   "cell_type": "markdown",
   "metadata": {},
   "source": [
    "15) WAP to check whether a given value is a int or float or string or other, if int, given value division by 5 and display the quotient,\n",
    "if float, perform the bitwise or operation with 15, if string, extract for last position value and store it in first positions of the string, else store the value in the list and display the result."
   ]
  },
  {
   "cell_type": "code",
   "execution_count": 57,
   "metadata": {},
   "outputs": [
    {
     "name": "stdout",
     "output_type": "stream",
     "text": [
      "['k', 'e', 'e', 'r', 't', 'h', 'i']\n"
     ]
    }
   ],
   "source": [
    "given=\"keerthi\"\n",
    "if type(given)==int:\n",
    "    print(given//5)\n",
    "elif type(given)==float:\n",
    "    print(int(given)|15)\n",
    "elif type(given)==str:\n",
    "    given=list(given)\n",
    "    given[0:len(given)//2],given[len(given)//2:]=given[len(given)//2:],given[0:len(given)//2]\n",
    "    given=str(given)\n",
    "    print(given)\n",
    "else:\n",
    "    given=list(given)\n",
    "    print(given)"
   ]
  },
  {
   "cell_type": "markdown",
   "metadata": {},
   "source": [
    "16) WAP to check whether the given character is uppercase or ascii number. \n",
    "If uppercase, to convert to lowercase and concat the next character of a given character or if ascii number, that convert to ascii value and ascii value is subtract by 6, finally value is converted to ascii character display it or else  print invalid input.\n",
    "NESTED IF STATEMENT"
   ]
  },
  {
   "cell_type": "code",
   "execution_count": 34,
   "metadata": {},
   "outputs": [
    {
     "ename": "ValueError",
     "evalue": "invalid literal for int() with base 10: 'A'",
     "output_type": "error",
     "traceback": [
      "\u001b[1;31m---------------------------------------------------------------------------\u001b[0m",
      "\u001b[1;31mValueError\u001b[0m                                Traceback (most recent call last)",
      "Cell \u001b[1;32mIn[34], line 2\u001b[0m\n\u001b[0;32m      1\u001b[0m ch\u001b[38;5;241m=\u001b[39m\u001b[38;5;28minput\u001b[39m()\n\u001b[1;32m----> 2\u001b[0m \u001b[38;5;28;01mif\u001b[39;00m \u001b[38;5;28mtype\u001b[39m(\u001b[38;5;28;43mint\u001b[39;49m\u001b[43m(\u001b[49m\u001b[43mch\u001b[49m\u001b[43m)\u001b[49m)\u001b[38;5;241m==\u001b[39m\u001b[38;5;28mint\u001b[39m:\n\u001b[0;32m      3\u001b[0m     \u001b[38;5;28mprint\u001b[39m(\u001b[38;5;28mint\u001b[39m(ch)\u001b[38;5;241m/\u001b[39m\u001b[38;5;241m/\u001b[39m\u001b[38;5;241m6\u001b[39m)\n\u001b[0;32m      4\u001b[0m     \u001b[38;5;28mprint\u001b[39m(\u001b[38;5;28mchr\u001b[39m(\u001b[38;5;28mint\u001b[39m(ch)))\n",
      "\u001b[1;31mValueError\u001b[0m: invalid literal for int() with base 10: 'A'"
     ]
    }
   ],
   "source": [
    "ch=input()\n",
    "if ch>='A' and ch<='Z':\n",
    "    print(chr(ord(ch)+32))\n",
    "    print(ch+chr(ord(ch)+1))\n",
    "elif :\n",
    "    print(int(ch)//6)\n",
    "    print(chr(int(ch)))\n",
    "else:\n",
    "    print(\"Invalid Output\")"
   ]
  },
  {
   "cell_type": "markdown",
   "metadata": {},
   "source": [
    "17) WAP  to check whether the given number is even or odd,\n",
    "if even, to check whether given value is divisible by 4 or not, if divisible, to display the square of the number,\n",
    "if number is odd, to check whether given number is divisible by 3 and 7 or not,\n",
    "If the condition is satisfied, display the area of the circle. "
   ]
  },
  {
   "cell_type": "code",
   "execution_count": 39,
   "metadata": {},
   "outputs": [
    {
     "name": "stdout",
     "output_type": "stream",
     "text": [
      "odd\n",
      "area of circle 5909.400000000001\n"
     ]
    }
   ],
   "source": [
    "num=int(input())\n",
    "if num%2==0:\n",
    "    print(\"even\")\n",
    "    if(num%4==0):\n",
    "        print(num**2)\n",
    "elif num%2==1:\n",
    "    print(\"odd\")\n",
    "    if num%3==0 and num%7==0:\n",
    "        print(\"area of circle\",13.4*(num**2))"
   ]
  },
  {
   "cell_type": "markdown",
   "metadata": {},
   "source": [
    "18) WAP to check whether the given input alphabet is present in a collection or not if it is present in the collection, check whether that alphabet is uppercase or lowercase if it is uppercase converted into lowercase and vice versa, if the alphabet not present in the collection prints invalid."
   ]
  },
  {
   "cell_type": "code",
   "execution_count": 41,
   "metadata": {},
   "outputs": [
    {
     "name": "stdout",
     "output_type": "stream",
     "text": [
      "Invalid\n"
     ]
    }
   ],
   "source": [
    "col=input()\n",
    "ch=input()\n",
    "if ch in col:\n",
    "    if ch>='A' and ch<='Z':\n",
    "        print(chr(ord(ch)+32))\n",
    "    elif ch>='a' and ch<='z':\n",
    "        print(chr(ord(ch)-32))\n",
    "elif ch not in col:\n",
    "    print(\"Invalid\")\n"
   ]
  },
  {
   "cell_type": "markdown",
   "metadata": {},
   "source": [
    "19) WAP to check whether the given input character is present in a given string collection or not.\n",
    "if it is present, check whether the collection length is even or odd,\n",
    "if it is even print even indexed items of that collection using slicing,  \n",
    "if it is odd, print odd indexed item of that collection, \n",
    "if the character not present in the collection just print that collection."
   ]
  },
  {
   "cell_type": "code",
   "execution_count": 42,
   "metadata": {},
   "outputs": [
    {
     "name": "stdout",
     "output_type": "stream",
     "text": [
      "erh\n"
     ]
    }
   ],
   "source": [
    "str=input()\n",
    "ch=input()\n",
    "if ch in str:\n",
    "    if len(str)%2==0:\n",
    "        print(str[0::2])\n",
    "    elif len(str)%2==1:\n",
    "        print(str[1::2])\n",
    "elif ch not in str:\n",
    "    print(str)\n"
   ]
  },
  {
   "cell_type": "markdown",
   "metadata": {},
   "source": [
    "20) WAP to check whether a given character is alphabet or not, \n",
    "if alphabet to check the given alphabet character is  uppercase or not, \n",
    "if uppercase, to check vowel or not, \n",
    "if vowel to display the next character of given character, \n",
    "if lowercase, to convert to uppercase and display the character, \n",
    "or else the given character is not an alphabet,then to check if the given character is an ascii number or special character, and display the result."
   ]
  },
  {
   "cell_type": "code",
   "execution_count": 48,
   "metadata": {},
   "outputs": [
    {
     "name": "stdout",
     "output_type": "stream",
     "text": [
      "@\n"
     ]
    }
   ],
   "source": [
    "ch=input()\n",
    "if (ch>='A' and ch<='Z') or (ch>='a' and ch<='z'):\n",
    "    if(ch>='A' and ch<='Z'):\n",
    "        print(\"uppercase\")\n",
    "        if ch in \"AEIOU\":\n",
    "            print(chr(ord(ch)+1))\n",
    "    elif (ch>='a' and ch<='z'):\n",
    "        print(chr(ord(ch)-32))\n",
    "    else:\n",
    "        print (\"not an alphabet\")\n",
    "elif not((ch>='A' and ch<='Z') or (ch>='a' and ch<='z')):\n",
    "    print(ch)"
   ]
  },
  {
   "cell_type": "markdown",
   "metadata": {},
   "source": [
    "21) WAP to check whether given value is non primitive or  primitive, \n",
    "If value is non primitive to check, it is mutable or immutable,\n",
    "If mutable, to check if a given value is list or not, \n",
    "if list, replace the middle element into a new element, or dict to extract all the values from the dict, or set to extract the first and last element of the set,\n",
    "If immutable, to convert into mutable and to perform swapping  of first and last elements. Or else if primitive to perform the bitwise not operation."
   ]
  },
  {
   "cell_type": "code",
   "execution_count": 54,
   "metadata": {},
   "outputs": [],
   "source": [
    "val=\"89\"\n",
    "if type(val) not in [int,float,bool,str]:\n",
    "    print(\"non-primitive\")\n",
    "    if (val[0]=val)==val:\n",
    "elif type(val) in [int,float,bool,str]:\n",
    "    print(\"primitive\")\n",
    "    print(~int(val))\n"
   ]
  }
 ],
 "metadata": {
  "kernelspec": {
   "display_name": "Python 3",
   "language": "python",
   "name": "python3"
  },
  "language_info": {
   "codemirror_mode": {
    "name": "ipython",
    "version": 3
   },
   "file_extension": ".py",
   "mimetype": "text/x-python",
   "name": "python",
   "nbconvert_exporter": "python",
   "pygments_lexer": "ipython3",
   "version": "3.12.1"
  }
 },
 "nbformat": 4,
 "nbformat_minor": 2
}
