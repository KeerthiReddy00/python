{
 "cells": [
  {
   "cell_type": "markdown",
   "metadata": {},
   "source": [
    "Assignment on simple if statements\n",
    "---------------------------------------"
   ]
  },
  {
   "cell_type": "code",
   "execution_count": 2,
   "metadata": {},
   "outputs": [
    {
     "name": "stdout",
     "output_type": "stream",
     "text": [
      "it is positive\n"
     ]
    }
   ],
   "source": [
    "num=10\n",
    "if num>0:\n",
    "    print(\"it is positive\")\n",
    "\n",
    "\n"
   ]
  },
  {
   "cell_type": "markdown",
   "metadata": {},
   "source": [
    "2. WAP to display hello world if the number is greater than 1 and lesser than 5"
   ]
  },
  {
   "cell_type": "code",
   "execution_count": 3,
   "metadata": {},
   "outputs": [
    {
     "name": "stdout",
     "output_type": "stream",
     "text": [
      "hello world\n"
     ]
    }
   ],
   "source": [
    "num=4\n",
    "if num>1 and num<5:\n",
    "    print(\"hello world\")"
   ]
  },
  {
   "cell_type": "markdown",
   "metadata": {},
   "source": [
    "3. WAP to check whether the given number is divisible by 3 or not if print fizz."
   ]
  },
  {
   "cell_type": "code",
   "execution_count": 4,
   "metadata": {},
   "outputs": [
    {
     "name": "stdout",
     "output_type": "stream",
     "text": [
      "Fizz\n"
     ]
    }
   ],
   "source": [
    "num=15\n",
    "if num%3==0:\n",
    "    print(\"Fizz\")"
   ]
  },
  {
   "cell_type": "markdown",
   "metadata": {},
   "source": [
    "4. WAP to check whether given input is divisible by 2 and 6. If the condition is satisfied, convert the given number into a complex number."
   ]
  },
  {
   "cell_type": "code",
   "execution_count": 5,
   "metadata": {},
   "outputs": [
    {
     "name": "stdout",
     "output_type": "stream",
     "text": [
      "(12+0j)\n"
     ]
    }
   ],
   "source": [
    "num=12\n",
    "if num%2==0 and num%6==0:\n",
    "    print(complex(num)) "
   ]
  },
  {
   "cell_type": "markdown",
   "metadata": {},
   "source": [
    "5. WAP to check whether a given input is divisible by 3 or 5. If the condition is satisfied, the number is converted to a list.\n",
    "i/p: 30\n",
    "o/p:[‘3’,’0’]"
   ]
  },
  {
   "cell_type": "code",
   "execution_count": 9,
   "metadata": {},
   "outputs": [
    {
     "name": "stdout",
     "output_type": "stream",
     "text": [
      "['1', '5']\n"
     ]
    }
   ],
   "source": [
    "num=15\n",
    "if (num%3==0 or num%5==0):\n",
    "    num=list(str(num))\n",
    "    print(num)"
   ]
  },
  {
   "cell_type": "markdown",
   "metadata": {},
   "source": [
    "6. Write a program to check whether a given number is multiple of 5 or not\n"
   ]
  },
  {
   "cell_type": "code",
   "execution_count": 10,
   "metadata": {},
   "outputs": [
    {
     "name": "stdout",
     "output_type": "stream",
     "text": [
      "it is multiples of 5\n"
     ]
    }
   ],
   "source": [
    "num=15\n",
    "if num%5==0:\n",
    "    print(\"it is multiples of 5\")"
   ]
  },
  {
   "cell_type": "markdown",
   "metadata": {},
   "source": [
    "7. WAP to check whether the given input is 0 or not if 0 prints 0."
   ]
  },
  {
   "cell_type": "code",
   "execution_count": 13,
   "metadata": {},
   "outputs": [
    {
     "name": "stdout",
     "output_type": "stream",
     "text": [
      "0\n"
     ]
    }
   ],
   "source": [
    "num=0\n",
    "if num==0:\n",
    "    print(0)"
   ]
  },
  {
   "cell_type": "markdown",
   "metadata": {},
   "source": [
    "8. WAP to check whether a number is negative. If negative, print a message negative."
   ]
  },
  {
   "cell_type": "code",
   "execution_count": 16,
   "metadata": {},
   "outputs": [
    {
     "name": "stdout",
     "output_type": "stream",
     "text": [
      "it is negative\n"
     ]
    }
   ],
   "source": [
    "num=-1\n",
    "if num<0:\n",
    "    print(\"it is negative\")"
   ]
  },
  {
   "cell_type": "markdown",
   "metadata": {},
   "source": [
    "9. WAP to check whether a number is even or not. If even, store the value inside the\n",
    "list."
   ]
  },
  {
   "cell_type": "code",
   "execution_count": 17,
   "metadata": {},
   "outputs": [
    {
     "name": "stdout",
     "output_type": "stream",
     "text": [
      "['1', '0']\n"
     ]
    }
   ],
   "source": [
    "num=10\n",
    "if num%2==0:\n",
    "    print(list(str(num)))"
   ]
  },
  {
   "cell_type": "markdown",
   "metadata": {},
   "source": [
    "10. WAP to check whether a number is odd or not. If odd, store the value inside the\n",
    "tuple."
   ]
  },
  {
   "cell_type": "code",
   "execution_count": 18,
   "metadata": {},
   "outputs": [
    {
     "name": "stdout",
     "output_type": "stream",
     "text": [
      "('1', '1')\n"
     ]
    }
   ],
   "source": [
    "num=11\n",
    "if num%2==1:\n",
    "    print(tuple(str(num)))"
   ]
  },
  {
   "cell_type": "markdown",
   "metadata": {},
   "source": [
    "11. WAP to check if the given number is even or not. if it is yes, to print the power of 4 in a given number.\n"
   ]
  },
  {
   "cell_type": "code",
   "execution_count": 20,
   "metadata": {},
   "outputs": [
    {
     "name": "stdout",
     "output_type": "stream",
     "text": [
      "10000\n"
     ]
    }
   ],
   "source": [
    "num=10\n",
    "if num%2==0:\n",
    "    print(num**4)"
   ]
  },
  {
   "cell_type": "markdown",
   "metadata": {},
   "source": [
    "12. WAP to take the input from the user as a number and check whether it is a number\n",
    "or not. if yes. take the number and add some value and print it.\n"
   ]
  },
  {
   "cell_type": "code",
   "execution_count": 30,
   "metadata": {},
   "outputs": [
    {
     "name": "stdout",
     "output_type": "stream",
     "text": [
      "20\n"
     ]
    }
   ],
   "source": [
    "num=int(input())\n",
    "if type(num) in [int,float]:\n",
    "    print(num+10)\n"
   ]
  },
  {
   "cell_type": "markdown",
   "metadata": {},
   "source": [
    "13. WAP to check whether a given value is divisible by 5 and 7. If the value is\n",
    "divisible,to display the square of the values.\n"
   ]
  },
  {
   "cell_type": "code",
   "execution_count": 31,
   "metadata": {},
   "outputs": [
    {
     "name": "stdout",
     "output_type": "stream",
     "text": [
      "1225\n"
     ]
    }
   ],
   "source": [
    "num=35\n",
    "if num%5==0 and num%7==0:\n",
    "    print(num**2)"
   ]
  },
  {
   "cell_type": "markdown",
   "metadata": {},
   "source": [
    "14. WAP to check whether the given value's last digit is greater than 5 or not.if greater,to perform the bitwise right shift operator (skipping value is 2)\n"
   ]
  },
  {
   "cell_type": "code",
   "execution_count": 37,
   "metadata": {},
   "outputs": [
    {
     "name": "stdout",
     "output_type": "stream",
     "text": [
      "1\n"
     ]
    }
   ],
   "source": [
    "num=67\n",
    "num1=num%10\n",
    "if num1>5:\n",
    "    print(num1>>2)"
   ]
  },
  {
   "cell_type": "markdown",
   "metadata": {},
   "source": [
    "15. WAP to check whether a given value is divisible by 3 and less than 30. If the value is divisible,to display the square of the values.\n"
   ]
  },
  {
   "cell_type": "code",
   "execution_count": 38,
   "metadata": {},
   "outputs": [
    {
     "name": "stdout",
     "output_type": "stream",
     "text": [
      "225\n"
     ]
    }
   ],
   "source": [
    "num=15\n",
    "if num%3==0 and num<30:\n",
    "    print(num**2)"
   ]
  },
  {
   "cell_type": "markdown",
   "metadata": {},
   "source": [
    "16. WAP to check whether a given value is an even number and divisible by 4. If\n",
    "satisfied ,to display the cube of the values.\n"
   ]
  },
  {
   "cell_type": "code",
   "execution_count": 1,
   "metadata": {},
   "outputs": [
    {
     "name": "stdout",
     "output_type": "stream",
     "text": [
      "1728\n"
     ]
    }
   ],
   "source": [
    "num=12\n",
    "if num%2==0 and num%4==0:\n",
    "    print(num**3)"
   ]
  },
  {
   "cell_type": "markdown",
   "metadata": {},
   "source": [
    "17. WAP to check whether a given value is even or not. If the even number stores the\n",
    "value inside the list.\n"
   ]
  },
  {
   "cell_type": "code",
   "execution_count": 40,
   "metadata": {},
   "outputs": [
    {
     "name": "stdout",
     "output_type": "stream",
     "text": [
      "['1', '2']\n"
     ]
    }
   ],
   "source": [
    "num=12\n",
    "if num%2==0:\n",
    "    print(list(str(num)))"
   ]
  },
  {
   "cell_type": "markdown",
   "metadata": {},
   "source": [
    "18. WAP to check whether a given value is a negative or even number. If satisfied ,to\n",
    "display the last digit of the values.\n"
   ]
  },
  {
   "cell_type": "code",
   "execution_count": 41,
   "metadata": {},
   "outputs": [
    {
     "name": "stdout",
     "output_type": "stream",
     "text": [
      "2\n"
     ]
    }
   ],
   "source": [
    "num=12\n",
    "if num%2==0 or num<0:\n",
    "    print(num%10)"
   ]
  },
  {
   "cell_type": "markdown",
   "metadata": {},
   "source": [
    "19. WAP to check whether a given value is a negative or odd number and divisible by 4.\n",
    "If satisfied ,to display the cube of the values.\n"
   ]
  },
  {
   "cell_type": "code",
   "execution_count": 44,
   "metadata": {},
   "outputs": [
    {
     "name": "stdout",
     "output_type": "stream",
     "text": [
      "1331\n"
     ]
    }
   ],
   "source": [
    "num=11\n",
    "if num%4==0 or num<0 or num%2==1:\n",
    "    print(num**3)"
   ]
  },
  {
   "cell_type": "markdown",
   "metadata": {},
   "source": [
    "20. WAP to check whether a given ascii value is divisible by 4 and even value. If\n",
    "satisfied, to display the ascii character.\n"
   ]
  },
  {
   "cell_type": "code",
   "execution_count": 68,
   "metadata": {},
   "outputs": [
    {
     "name": "stdout",
     "output_type": "stream",
     "text": [
      "p\n"
     ]
    }
   ],
   "source": [
    "ch=112\n",
    "if ch%4==0 and ch%2==0:\n",
    "    print (chr(ch))"
   ]
  },
  {
   "cell_type": "markdown",
   "metadata": {},
   "source": [
    "21. WAP to check whether a given value is present in between 45 to 125 and the number\n",
    "should be divisible by 4 and 5 and even value. If satisfied, to display the ascii\n",
    "character.\n"
   ]
  },
  {
   "cell_type": "code",
   "execution_count": 70,
   "metadata": {},
   "outputs": [
    {
     "name": "stdout",
     "output_type": "stream",
     "text": [
      "d\n"
     ]
    }
   ],
   "source": [
    "val=100\n",
    "if (val>45 and val<125 and val%4==0 and val%5==0 and val%2==0):\n",
    "    print(chr(val)) "
   ]
  },
  {
   "cell_type": "markdown",
   "metadata": {},
   "source": [
    "22. WAP to check whether a given value is present in between 25 to 100 and the number\n",
    "should be divisible by 4 and 5. If satisfied, to display multiplication of given value\n",
    "with 5.\n"
   ]
  },
  {
   "cell_type": "code",
   "execution_count": 72,
   "metadata": {},
   "outputs": [
    {
     "name": "stdout",
     "output_type": "stream",
     "text": [
      "500\n"
     ]
    }
   ],
   "source": [
    "val=100\n",
    "if (val>=25 and val<=100 and val%4==0 and val%5==0):\n",
    "    print(val*5) "
   ]
  },
  {
   "cell_type": "markdown",
   "metadata": {},
   "source": [
    "23. WAP to check whether a given number is an integer and odd number. If the\n",
    "condition is satisfied, the integer is divisible by 5 and displays the result.\n"
   ]
  },
  {
   "cell_type": "code",
   "execution_count": 78,
   "metadata": {},
   "outputs": [
    {
     "name": "stdout",
     "output_type": "stream",
     "text": [
      "True\n"
     ]
    }
   ],
   "source": [
    "val=25\n",
    "if type(val)==int and val%2==1:\n",
    "    print(val%5==0)"
   ]
  },
  {
   "cell_type": "markdown",
   "metadata": {},
   "source": [
    "24. WAP to check whether a given value is an integer or not. If integer, the given value\n",
    "is converted to string and displays the result.\n"
   ]
  },
  {
   "cell_type": "code",
   "execution_count": 3,
   "metadata": {},
   "outputs": [
    {
     "name": "stdout",
     "output_type": "stream",
     "text": [
      "10\n"
     ]
    }
   ],
   "source": [
    "val=10\n",
    "if type(val)==int:\n",
    "    print(str(int(val)))"
   ]
  },
  {
   "cell_type": "markdown",
   "metadata": {},
   "source": [
    "25. WAP to check whether a given value is less than 125 and greater than 60 or not. If\n",
    "the condition is satisfied, take the name and extract the middle character and\n",
    "display it.\n"
   ]
  },
  {
   "cell_type": "code",
   "execution_count": 9,
   "metadata": {},
   "outputs": [
    {
     "name": "stdout",
     "output_type": "stream",
     "text": [
      "t\n"
     ]
    }
   ],
   "source": [
    "ch=100\n",
    "if ch>60 and ch<125:\n",
    "    name=\"satya\"\n",
    "    if len(name)%2==1:\n",
    "        mid=len(name)//2\n",
    "        midchar=name[mid]\n",
    "        print(midchar)\n",
    "    "
   ]
  },
  {
   "cell_type": "markdown",
   "metadata": {},
   "source": [
    "26.WAP to check whether a given two integers are equal or not. If both are equal, to\n",
    "perform addition and display the result."
   ]
  },
  {
   "cell_type": "code",
   "execution_count": null,
   "metadata": {},
   "outputs": [],
   "source": [
    "n1=int(input())\n",
    "n2=int(input())\n",
    "if n1== n2:\n",
    "    print(n1+n2)"
   ]
  },
  {
   "cell_type": "markdown",
   "metadata": {},
   "source": [
    "27.WAP to check whether two values are equal or not. if equal, to perform\n",
    "multiplication of two numbers and that result is division by 3 and display the value."
   ]
  },
  {
   "cell_type": "code",
   "execution_count": null,
   "metadata": {},
   "outputs": [],
   "source": [
    "n1=int(input())\n",
    "n2=int(input())\n",
    "if n1== n2:\n",
    "    mul=n1*n2\n",
    "    print(mul)\n",
    "    div=mul/3\n",
    "    print(div)\n",
    "else: print(\"not equal\")"
   ]
  },
  {
   "cell_type": "markdown",
   "metadata": {},
   "source": [
    "28.WAP to check whether a character is in the alphabet or not. If the alphabet, store the\n",
    "value inside the dict(key as a character and value as an ascii value)."
   ]
  },
  {
   "cell_type": "code",
   "execution_count": null,
   "metadata": {},
   "outputs": [],
   "source": [
    "alphabet_dict={}\n",
    "char=input()\n",
    "if ((char>='A' and char<='Z') or char>='a' and char<='z'):\n",
    "    ascii_value=ord(char)\n",
    "    alphabet_dict[char]=ascii_value\n",
    "    print(char,str(ascii_value),sep=':')\n",
    "    "
   ]
  },
  {
   "cell_type": "markdown",
   "metadata": {},
   "source": [
    "29.WAP to check whether a character is in the uppercase or not. If the uppercase, store\n",
    "the value inside the dict(key as a character and value as an ascii value)."
   ]
  },
  {
   "cell_type": "code",
   "execution_count": null,
   "metadata": {},
   "outputs": [],
   "source": [
    "alphabet_dict={}\n",
    "char=input()\n",
    "if ((char>='A' and char<='Z')):\n",
    "    ascii_value=ord(char)\n",
    "    alphabet_dict[char]=ascii_value\n",
    "    print(char,str(ascii_value),sep=':')\n"
   ]
  },
  {
   "cell_type": "markdown",
   "metadata": {},
   "source": [
    "30.WAP to check whether a character is in the uppercase or not. If the uppercase,\n",
    "convert to lowercase and store the value inside the dict(character as a key and ascii\n",
    "value as a value)."
   ]
  },
  {
   "cell_type": "code",
   "execution_count": null,
   "metadata": {},
   "outputs": [],
   "source": [
    "alphabet_dict={}\n",
    "char=input()\n",
    "if ((char>='A' and char<='Z')):\n",
    "    char=chr(ord(char)+32)\n",
    "    ascii_value=ord(char)\n",
    "    alphabet_dict[char]=ascii_value\n",
    "    print(char,str(ascii_value),sep=':')\n"
   ]
  },
  {
   "cell_type": "markdown",
   "metadata": {},
   "source": [
    "31.WAP to check whether a character is in the lowercase or not. If the lowercase, to\n",
    "perform the replication operation on that character.\n"
   ]
  },
  {
   "cell_type": "code",
   "execution_count": null,
   "metadata": {},
   "outputs": [],
   "source": [
    "char=input()\n",
    "if ((char>='a' and char<='z')):\n",
    "    char=chr(ord(char)-32)\n",
    "    print(char)\n",
    "    char=list(char)\n",
    "    print(char*2)\n",
    "    "
   ]
  },
  {
   "cell_type": "markdown",
   "metadata": {},
   "source": [
    "32.WAP to check whether a character is in the ascii number or not. If the ascii number,\n",
    "to convert into integer."
   ]
  },
  {
   "cell_type": "code",
   "execution_count": null,
   "metadata": {},
   "outputs": [],
   "source": [
    "char=input()\n",
    "if char>='0' and char<='9':\n",
    "    print(int(ord(char)))\n",
    "    "
   ]
  },
  {
   "cell_type": "markdown",
   "metadata": {},
   "source": [
    "33.wAP to check whether a character is in the special symbol or not. If the special\n",
    "symbol, to display a symbol with ascii value.\n"
   ]
  },
  {
   "cell_type": "code",
   "execution_count": null,
   "metadata": {},
   "outputs": [],
   "source": [
    "char=input()\n",
    "if not((char>='a' and char<='z')or (char>='A' and char<='Z') or (char>='0' and char<='9')):\n",
    "    print(char,ord(char),sep='-->')\n",
    "    "
   ]
  },
  {
   "cell_type": "markdown",
   "metadata": {},
   "source": [
    "34.WAP to check whether a character is an even number or not. If the even number, to\n",
    "display an even number."
   ]
  },
  {
   "cell_type": "code",
   "execution_count": null,
   "metadata": {},
   "outputs": [],
   "source": [
    "char=input()\n",
    "if char>='0' and char<='9' and int(char)%2==0:\n",
    "    print(char)\n",
    "    "
   ]
  },
  {
   "cell_type": "markdown",
   "metadata": {},
   "source": [
    "35.WAP to check whether a Given two integers a and b, if any of the integers is 10 or if\n",
    "their sum is 10, to perform the sum of the numbers and to display the square of the\n",
    "result.\n"
   ]
  },
  {
   "cell_type": "code",
   "execution_count": null,
   "metadata": {},
   "outputs": [],
   "source": [
    "n1=int(input())\n",
    "n2=int(input())\n",
    "if (n1==10 or n2==10) or (n1+n2)==10:\n",
    "    n3=n1+n2\n",
    "    print(n3**2)"
   ]
  },
  {
   "cell_type": "markdown",
   "metadata": {},
   "source": [
    "36.WAP to check whether a character is in the vowel or not. If the vowel,print the next\n",
    "character."
   ]
  },
  {
   "cell_type": "code",
   "execution_count": null,
   "metadata": {},
   "outputs": [],
   "source": [
    "char=input()\n",
    "if ((char == 'a' or char == 'A') or (char == 'e' or char == 'E')or (char == 'i' or char == 'I') or (char == 'o' or char == 'O') or (char == 'u' or char == 'U')):\n",
    "    next_char = chr(ord(char)+1)\n",
    "    print(next_char)\n"
   ]
  },
  {
   "cell_type": "markdown",
   "metadata": {},
   "source": [
    "37. WAP to check whether a character is in the not a vowel. If it's not a vowel,print the\n",
    "previous character."
   ]
  },
  {
   "cell_type": "code",
   "execution_count": null,
   "metadata": {},
   "outputs": [],
   "source": [
    "char=input()\n",
    "if not(((char == 'a' or char == 'A') or (char == 'e' or char == 'E')or (char == 'i' or char == 'I') or (char == 'o' or char == 'O') or (char == 'u' or char == 'U'))):\n",
    "    next_char = chr(ord(char)-1)\n",
    "    print(next_char)\n",
    "\n",
    "\n"
   ]
  },
  {
   "cell_type": "markdown",
   "metadata": {},
   "source": [
    "38.WAP to check whether a given value is a single value data type or not. If single\n",
    "value, display the given value as a single value data type"
   ]
  },
  {
   "cell_type": "code",
   "execution_count": null,
   "metadata": {},
   "outputs": [],
   "source": [
    "n=float(input())\n",
    "print(type(n))\n",
    "if ((type(n) == int) or(type(n)== float) or (type(n) == bool) or (type(n) == complex)):\n",
    "    print(\"single valued datatype\")\n"
   ]
  },
  {
   "cell_type": "markdown",
   "metadata": {},
   "source": [
    "39. WAP to check whether a given value is a multi-value data type or not. If multi value,\n",
    "store the given value inside the tuple and display it."
   ]
  },
  {
   "cell_type": "code",
   "execution_count": null,
   "metadata": {},
   "outputs": [],
   "source": [
    "tuple1=()\n",
    "n=input()\n",
    "if type(n) in[str,tuple,list,dict]:\n",
    "    tuple1=n\n",
    "    tuple1=tuple(str)\n",
    "    print(tuple1)"
   ]
  },
  {
   "cell_type": "markdown",
   "metadata": {},
   "source": [
    "40.WAP to check whether a given value is an immutable data type or not. If an\n",
    "immutable data type value, store the given value inside the set and display it."
   ]
  },
  {
   "cell_type": "code",
   "execution_count": 2,
   "metadata": {},
   "outputs": [
    {
     "name": "stdout",
     "output_type": "stream",
     "text": [
      "{'i', 'e', 'k', 't', 'h', 'r'}\n"
     ]
    }
   ],
   "source": [
    "ch=\"keerthi\"\n",
    "if type(ch)==str or type(ch)==list or type(ch)==tuple or type(ch)==dict:\n",
    "    print(set(str(ch)))"
   ]
  },
  {
   "cell_type": "markdown",
   "metadata": {},
   "source": [
    "41. WAP to check whether the middle element of a given list is odd or not. If it is odd\n",
    "then print odd then print the number else directly print the number\n",
    "\n"
   ]
  },
  {
   "cell_type": "code",
   "execution_count": 7,
   "metadata": {},
   "outputs": [
    {
     "name": "stdout",
     "output_type": "stream",
     "text": [
      "odd\n",
      "3\n"
     ]
    }
   ],
   "source": [
    "li=[1,2,3,4,5,6]\n",
    "mid=len(li)\n",
    "mid1=mid//2\n",
    "if mid1%2==1:\n",
    "    print(\"odd\")\n",
    "print(mid1)\n",
    "\n",
    "\n"
   ]
  },
  {
   "cell_type": "markdown",
   "metadata": {},
   "source": [
    "42. WAP Return a new string with \"not\" prefixed to the front of the original string. Return the string unmodified if the string already has the word \"not\" at the beginning.\n",
    "\n"
   ]
  },
  {
   "cell_type": "code",
   "execution_count": 9,
   "metadata": {},
   "outputs": [
    {
     "name": "stdout",
     "output_type": "stream",
     "text": [
      "notsatya\n",
      "satya\n"
     ]
    }
   ],
   "source": [
    "st=\"satya\"\n",
    "if \"not\" not in st:\n",
    "    print(\"notsatya\")\n",
    "print(st)\n",
    "\n"
   ]
  },
  {
   "cell_type": "markdown",
   "metadata": {},
   "source": [
    "43. WAP to check whether the two variables are pointing to the same memory location\n",
    "or not if they are pointing to the same memory location then print the address of\n",
    "both the variables.\n"
   ]
  },
  {
   "cell_type": "code",
   "execution_count": 2,
   "metadata": {},
   "outputs": [
    {
     "name": "stdout",
     "output_type": "stream",
     "text": [
      "140734231296728\n",
      "140734231296728\n"
     ]
    }
   ],
   "source": [
    "a=10\n",
    "b=10\n",
    "if a is b:\n",
    "    print(id(a))\n",
    "    print(id(b))\n"
   ]
  },
  {
   "cell_type": "markdown",
   "metadata": {},
   "source": [
    "44. WAP to check whether the given length of the string is even or not. If the condition is satisfied, display the sequence of characters from zero position to length of\n",
    "collection -2.\n"
   ]
  },
  {
   "cell_type": "code",
   "execution_count": 5,
   "metadata": {},
   "outputs": [
    {
     "name": "stdout",
     "output_type": "stream",
     "text": [
      "saty\n"
     ]
    }
   ],
   "source": [
    "c=input()\n",
    "if len(c)%2==0:\n",
    "    l=len(c)\n",
    "    print(c[0:(l-2)])"
   ]
  },
  {
   "cell_type": "markdown",
   "metadata": {},
   "source": [
    "45. WAP to check whether the two given strings are having the same values or not. If\n",
    "both are not the same values then swap the values of one variable to another\n",
    "variable after swapping print the two values.\n"
   ]
  },
  {
   "cell_type": "code",
   "execution_count": 6,
   "metadata": {},
   "outputs": [
    {
     "name": "stdout",
     "output_type": "stream",
     "text": [
      "156\n",
      "123\n"
     ]
    }
   ],
   "source": [
    "s1=input()\n",
    "s2=input()\n",
    "if s1==s2:\n",
    "    print(\"both have same values\")\n",
    "else:\n",
    "    s1,s2=s2,s1\n",
    "    print(s1)\n",
    "    print(s2)\n"
   ]
  },
  {
   "cell_type": "markdown",
   "metadata": {},
   "source": [
    "46. WAP to check whether a given character is a special symbol or not. If satisfied,\n",
    "store the symbol as a key and value as a ascii value of the given character inside the\n",
    "dictionary.\n"
   ]
  },
  {
   "cell_type": "code",
   "execution_count": 8,
   "metadata": {},
   "outputs": [
    {
     "name": "stdout",
     "output_type": "stream",
     "text": [
      "{'$': 36}\n"
     ]
    }
   ],
   "source": [
    "c=input()\n",
    "if not((c>='a' and c<='z') or (c>='A' and c<='Z') or (c>='0' and c<='9')):\n",
    "    print(dict({c:ord(c)}))\n",
    "   "
   ]
  },
  {
   "cell_type": "markdown",
   "metadata": {},
   "source": [
    "47. WAP to check whether a given key is not present in the dictionary or not. If the key is not present, append the new key inside the dictionary.\n",
    "\n"
   ]
  },
  {
   "cell_type": "code",
   "execution_count": 10,
   "metadata": {},
   "outputs": [
    {
     "name": "stdout",
     "output_type": "stream",
     "text": [
      "{'a': 1, 'b': 2, 'c': 3, 'd': 4}\n"
     ]
    }
   ],
   "source": [
    "d={'a':1,'b':2,\"c\":3}\n",
    "k=input()\n",
    "if k in d:\n",
    "    print(\"present\")\n",
    "else:\n",
    "    newkey=4\n",
    "    d[k]=newkey\n",
    "    print(d)\n"
   ]
  },
  {
   "cell_type": "markdown",
   "metadata": {},
   "source": [
    "48. WAP whether a given string, and it displays a new string with the first and last\n",
    "characters switched."
   ]
  },
  {
   "cell_type": "code",
   "execution_count": 11,
   "metadata": {},
   "outputs": [
    {
     "name": "stdout",
     "output_type": "stream",
     "text": [
      "aatys\n"
     ]
    }
   ],
   "source": [
    "s=input()\n",
    "s1=s[-1]+s[1:-1]+s[0]\n",
    "if s1==s1:\n",
    "    print(s1)\n",
    "\n"
   ]
  },
  {
   "cell_type": "markdown",
   "metadata": {},
   "source": [
    "49. WAP to check whether the last digit should be 2 in the given number then print the\n",
    "last digit.\n"
   ]
  },
  {
   "cell_type": "code",
   "execution_count": 13,
   "metadata": {},
   "outputs": [
    {
     "name": "stdout",
     "output_type": "stream",
     "text": [
      "2\n"
     ]
    }
   ],
   "source": [
    "n=int(input())\n",
    "if n%10==2:\n",
    "    print(n%10)"
   ]
  },
  {
   "cell_type": "markdown",
   "metadata": {},
   "source": [
    "50. WAP to check whether a Given two integers a and b, if any of the integers is 10 or if\n",
    "their sum is 10, to perform the sum of the numbers and to display the square of the\n",
    "result.\n"
   ]
  },
  {
   "cell_type": "code",
   "execution_count": 15,
   "metadata": {},
   "outputs": [
    {
     "name": "stdout",
     "output_type": "stream",
     "text": [
      "400\n"
     ]
    }
   ],
   "source": [
    "a=int(input())\n",
    "b=int(input())\n",
    "if (a==10 or b==10 or a+b==10):\n",
    "    print((a+b)**2)"
   ]
  },
  {
   "cell_type": "markdown",
   "metadata": {},
   "source": [
    "51. WAP to check whether a given string(str) and one integer(n) value, to display a new\n",
    "string that is devoid of the character at index n. if you are given a non-empty string\n",
    "and an int n. The value of n will be a legitimate character index from the original\n",
    "string, therefore it will fall within the range of 0 to len(str)-1, inclusive.\n"
   ]
  },
  {
   "cell_type": "code",
   "execution_count": 19,
   "metadata": {},
   "outputs": [],
   "source": [
    "st=input()\n",
    "n=int(input())\n",
    "if 0<=n <len(st):\n",
    "    nst=st[:n]+st[n+1:]\n",
    "    print(nst)"
   ]
  },
  {
   "cell_type": "markdown",
   "metadata": {},
   "source": [
    "52. WAP to check whether both string collections are equal or not if it is not equal print the both strings along with the length of a string if both are equal ignore it"
   ]
  },
  {
   "cell_type": "code",
   "execution_count": 22,
   "metadata": {},
   "outputs": [
    {
     "name": "stdout",
     "output_type": "stream",
     "text": [
      "satya 5\n",
      "parthu 6\n"
     ]
    }
   ],
   "source": [
    "st1=input()\n",
    "st2=input()\n",
    "if not(st1==st2):\n",
    "    print(st1,len(st1))\n",
    "    print(st2,len(st2))"
   ]
  }
 ],
 "metadata": {
  "kernelspec": {
   "display_name": "Python 3",
   "language": "python",
   "name": "python3"
  },
  "language_info": {
   "codemirror_mode": {
    "name": "ipython",
    "version": 3
   },
   "file_extension": ".py",
   "mimetype": "text/x-python",
   "name": "python",
   "nbconvert_exporter": "python",
   "pygments_lexer": "ipython3",
   "version": "3.12.1"
  }
 },
 "nbformat": 4,
 "nbformat_minor": 2
}
