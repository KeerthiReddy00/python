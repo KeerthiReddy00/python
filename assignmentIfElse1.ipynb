{
 "cells": [
  {
   "cell_type": "code",
   "execution_count": 2,
   "metadata": {},
   "outputs": [
    {
     "name": "stdout",
     "output_type": "stream",
     "text": [
      "negative\n"
     ]
    }
   ],
   "source": [
    "num=int(input())\n",
    "if num>0 :\n",
    "    print(\"positive\")\n",
    "else:\n",
    "    print(\"negative\")"
   ]
  },
  {
   "cell_type": "markdown",
   "metadata": {},
   "source": [
    "WAP to check whether a number is even or odd. If even, print message an even or\n",
    "else print message as odd."
   ]
  },
  {
   "cell_type": "code",
   "execution_count": 3,
   "metadata": {},
   "outputs": [
    {
     "name": "stdout",
     "output_type": "stream",
     "text": [
      "even\n"
     ]
    }
   ],
   "source": [
    "num=int(input())\n",
    "if num%2==0 :\n",
    "    print(\"even\")\n",
    "else:\n",
    "    print(\"odd\")\n",
    "    "
   ]
  },
  {
   "cell_type": "markdown",
   "metadata": {},
   "source": [
    " Write a program to check whether a given number is greater than 10 or not. if it is\n",
    "greater than 10 print message as greater or else print that number with not a greater\n",
    "than."
   ]
  },
  {
   "cell_type": "code",
   "execution_count": 4,
   "metadata": {},
   "outputs": [
    {
     "name": "stdout",
     "output_type": "stream",
     "text": [
      "greater\n"
     ]
    }
   ],
   "source": [
    "num=int(input())\n",
    "if num>10:\n",
    "   print(\"greater\")\n",
    "else:\n",
    "   print(\"not greater\")\n",
    "    "
   ]
  },
  {
   "cell_type": "markdown",
   "metadata": {},
   "source": [
    "WAP to check whether a given value is present in between 45 to 125. If value is\n",
    "present print the ascii character."
   ]
  },
  {
   "cell_type": "code",
   "execution_count": 8,
   "metadata": {},
   "outputs": [
    {
     "name": "stdout",
     "output_type": "stream",
     "text": [
      "|\n"
     ]
    }
   ],
   "source": [
    "num=int(input())\n",
    "if num>45 and num<125:\n",
    "    print(chr(num))\n",
    "else:\n",
    "    print(\"not present between 45 and 125\")\n",
    "\n"
   ]
  },
  {
   "cell_type": "markdown",
   "metadata": {},
   "source": [
    " WAP to check whether the given two input numbers are divisible by 3 and 5. If it is\n",
    "divisible, print “Good Morning”, if it is not print “Good Evening”."
   ]
  },
  {
   "cell_type": "code",
   "execution_count": 9,
   "metadata": {},
   "outputs": [
    {
     "name": "stdout",
     "output_type": "stream",
     "text": [
      "good morning\n"
     ]
    }
   ],
   "source": [
    "num=int(input())\n",
    "if num%3==0 and num%5==0:\n",
    "    print(\"good morning\")\n",
    "else:\n",
    "    print(\"good evening\")"
   ]
  },
  {
   "cell_type": "markdown",
   "metadata": {},
   "source": [
    "WAP to accept two integers and check whether they are equal or not.\n",
    "If equal, multiply to value or quotation value and display it.\n"
   ]
  },
  {
   "cell_type": "code",
   "execution_count": 10,
   "metadata": {},
   "outputs": [
    {
     "name": "stdout",
     "output_type": "stream",
     "text": [
      "16\n"
     ]
    }
   ],
   "source": [
    "num1=int (input())\n",
    "num2=int(input())\n",
    "if num1==num2:\n",
    "    print(num1*num2)\n",
    "else:\n",
    "    print(\"not equal\")"
   ]
  },
  {
   "cell_type": "markdown",
   "metadata": {},
   "source": [
    " WAP to find the largest of two numbers.\n"
   ]
  },
  {
   "cell_type": "code",
   "execution_count": 11,
   "metadata": {},
   "outputs": [
    {
     "name": "stdout",
     "output_type": "stream",
     "text": [
      "9\n"
     ]
    }
   ],
   "source": [
    "num1=int(input())\n",
    "num2=int(input())\n",
    "if num1>num2:\n",
    "    print(num1)\n",
    "else:\n",
    "     print(num2)"
   ]
  },
  {
   "cell_type": "markdown",
   "metadata": {},
   "source": [
    "WAP to check whether the input number is greater than 10 or not if it is greater than\n",
    "10 print messages as greater with print that number. if that number is not greater\n",
    "than 10 print that number."
   ]
  },
  {
   "cell_type": "code",
   "execution_count": 12,
   "metadata": {},
   "outputs": [
    {
     "name": "stdout",
     "output_type": "stream",
     "text": [
      "12\n",
      "greater than 10\n"
     ]
    }
   ],
   "source": [
    "num1=int(input())\n",
    "if num>10:\n",
    "    print(num1)\n",
    "    print(\"greater than 10\")\n",
    "else:\n",
    "    print(\"not greater\")\n"
   ]
  },
  {
   "cell_type": "markdown",
   "metadata": {},
   "source": [
    " WAP to the given number integer, if n is greater than 21,print the absolute\n",
    "difference between n and 21 otherwise print twice the absolute difference.\n"
   ]
  },
  {
   "cell_type": "code",
   "execution_count": 14,
   "metadata": {},
   "outputs": [
    {
     "name": "stdout",
     "output_type": "stream",
     "text": [
      "12\n"
     ]
    }
   ],
   "source": [
    "num=int(input())\n",
    "if num>21:\n",
    "    print(num-21)\n",
    "else:\n",
    "    print((21-num)*2)"
   ]
  },
  {
   "cell_type": "markdown",
   "metadata": {},
   "source": [
    "WAP to find the smallest of two numbers."
   ]
  },
  {
   "cell_type": "code",
   "execution_count": 15,
   "metadata": {},
   "outputs": [
    {
     "name": "stdout",
     "output_type": "stream",
     "text": [
      "6\n"
     ]
    }
   ],
   "source": [
    "num1=int(input())\n",
    "num2=int(input())\n",
    "if num1<num2:\n",
    "    print(num1)\n",
    "else:\n",
    "     print(num2)"
   ]
  },
  {
   "cell_type": "markdown",
   "metadata": {},
   "source": [
    "WAP to check whether the given number is even or odd. If it is even then make it as\n",
    "an add number, if it is an odd number then make it as even number.\n"
   ]
  },
  {
   "cell_type": "code",
   "execution_count": 17,
   "metadata": {},
   "outputs": [
    {
     "name": "stdout",
     "output_type": "stream",
     "text": [
      "9\n"
     ]
    }
   ],
   "source": [
    "num=int(input())\n",
    "if num%2==0:\n",
    "    print(num+1)\n",
    "else:\n",
    "    print(num-1)"
   ]
  },
  {
   "cell_type": "markdown",
   "metadata": {},
   "source": [
    "wAP to check whether the given number is divisible by 3 or not if yes,print the\n",
    "number or else print the cube of the numbers."
   ]
  },
  {
   "cell_type": "code",
   "execution_count": 18,
   "metadata": {},
   "outputs": [
    {
     "name": "stdout",
     "output_type": "stream",
     "text": [
      "8\n"
     ]
    }
   ],
   "source": [
    "num=int(input())\n",
    "if num%3==0:\n",
    "    print(num)\n",
    "else:\n",
    "    print(num**3)"
   ]
  },
  {
   "cell_type": "markdown",
   "metadata": {},
   "source": [
    "\n",
    "65. WAP to check whether the given input is divisible by 3 and 5. If yes print the actual\n",
    "number or else print string of that number.\n"
   ]
  },
  {
   "cell_type": "code",
   "execution_count": 21,
   "metadata": {},
   "outputs": [
    {
     "name": "stdout",
     "output_type": "stream",
     "text": [
      "<class 'str'> 7\n"
     ]
    }
   ],
   "source": [
    "num=int(input())\n",
    "if num%3==0 and num%5==0:\n",
    "    print(num)\n",
    "else:\n",
    "    n=str(num)\n",
    "    print(type(n),num)"
   ]
  },
  {
   "cell_type": "markdown",
   "metadata": {},
   "source": [
    "WAP to check whether the given number lies between 1 to 19, if it is true square that\n",
    "number or else false cube that number and display the number"
   ]
  },
  {
   "cell_type": "code",
   "execution_count": 23,
   "metadata": {},
   "outputs": [
    {
     "name": "stdout",
     "output_type": "stream",
     "text": [
      "10648\n",
      "22\n"
     ]
    }
   ],
   "source": [
    "num=int(input())\n",
    "if num>1 and num<19:\n",
    "  print(num**2)\n",
    "else:\n",
    "  print(num**3)\n",
    "  print(num)\n"
   ]
  },
  {
   "cell_type": "markdown",
   "metadata": {},
   "source": [
    "WAP to check whether the student has passed or failed. If the student got more than\n",
    "40 marks, print ‘PASS’ along with those marks, if it is not printed ‘FAIL’ along with\n",
    "those marks."
   ]
  },
  {
   "cell_type": "code",
   "execution_count": 25,
   "metadata": {},
   "outputs": [
    {
     "name": "stdout",
     "output_type": "stream",
     "text": [
      "25 fail\n"
     ]
    }
   ],
   "source": [
    "marks=int(input(\"enter your marks\"))\n",
    "if marks>40:\n",
    "    print(marks,\"pass\")\n",
    "else:\n",
    "    print(marks,\"fail\")\n",
    "\n"
   ]
  },
  {
   "cell_type": "markdown",
   "metadata": {},
   "source": [
    " WAP to check whether a given value is even and in range of 47 to 58 and not in 0 or\n",
    "odd. if condition is True, to perform display the ascii character.or else to perform\n",
    "floor division with 5 and display it."
   ]
  },
  {
   "cell_type": "code",
   "execution_count": 28,
   "metadata": {},
   "outputs": [
    {
     "name": "stdout",
     "output_type": "stream",
     "text": [
      "8\n"
     ]
    }
   ],
   "source": [
    "num=int(input())\n",
    "if (num%2==0 and num>=47 and num<=58 and num!=0 ):\n",
    "    print(chr(num))\n",
    "else:\n",
    "    print(num//5)"
   ]
  },
  {
   "cell_type": "markdown",
   "metadata": {},
   "source": [
    "WAP to check whether a given value is less than 125 and in between 47 to 125 or not.\n",
    "if condition is True, to perform store the given value as key and value as a character\n",
    "into the dict.or else to append the value in list and display it."
   ]
  },
  {
   "cell_type": "code",
   "execution_count": 44,
   "metadata": {},
   "outputs": [
    {
     "name": "stdout",
     "output_type": "stream",
     "text": [
      "[126, 0, 0]\n"
     ]
    }
   ],
   "source": [
    "num=int(input())\n",
    "if num> 47 and num<125:\n",
    "   l=[[0,0]]\n",
    "   l[0][0]=num\n",
    "   l[0][1]=chr(num)\n",
    "   print(l)\n",
    "   res=dict(l)\n",
    "   print(res)\n",
    "   print(type(res))\n",
    "else:\n",
    "  l=[0,0,0]\n",
    "  l[0]=num\n",
    "  print(l)\n"
   ]
  },
  {
   "cell_type": "markdown",
   "metadata": {},
   "source": [
    " WAP to check whether a given character is in the alphabet or not. if alphabet,\n",
    "display the alphabet with character.or else display the not alphabet with character."
   ]
  },
  {
   "cell_type": "code",
   "execution_count": 109,
   "metadata": {},
   "outputs": [
    {
     "name": "stdout",
     "output_type": "stream",
     "text": [
      "k\n",
      "alphabet\n"
     ]
    }
   ],
   "source": [
    "ch=input()\n",
    "if ch>='A' and ch<='z'or ch>='a' and ch<='z':\n",
    "    print(ch)\n",
    "    print(\"alphabet\")\n",
    "else:\n",
    "    print(\"not a alphabet\")\n",
    "    print(ch)\n",
    " "
   ]
  },
  {
   "cell_type": "markdown",
   "metadata": {},
   "source": [
    "WAP to check whether a given character is uppercase or other character. if\n",
    "uppercase, display the uppercase with character.or else display the other character\n",
    "with character."
   ]
  },
  {
   "cell_type": "code",
   "execution_count": 108,
   "metadata": {},
   "outputs": [
    {
     "name": "stdout",
     "output_type": "stream",
     "text": [
      "not a uppercase\n",
      "j\n"
     ]
    }
   ],
   "source": [
    "ch=input()\n",
    "if ch>='A' and ch<='Z':\n",
    "    print(\"uppercase\")\n",
    "    print(ch)\n",
    "else:\n",
    "    print(\"not a uppercase\")\n",
    "    print(ch)"
   ]
  },
  {
   "cell_type": "code",
   "execution_count": 107,
   "metadata": {},
   "outputs": [
    {
     "name": "stdout",
     "output_type": "stream",
     "text": [
      "lowercase\n",
      "l\n"
     ]
    }
   ],
   "source": [
    "ch=input()\n",
    "if ch>='a' and ch<='z':\n",
    "    print(\"lowercase\")\n",
    "    print(ch)\n",
    "else:\n",
    "    print(\"not a lowercase\")\n",
    "    print(ch)\n"
   ]
  },
  {
   "cell_type": "markdown",
   "metadata": {},
   "source": [
    "WAP to check whether a given character is uppercase or other character. if\n",
    "uppercase, convert to lowercase .or else display the ascii number.\n"
   ]
  },
  {
   "cell_type": "code",
   "execution_count": 112,
   "metadata": {},
   "outputs": [
    {
     "name": "stdout",
     "output_type": "stream",
     "text": [
      "104\n"
     ]
    }
   ],
   "source": [
    "ch=input()\n",
    "if ch>='A' and ch<='Z':\n",
    "    ascii1=ord(ch)\n",
    "    ascii2=(ascii1-32)\n",
    "    print(chr(ascii2))\n",
    "else:\n",
    "    print(ord(ch))\n"
   ]
  },
  {
   "cell_type": "code",
   "execution_count": null,
   "metadata": {},
   "outputs": [
    {
     "name": "stdout",
     "output_type": "stream",
     "text": [
      "107\n"
     ]
    }
   ],
   "source": [
    "ch1=input()\n",
    "if ch1>='A' and ch1<='Z':\n",
    "    print(chr(ord(ch)+32)) \n",
    "else:\n",
    "    print(ord(ch1))"
   ]
  },
  {
   "cell_type": "markdown",
   "metadata": {},
   "source": [
    "WAP to check whether the given character is in lowercase or uppercase. If it is in\n",
    "lowercase, convert it into uppercase, or else it is in uppercase and convert it into\n",
    "lowercase. Display the value."
   ]
  },
  {
   "cell_type": "code",
   "execution_count": null,
   "metadata": {},
   "outputs": [
    {
     "name": "stdout",
     "output_type": "stream",
     "text": [
      "uppercase\n",
      "s\n"
     ]
    }
   ],
   "source": [
    "ch=input()\n",
    "if ch>='A' and ch<='Z':\n",
    "    print(\"uppercase\")\n",
    "    print(chr(ord(ch)+32))\n",
    "else:\n",
    "    print(\"lowercase\")\n",
    "    print(chr(ord(ch)-32))"
   ]
  },
  {
   "cell_type": "markdown",
   "metadata": {},
   "source": [
    "WAP to check whether the given string of the first character is a special symbol or\n",
    "not. If a special symbol, to extract and display the middle character or else to\n",
    "reverse the string and display the half of the string"
   ]
  },
  {
   "cell_type": "code",
   "execution_count": 98,
   "metadata": {},
   "outputs": [
    {
     "name": "stdout",
     "output_type": "stream",
     "text": [
      "ihtreek\n",
      "kee\n"
     ]
    }
   ],
   "source": [
    "st=input()\n",
    "if not((st[0]>='a' and st[0]<='z') or (st[0]>='A' and st[0]<='Z') or (st[0]>='0' and st[0]<='9')):\n",
    "    print(st[len(st)//2])\n",
    "else:\n",
    "    print(st[::-1])\n",
    "    print(st[0:len(st)//2:1])"
   ]
  },
  {
   "cell_type": "markdown",
   "metadata": {},
   "source": [
    "WAP to check whether the input character is a vowel or not. If it is vowel print\n",
    "‘VOWEL’ along with that character, if it is not just print ‘CONSONANT’"
   ]
  },
  {
   "cell_type": "code",
   "execution_count": null,
   "metadata": {},
   "outputs": [
    {
     "name": "stdout",
     "output_type": "stream",
     "text": [
      "CONSONENT\n"
     ]
    }
   ],
   "source": [
    "ch=input()\n",
    "st=\"aeiouAEIOU\"\n",
    "if ch in st:\n",
    "    print(\"VOWEL\")\n",
    "    print(ch)\n",
    "else:\n",
    "    print(\"CONSONENT\")"
   ]
  },
  {
   "cell_type": "markdown",
   "metadata": {},
   "source": [
    "WAP to check whether a given character is a vowel or consonant. if vowel,to print\n",
    "the next character of a given character or else print previous characters."
   ]
  },
  {
   "cell_type": "code",
   "execution_count": 115,
   "metadata": {},
   "outputs": [
    {
     "ename": "TypeError",
     "evalue": "'str' object is not callable",
     "output_type": "error",
     "traceback": [
      "\u001b[1;31m---------------------------------------------------------------------------\u001b[0m",
      "\u001b[1;31mTypeError\u001b[0m                                 Traceback (most recent call last)",
      "Cell \u001b[1;32mIn[115], line 6\u001b[0m\n\u001b[0;32m      4\u001b[0m     \u001b[38;5;28mprint\u001b[39m(\u001b[38;5;28mchr\u001b[39m(\u001b[38;5;28mord\u001b[39m(ch)\u001b[38;5;241m+\u001b[39m\u001b[38;5;241m1\u001b[39m))\n\u001b[0;32m      5\u001b[0m \u001b[38;5;28;01melse\u001b[39;00m:\n\u001b[1;32m----> 6\u001b[0m     \u001b[38;5;28mprint\u001b[39m(\u001b[38;5;28;43mchr\u001b[39;49m\u001b[43m(\u001b[49m\u001b[38;5;28;43mord\u001b[39;49m\u001b[43m(\u001b[49m\u001b[43mch\u001b[49m\u001b[43m)\u001b[49m\u001b[38;5;241;43m-\u001b[39;49m\u001b[38;5;241;43m1\u001b[39;49m\u001b[43m)\u001b[49m)\n",
      "\u001b[1;31mTypeError\u001b[0m: 'str' object is not callable"
     ]
    }
   ],
   "source": [
    "ch=input()\n",
    "st=\"aeiouAEIOU\"\n",
    "if ch in st:\n",
    "    print(chr(ord(ch)+1))\n",
    "else:\n",
    "    print(chr(ord(ch)-1))"
   ]
  }
 ],
 "metadata": {
  "kernelspec": {
   "display_name": "Python 3",
   "language": "python",
   "name": "python3"
  },
  "language_info": {
   "codemirror_mode": {
    "name": "ipython",
    "version": 3
   },
   "file_extension": ".py",
   "mimetype": "text/x-python",
   "name": "python",
   "nbconvert_exporter": "python",
   "pygments_lexer": "ipython3",
   "version": "3.12.1"
  }
 },
 "nbformat": 4,
 "nbformat_minor": 2
}
