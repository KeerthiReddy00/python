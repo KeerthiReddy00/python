{
 "cells": [
  {
   "cell_type": "markdown",
   "metadata": {},
   "source": [
    "1) WAP to add key-value pair to a dictionary."
   ]
  },
  {
   "cell_type": "code",
   "execution_count": 50,
   "metadata": {},
   "outputs": [
    {
     "name": "stdout",
     "output_type": "stream",
     "text": [
      "{2: '3', 4: '4'}\n"
     ]
    }
   ],
   "source": [
    "d={}\n",
    "n=int(input())\n",
    "for i in range(n):\n",
    "    key=int(input())\n",
    "    value=input()\n",
    "    d[key]=value\n",
    "print(d)"
   ]
  },
  {
   "cell_type": "markdown",
   "metadata": {},
   "source": [
    "2) WAP to check if a given key exists in a dictionary."
   ]
  },
  {
   "cell_type": "code",
   "execution_count": 51,
   "metadata": {},
   "outputs": [
    {
     "name": "stdout",
     "output_type": "stream",
     "text": [
      "present\n"
     ]
    }
   ],
   "source": [
    "d={1:70,2:80,3:90}\n",
    "n=int(input())\n",
    "boolExist=False\n",
    "for i in d:\n",
    "    if n==i:\n",
    "        boolExist=True\n",
    "        break\n",
    "if (boolExist):\n",
    "    print(\"present\")\n",
    "else:\n",
    "    print(\"not present\")"
   ]
  },
  {
   "cell_type": "markdown",
   "metadata": {},
   "source": [
    "3) WAP to count words in a string using dictionary."
   ]
  },
  {
   "cell_type": "code",
   "execution_count": 52,
   "metadata": {},
   "outputs": [
    {
     "name": "stdout",
     "output_type": "stream",
     "text": [
      "{'plant': 1, 'is': 2, 'small': 1, 'and': 1, 'tree': 2, 'big': 1}\n"
     ]
    }
   ],
   "source": [
    "st=\"plant is small and tree is big tree\"\n",
    "res=\"\"\n",
    "d={}\n",
    "for i in st:\n",
    "    if i!=' ':\n",
    "        res+=i\n",
    "    elif i==' ':\n",
    "        if res  not in d:\n",
    "            d[res]=1\n",
    "        elif res in d:\n",
    "            d[res]=d[res]+1\n",
    "        res=\"\" \n",
    "if res not in d:\n",
    "    d[res]=1\n",
    "elif res in d:\n",
    "    d[res]=d[res]+1\n",
    "print(d)"
   ]
  },
  {
   "cell_type": "markdown",
   "metadata": {},
   "source": [
    "4) WAP to create dictionary of keys from 1 to n and values are square of keys."
   ]
  },
  {
   "cell_type": "code",
   "execution_count": 18,
   "metadata": {},
   "outputs": [
    {
     "name": "stdout",
     "output_type": "stream",
     "text": [
      "{1: 1, 2: 4, 3: 9}\n"
     ]
    }
   ],
   "source": [
    "d={}\n",
    "n=int(input())\n",
    "for i in range(n):\n",
    "    key=int(input())\n",
    "    value=key**2\n",
    "    d[key]=value\n",
    "print(d)"
   ]
  },
  {
   "cell_type": "markdown",
   "metadata": {},
   "source": [
    "5) WAP to create dictionary of numbers 1 to n in (x,x*x) form."
   ]
  },
  {
   "cell_type": "code",
   "execution_count": 53,
   "metadata": {},
   "outputs": [
    {
     "name": "stdout",
     "output_type": "stream",
     "text": [
      "{1: (1, 1), 2: (2, 4), 3: (3, 9), 4: (4, 16), 5: (5, 25)}\n"
     ]
    }
   ],
   "source": [
    "d={}\n",
    "n=int(input())\n",
    "for i in range(1,n+1):\n",
    "    d[i]=(i,i*i)\n",
    "print(d)"
   ]
  },
  {
   "cell_type": "markdown",
   "metadata": {},
   "source": [
    "6) WAP to map 2 lists into a dictionary."
   ]
  },
  {
   "cell_type": "code",
   "execution_count": 56,
   "metadata": {},
   "outputs": [
    {
     "name": "stdout",
     "output_type": "stream",
     "text": [
      "{'keerthi': 1, 'harika': 2}\n"
     ]
    }
   ],
   "source": [
    "l1=[\"keerthi\",\"harika\"]\n",
    "l2=[1,2]\n",
    "j=0\n",
    "d={}\n",
    "for i in l1:\n",
    "    d[i]=l2[j]\n",
    "    j+=1\n",
    "print(d)"
   ]
  },
  {
   "cell_type": "markdown",
   "metadata": {},
   "source": [
    "7) WAP to merge two dictionaries."
   ]
  },
  {
   "cell_type": "code",
   "execution_count": 57,
   "metadata": {},
   "outputs": [
    {
     "name": "stdout",
     "output_type": "stream",
     "text": [
      "{4: 6500, 5: 55, 1: 100, 2: 200, 3: 400}\n"
     ]
    }
   ],
   "source": [
    "d1={1:100,2:200,3:400}\n",
    "d2={4:6500,5:55}\n",
    "for i in d1:\n",
    "    d2[i]=d1[i]\n",
    "print(d2)"
   ]
  },
  {
   "cell_type": "markdown",
   "metadata": {},
   "source": [
    "8) WAP to multiply all items in a dictionary. "
   ]
  },
  {
   "cell_type": "code",
   "execution_count": 28,
   "metadata": {},
   "outputs": [
    {
     "name": "stdout",
     "output_type": "stream",
     "text": [
      "20\n"
     ]
    }
   ],
   "source": [
    "d={1:1,2:5,3:2,4:2}\n",
    "product=1\n",
    "for i in d:\n",
    "    product*=d[i]\n",
    "print(product)\n"
   ]
  },
  {
   "cell_type": "markdown",
   "metadata": {},
   "source": [
    "9) WAP to remove given key from a dictionary."
   ]
  },
  {
   "cell_type": "code",
   "execution_count": 25,
   "metadata": {},
   "outputs": [
    {
     "name": "stdout",
     "output_type": "stream",
     "text": [
      "{1: 100, 3: 300, 4: 400}\n"
     ]
    }
   ],
   "source": [
    "d={1:100,2:200,3:300,4:400}\n",
    "d1={}\n",
    "n=int(input())\n",
    "for i in d:\n",
    "    if i!=n:\n",
    "        key=i\n",
    "        value=d[i]\n",
    "        d1[key]=value\n",
    "print(d1)\n"
   ]
  },
  {
   "cell_type": "markdown",
   "metadata": {},
   "source": [
    "10) WAP to sum all items in a dictionary."
   ]
  },
  {
   "cell_type": "code",
   "execution_count": 30,
   "metadata": {},
   "outputs": [
    {
     "name": "stdout",
     "output_type": "stream",
     "text": [
      "15\n"
     ]
    }
   ],
   "source": [
    "d={1:1,2:5,3:2,4:7}\n",
    "sum=0\n",
    "for i in d:\n",
    "    sum+=d[i]\n",
    "print(sum)"
   ]
  },
  {
   "cell_type": "markdown",
   "metadata": {},
   "source": [
    "i/p: st=\"raja\"\n",
    "o/p: {'r':1,'a':2,'j':1}"
   ]
  },
  {
   "cell_type": "code",
   "execution_count": 31,
   "metadata": {},
   "outputs": [
    {
     "name": "stdout",
     "output_type": "stream",
     "text": [
      "{'r': 1, 'a': 2, 'j': 1}\n"
     ]
    }
   ],
   "source": [
    "st=\"raja\"\n",
    "d={}\n",
    "for i in st:\n",
    "    if i not in d:\n",
    "        d[i]=1\n",
    "    elif i in d:\n",
    "        d[i]=d[i]+1\n",
    "print(d)   \n"
   ]
  },
  {
   "cell_type": "markdown",
   "metadata": {},
   "source": [
    "i/p: l=[1,2,3,4,3,3]\n",
    "o/p: {1:1,2:1,3:3,4:1}"
   ]
  },
  {
   "cell_type": "code",
   "execution_count": 33,
   "metadata": {},
   "outputs": [
    {
     "name": "stdout",
     "output_type": "stream",
     "text": [
      "{1: 1, 2: 1, 3: 3, 4: 1}\n"
     ]
    }
   ],
   "source": [
    "l=[1,2,3,4,3,3]\n",
    "d={}\n",
    "for i in l:\n",
    "    if i not in d:\n",
    "        d[i]=1\n",
    "    elif i in d:\n",
    "        d[i]=d[i]+1\n",
    "print(d)   "
   ]
  },
  {
   "cell_type": "markdown",
   "metadata": {},
   "source": [
    "i/p: st=\"plant is small and tree is big tree\"\n",
    "o/p: {'plant': 1, 'is': 2, 'small': 1, 'and': 1, 'tree': 2, 'big': 1}"
   ]
  },
  {
   "cell_type": "code",
   "execution_count": 49,
   "metadata": {},
   "outputs": [
    {
     "name": "stdout",
     "output_type": "stream",
     "text": [
      "{'plant': 1, 'is': 2, 'small': 1, 'and': 1, 'tree': 2, 'big': 1}\n"
     ]
    }
   ],
   "source": [
    "st=\"plant is small and tree is big tree\"\n",
    "res=\"\"\n",
    "d={}\n",
    "for i in st:\n",
    "    if i!=' ':\n",
    "        res+=i\n",
    "    elif i==' ':\n",
    "        if res  not in d:\n",
    "            d[res]=1\n",
    "        elif res in d:\n",
    "            d[res]=d[res]+1\n",
    "        res=\"\" \n",
    "if res not in d:7\n",
    "    d[res]=1\n",
    "elif res in d:\n",
    "    d[res]=d[res]+1\n",
    "print(d)"
   ]
  }
 ],
 "metadata": {
  "kernelspec": {
   "display_name": "Python 3",
   "language": "python",
   "name": "python3"
  },
  "language_info": {
   "codemirror_mode": {
    "name": "ipython",
    "version": 3
   },
   "file_extension": ".py",
   "mimetype": "text/x-python",
   "name": "python",
   "nbconvert_exporter": "python",
   "pygments_lexer": "ipython3",
   "version": "3.12.1"
  }
 },
 "nbformat": 4,
 "nbformat_minor": 2
}
