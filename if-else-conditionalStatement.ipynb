{
 "cells": [
  {
   "cell_type": "code",
   "execution_count": 1,
   "metadata": {},
   "outputs": [
    {
     "name": "stdout",
     "output_type": "stream",
     "text": [
      "greater\n"
     ]
    }
   ],
   "source": [
    "num=int(input(\"enter the number\"))\n",
    "if num>10:\n",
    "    print(\"greater\")\n",
    "else:\n",
    "    print(\"not greater\")"
   ]
  },
  {
   "cell_type": "code",
   "execution_count": 2,
   "metadata": {},
   "outputs": [
    {
     "name": "stdout",
     "output_type": "stream",
     "text": [
      "not equal\n"
     ]
    }
   ],
   "source": [
    "num=int(input(\"enter the number\"))\n",
    "if num==15:\n",
    "    print(\"equal\")\n",
    "else:\n",
    "    print(\"not equal\")"
   ]
  },
  {
   "cell_type": "code",
   "execution_count": 5,
   "metadata": {},
   "outputs": [
    {
     "name": "stdout",
     "output_type": "stream",
     "text": [
      "it is not divisible\n"
     ]
    }
   ],
   "source": [
    "num=int(input(\"enter the number\"))\n",
    "if num%4==0:\n",
    "    print(\"it is divisible\")\n",
    "else:\n",
    "    print(\"it is not divisible\")"
   ]
  },
  {
   "cell_type": "code",
   "execution_count": 10,
   "metadata": {},
   "outputs": [
    {
     "name": "stdout",
     "output_type": "stream",
     "text": [
      "0\n"
     ]
    }
   ],
   "source": [
    "num=int(input(\"enter the number\"))\n",
    "if (num>=21 and num<=35 and num%2==0):\n",
    "    print(num*3)\n",
    "else:\n",
    "    print(num-20)"
   ]
  },
  {
   "cell_type": "code",
   "execution_count": 13,
   "metadata": {},
   "outputs": [
    {
     "name": "stdout",
     "output_type": "stream",
     "text": [
      "it is not an alphabet\n"
     ]
    }
   ],
   "source": [
    "ch=input(\"enter a character\")\n",
    "if (ch>='A' and ch<='Z') or (ch>='a' and ch<='z'):\n",
    "    print(\"it is an alphabet\")\n",
    "else:\n",
    "    print(\"it is not an alphabet\")\n"
   ]
  },
  {
   "cell_type": "code",
   "execution_count": 15,
   "metadata": {},
   "outputs": [
    {
     "name": "stdout",
     "output_type": "stream",
     "text": [
      "it is a digit\n"
     ]
    }
   ],
   "source": [
    "ch=input(\"enter a character\")\n",
    "if (ch>='0' and ch<='9'):\n",
    "    print(\"it is a digit\")\n",
    "else:\n",
    "    print(\"it is not a digit\")"
   ]
  },
  {
   "cell_type": "code",
   "execution_count": 18,
   "metadata": {},
   "outputs": [
    {
     "name": "stdout",
     "output_type": "stream",
     "text": [
      "it is a symbol\n"
     ]
    }
   ],
   "source": [
    "ch=input(\"enter a character\")\n",
    "if not((ch>='A' and ch<='Z') or (ch>='a' and ch<='z') or (ch>='0' and ch<='9')):\n",
    "    print(\"it is a symbol\")\n",
    "else:\n",
    "    print(\"it is not a symbol\")\n"
   ]
  },
  {
   "cell_type": "code",
   "execution_count": 22,
   "metadata": {},
   "outputs": [
    {
     "name": "stdout",
     "output_type": "stream",
     "text": [
      "7\n"
     ]
    }
   ],
   "source": [
    "ch=input(\"enter a character\")\n",
    "if (ch>='A' and ch<='Z') or (ch>='a' and ch<='z'):\n",
    "    print(ord(ch))\n",
    "else:\n",
    "    print(ch)"
   ]
  },
  {
   "cell_type": "code",
   "execution_count": 24,
   "metadata": {},
   "outputs": [
    {
     "name": "stdout",
     "output_type": "stream",
     "text": [
      "happy diwali\n"
     ]
    }
   ],
   "source": [
    "ch=input()\n",
    "if not((ch>='A' and ch<='Z') or (ch>='a' and ch<='z') or (ch>='0' and ch<='9')) and (ord(ch)>70):\n",
    "    print(\"happy diwali\")\n",
    "else:\n",
    "    print(\"come on wednesday\")\n"
   ]
  },
  {
   "cell_type": "code",
   "execution_count": 26,
   "metadata": {},
   "outputs": [
    {
     "name": "stdout",
     "output_type": "stream",
     "text": [
      "vowel\n"
     ]
    }
   ],
   "source": [
    "ch=input()\n",
    "str=\"aeiouAEIOU\"\n",
    "if ch in str:\n",
    "    print(\"vowel\")\n",
    "else:\n",
    "    print(\"not a vowel\")"
   ]
  },
  {
   "cell_type": "code",
   "execution_count": 29,
   "metadata": {},
   "outputs": [
    {
     "name": "stdout",
     "output_type": "stream",
     "text": [
      "not a consonent\n"
     ]
    }
   ],
   "source": [
    "ch=input()\n",
    "str=\"aeiouAEIOU\"\n",
    "if ch not in str:\n",
    "    print(\"consonent\")\n",
    "else:\n",
    "    print(\"not a consonent\")"
   ]
  },
  {
   "cell_type": "code",
   "execution_count": 32,
   "metadata": {},
   "outputs": [
    {
     "name": "stdout",
     "output_type": "stream",
     "text": [
      "even\n"
     ]
    }
   ],
   "source": [
    "num=int(input(\"enter a number\"))\n",
    "if num%2==0:\n",
    "    print(\"even\")\n",
    "else:\n",
    "    print(\"odd\")"
   ]
  },
  {
   "cell_type": "code",
   "execution_count": 34,
   "metadata": {},
   "outputs": [
    {
     "name": "stdout",
     "output_type": "stream",
     "text": [
      "Uppercase\n"
     ]
    }
   ],
   "source": [
    "ch=input(\"enter an alphabet\")\n",
    "if ch>='A' and ch<='Z':\n",
    "    print(\"Uppercase\")\n",
    "else:\n",
    "    print(\"lowercase\")"
   ]
  },
  {
   "cell_type": "code",
   "execution_count": 40,
   "metadata": {},
   "outputs": [
    {
     "name": "stdout",
     "output_type": "stream",
     "text": [
      "it is a character\n"
     ]
    }
   ],
   "source": [
    "ch=input()\n",
    "if ((ch>='A' and ch<='Z') or (ch>='a' and ch<='z') or (ch>='0' and ch<='9')) or not((ch>='A' and ch<='Z') or (ch>='a' and ch<='z') or (ch>='0' and ch<='9')):\n",
    "    print(\"it is a character\")\n",
    "else:\n",
    "    print(\"it is not a character\")"
   ]
  },
  {
   "cell_type": "code",
   "execution_count": 41,
   "metadata": {},
   "outputs": [
    {
     "name": "stdout",
     "output_type": "stream",
     "text": [
      "it is divisible by both 2 and 3\n"
     ]
    }
   ],
   "source": [
    "num=int(input(\"nter  number\"))\n",
    "if num%2==0 and num%3==0:\n",
    "    print(\"it is divisible by both 2 and 3\")\n",
    "else:\n",
    "    print(\"it is not divisible by both 2 and 3\")"
   ]
  },
  {
   "cell_type": "code",
   "execution_count": 43,
   "metadata": {},
   "outputs": [
    {
     "name": "stdout",
     "output_type": "stream",
     "text": [
      "hello, good morning\n"
     ]
    }
   ],
   "source": [
    "ch=input(\"enter a character\")\n",
    "if (ch>='A' and ch<='Z') or (ch>='a' and ch<='z') and ord(ch)%2==0:\n",
    "    print(\"hello, good morning\")\n",
    "else:\n",
    "    print(\"tata! good bye!\")"
   ]
  },
  {
   "cell_type": "code",
   "execution_count": 45,
   "metadata": {},
   "outputs": [
    {
     "name": "stdout",
     "output_type": "stream",
     "text": [
      "33\n"
     ]
    }
   ],
   "source": [
    "num=int(input(\"enter a number\"))\n",
    "lastDigit=num%10\n",
    "if num>5 and num<25 and (lastDigit)%3==0:\n",
    "    print(num+10)\n",
    "else:\n",
    "    print(num-10)"
   ]
  }
 ],
 "metadata": {
  "kernelspec": {
   "display_name": "Python 3",
   "language": "python",
   "name": "python3"
  },
  "language_info": {
   "codemirror_mode": {
    "name": "ipython",
    "version": 3
   },
   "file_extension": ".py",
   "mimetype": "text/x-python",
   "name": "python",
   "nbconvert_exporter": "python",
   "pygments_lexer": "ipython3",
   "version": "3.12.1"
  }
 },
 "nbformat": 4,
 "nbformat_minor": 2
}
