{
 "cells": [
  {
   "cell_type": "code",
   "execution_count": 20,
   "metadata": {},
   "outputs": [
    {
     "name": "stdout",
     "output_type": "stream",
     "text": [
      "54 2916\n",
      "not\n"
     ]
    }
   ],
   "source": [
    "#auomorphic number\n",
    "n=int(input())\n",
    "c=0\n",
    "n1=n**2\n",
    "print(n,n1)\n",
    "while n!=0:\n",
    "    d=n%10\n",
    "    c+=1\n",
    "    n=n//10\n",
    "while n1!=0 and c!=0:\n",
    "    d1=n1%10\n",
    "    c-=1\n",
    "    n1=n1//10\n",
    "if d==d1:\n",
    "    print(\"automorphic\")\n",
    "else:print(\"not\")\n"
   ]
  },
  {
   "cell_type": "code",
   "execution_count": 13,
   "metadata": {},
   "outputs": [
    {
     "ename": "ValueError",
     "evalue": "invalid literal for int() with base 10: 'b'",
     "output_type": "error",
     "traceback": [
      "\u001b[1;31m---------------------------------------------------------------------------\u001b[0m",
      "\u001b[1;31mValueError\u001b[0m                                Traceback (most recent call last)",
      "Cell \u001b[1;32mIn[13], line 8\u001b[0m\n\u001b[0;32m      6\u001b[0m ch1\u001b[38;5;241m=\u001b[39mst[i\u001b[38;5;241m+\u001b[39m\u001b[38;5;241m1\u001b[39m]\n\u001b[0;32m      7\u001b[0m \u001b[38;5;28;01mif\u001b[39;00m (ch\u001b[38;5;241m>\u001b[39m\u001b[38;5;241m=\u001b[39m\u001b[38;5;124m'\u001b[39m\u001b[38;5;124ma\u001b[39m\u001b[38;5;124m'\u001b[39m \u001b[38;5;129;01mand\u001b[39;00m ch\u001b[38;5;241m<\u001b[39m\u001b[38;5;241m=\u001b[39m\u001b[38;5;124m'\u001b[39m\u001b[38;5;124mz\u001b[39m\u001b[38;5;124m'\u001b[39m) \u001b[38;5;129;01mor\u001b[39;00m (ch\u001b[38;5;241m>\u001b[39m\u001b[38;5;241m=\u001b[39m\u001b[38;5;124m'\u001b[39m\u001b[38;5;124mA\u001b[39m\u001b[38;5;124m'\u001b[39m \u001b[38;5;129;01mand\u001b[39;00m ch\u001b[38;5;241m<\u001b[39m\u001b[38;5;241m=\u001b[39m\u001b[38;5;124m'\u001b[39m\u001b[38;5;124mZ\u001b[39m\u001b[38;5;124m'\u001b[39m) \u001b[38;5;129;01mand\u001b[39;00m (ch1\u001b[38;5;241m>\u001b[39m\u001b[38;5;241m=\u001b[39m\u001b[38;5;124m'\u001b[39m\u001b[38;5;124m0\u001b[39m\u001b[38;5;124m'\u001b[39m \u001b[38;5;129;01mand\u001b[39;00m ch1\u001b[38;5;241m<\u001b[39m\u001b[38;5;241m=\u001b[39m\u001b[38;5;124m'\u001b[39m\u001b[38;5;124m9\u001b[39m\u001b[38;5;124m'\u001b[39m):\n\u001b[1;32m----> 8\u001b[0m     res\u001b[38;5;241m+\u001b[39m\u001b[38;5;241m=\u001b[39m\u001b[38;5;28mstr\u001b[39m(ch\u001b[38;5;241m*\u001b[39m\u001b[38;5;28;43mint\u001b[39;49m\u001b[43m(\u001b[49m\u001b[43mch1\u001b[49m\u001b[43m)\u001b[49m)\n\u001b[0;32m      9\u001b[0m \u001b[38;5;28;01melif\u001b[39;00m (ch\u001b[38;5;241m>\u001b[39m\u001b[38;5;241m=\u001b[39m\u001b[38;5;124m'\u001b[39m\u001b[38;5;124ma\u001b[39m\u001b[38;5;124m'\u001b[39m \u001b[38;5;129;01mand\u001b[39;00m ch\u001b[38;5;241m<\u001b[39m\u001b[38;5;241m=\u001b[39m\u001b[38;5;124m'\u001b[39m\u001b[38;5;124mz\u001b[39m\u001b[38;5;124m'\u001b[39m) \u001b[38;5;129;01mor\u001b[39;00m (ch\u001b[38;5;241m>\u001b[39m\u001b[38;5;241m=\u001b[39m\u001b[38;5;124m'\u001b[39m\u001b[38;5;124mA\u001b[39m\u001b[38;5;124m'\u001b[39m \u001b[38;5;129;01mand\u001b[39;00m ch\u001b[38;5;241m<\u001b[39m\u001b[38;5;241m=\u001b[39m\u001b[38;5;124m'\u001b[39m\u001b[38;5;124mZ\u001b[39m\u001b[38;5;124m'\u001b[39m):\n\u001b[0;32m     10\u001b[0m     res\u001b[38;5;241m=\u001b[39mres\u001b[38;5;241m+\u001b[39mch\n",
      "\u001b[1;31mValueError\u001b[0m: invalid literal for int() with base 10: 'b'"
     ]
    }
   ],
   "source": [
    "st=\"ab2c3d\"\n",
    "i=0\n",
    "res=\"\"\n",
    "while i<len(st)-1:\n",
    "    ch=st[i]\n",
    "    ch1=st[i+1]\n",
    "    if (ch>='a' and ch<='z') or (ch>='A' and ch<='Z') and (ch1>='0' and ch1<='9'):\n",
    "        res+=str(ch*int(ch1))\n",
    "    elif (ch>='a' and ch<='z') or (ch>='A' and ch<='Z'):\n",
    "        res=res+ch\n",
    "    res+=st[-1]\n",
    "    i+=1\n",
    "res+=st[-1]\n",
    "print(res)"
   ]
  },
  {
   "cell_type": "code",
   "execution_count": null,
   "metadata": {},
   "outputs": [],
   "source": [
    "st=\"ab2c3d\"\n",
    "i=0\n",
    "res=\"\"\n",
    "while i<len(st)-1:\n",
    "    ch=st[i]\n",
    "    ch1=st[i+1]\n",
    "    if (ch>='a' and ch<='z') or (ch>='A' and ch<='Z') and (ch1>='0' and ch1<='9'):\n",
    "        res+=str(ch*int(ch1))\n",
    "    elif (ch>='a' and ch<='z') or (ch>='A' and ch<='Z'):\n",
    "        res=res+ch\n",
    "    res+=st[-1]\n",
    "    i+=1\n",
    "res+=st[-1]\n",
    "print(res)"
   ]
  },
  {
   "cell_type": "code",
   "execution_count": 27,
   "metadata": {},
   "outputs": [
    {
     "name": "stdout",
     "output_type": "stream",
     "text": [
      "first occurance : 1 e\n"
     ]
    }
   ],
   "source": [
    "st=input()\n",
    "ch=input()\n",
    "i=0\n",
    "c=0\n",
    "while i<len(st)-1:\n",
    "    ch1=st[i]\n",
    "    if ch==ch1:\n",
    "        c+=1\n",
    "        if c==1:\n",
    "            print(ch,\"first occurance :\",i)\n",
    "    i+=1"
   ]
  },
  {
   "cell_type": "code",
   "execution_count": 39,
   "metadata": {},
   "outputs": [
    {
     "name": "stdout",
     "output_type": "stream",
     "text": [
      "s last occurance : 5\n"
     ]
    }
   ],
   "source": [
    "st=input()\n",
    "ch=input()\n",
    "i=len(st)-1\n",
    "c=0\n",
    "while i>=0:\n",
    "    ch1=st[i]\n",
    "    if ch==ch1:\n",
    "        c+=1\n",
    "        if c==1:\n",
    "            print(ch,\"last occurance :\",i)\n",
    "    i-=1"
   ]
  },
  {
   "cell_type": "code",
   "execution_count": 3,
   "metadata": {},
   "outputs": [
    {
     "name": "stdout",
     "output_type": "stream",
     "text": [
      "aaa\n"
     ]
    }
   ],
   "source": [
    "print(\"a\"*3)"
   ]
  },
  {
   "cell_type": "code",
   "execution_count": 37,
   "metadata": {},
   "outputs": [],
   "source": [
    "st=input()\n",
    "ch=input()\n",
    "i=0\n",
    "c=0\n",
    "while i<=len(st)-1:\n",
    "    ch1=st[i]\n",
    "    if ch==ch1:\n",
    "        c+=1\n",
    "        if c>1:\n",
    "            print(ch,\"not first occurance :\",i)\n",
    "    i+=1"
   ]
  },
  {
   "cell_type": "code",
   "execution_count": 41,
   "metadata": {},
   "outputs": [
    {
     "name": "stdout",
     "output_type": "stream",
     "text": [
      "s not last occurance : 3\n",
      "s not last occurance : 2\n"
     ]
    }
   ],
   "source": [
    "st=input()\n",
    "ch=input()\n",
    "i=len(st)-1\n",
    "c=0\n",
    "while i>=0:\n",
    "    ch1=st[i]\n",
    "    if ch==ch1:\n",
    "        c+=1\n",
    "        if c>1:\n",
    "            print(ch,\"not last occurance :\",i)\n",
    "    i-=1"
   ]
  },
  {
   "cell_type": "code",
   "execution_count": 45,
   "metadata": {},
   "outputs": [
    {
     "name": "stdout",
     "output_type": "stream",
     "text": [
      "['m', 'i', 's', 's', 'i', 's', 'i', 'p', 'i']\n"
     ]
    }
   ],
   "source": [
    "st=input()\n",
    "ch=input()\n",
    "i=0\n",
    "c=0\n",
    "while i<=len(st)-1:\n",
    "    ch1=st[i]\n",
    "    if ch==ch1:\n",
    "        c+=1\n",
    "        if c==1:\n",
    "            st=list(st)\n",
    "            del st[i]\n",
    "    i+=1\n",
    "print(str(st))"
   ]
  },
  {
   "cell_type": "code",
   "execution_count": 46,
   "metadata": {},
   "outputs": [
    {
     "name": "stdout",
     "output_type": "stream",
     "text": [
      "['m', 'i', 's', 's', 'i', 's', 'i', 'p', 'p']\n"
     ]
    }
   ],
   "source": [
    "st=input()\n",
    "ch=input()\n",
    "i=len(st)-1\n",
    "c=0\n",
    "while i>=0:\n",
    "    ch1=st[i]\n",
    "    if ch==ch1:\n",
    "        c+=1\n",
    "        if c==1:\n",
    "            st=list(st)\n",
    "            del st[i]\n",
    "    i-=1\n",
    "print(str(st))"
   ]
  },
  {
   "cell_type": "code",
   "execution_count": 48,
   "metadata": {},
   "outputs": [
    {
     "name": "stdout",
     "output_type": "stream",
     "text": [
      "p 2\n"
     ]
    }
   ],
   "source": [
    "st=input()\n",
    "ch=input()\n",
    "i=0\n",
    "c=0\n",
    "while i<=len(st)-1:\n",
    "    ch1=st[i]\n",
    "    if ch==ch1:\n",
    "        c+=1\n",
    "    i+=1\n",
    "print(ch,c)"
   ]
  },
  {
   "cell_type": "code",
   "execution_count": 62,
   "metadata": {},
   "outputs": [
    {
     "name": "stdout",
     "output_type": "stream",
     "text": [
      "h 0\n"
     ]
    }
   ],
   "source": [
    "st=input()\n",
    "i=0\n",
    "maxCount=0\n",
    "maxChar=st[0]\n",
    "while i<=len(st)-1:\n",
    "    ch=st[i]\n",
    "    c=0\n",
    "    j=0\n",
    "    while j<=len(st)-1:\n",
    "        ch1=st[j]\n",
    "        if ch==ch1:\n",
    "            c+=1\n",
    "        j+=1\n",
    "    if c>maxCount:\n",
    "        maxCount=c\n",
    "        maxChar=ch\n",
    "    i+=1\n",
    "print(maxChar, maxCount)"
   ]
  },
  {
   "cell_type": "code",
   "execution_count": 12,
   "metadata": {},
   "outputs": [
    {
     "name": "stdout",
     "output_type": "stream",
     "text": [
      "h 6\n"
     ]
    }
   ],
   "source": [
    "st=input()\n",
    "i=0\n",
    "minCount=0\n",
    "minChar=st[0]\n",
    "while i<=len(st)-1:\n",
    "    ch=st[i]\n",
    "    c=0\n",
    "    j=0\n",
    "    while j<=len(st)-1:\n",
    "        ch1=st[j]\n",
    "        if ch==ch1:\n",
    "            c+=1\n",
    "        j+=1\n",
    "    if minCount == 0 or c < minCount:\n",
    "        minCount=c\n",
    "        minChar=ch\n",
    "    i+=1\n",
    "print(minChar,minCount)"
   ]
  },
  {
   "cell_type": "code",
   "execution_count": 3,
   "metadata": {},
   "outputs": [
    {
     "name": "stdout",
     "output_type": "stream",
     "text": [
      "eoo123aii\n"
     ]
    }
   ],
   "source": [
    "st=\"hello world 123 haii\"\n",
    "i=0\n",
    "res=\"\"\n",
    "while i<=len(st)-1:\n",
    "    if st[i] in \"AEIOUaeiou\" or st[i]>='0' and st[i]<='9':\n",
    "        res=res+st[i]\n",
    "    i+=1\n",
    "print(res)"
   ]
  },
  {
   "cell_type": "code",
   "execution_count": 4,
   "metadata": {},
   "outputs": [
    {
     "name": "stdout",
     "output_type": "stream",
     "text": [
      "eo o 123 aii\n"
     ]
    }
   ],
   "source": [
    "st=\"hello world 123 haii\"\n",
    "i=0\n",
    "res=\"\"\n",
    "while i<=len(st)-1:\n",
    "    if st[i] in \"AEIOUaeiou\" or st[i]>='0' and st[i]<='9' or st[i]==' ':\n",
    "        res=res+st[i]\n",
    "    i+=1\n",
    "print(res)"
   ]
  },
  {
   "cell_type": "code",
   "execution_count": 5,
   "metadata": {},
   "outputs": [
    {
     "name": "stdout",
     "output_type": "stream",
     "text": [
      "eo o  aii\n"
     ]
    }
   ],
   "source": [
    "st=\"hello world 123 haii\"\n",
    "i=0\n",
    "res=\"\"\n",
    "while i<=len(st)-1:\n",
    "    if st[i] in \"AEIOUaeiou\" or st[i]==' ':\n",
    "        res=res+st[i]\n",
    "    i+=1\n",
    "print(res)"
   ]
  },
  {
   "cell_type": "code",
   "execution_count": 18,
   "metadata": {},
   "outputs": [
    {
     "name": "stdout",
     "output_type": "stream",
     "text": [
      "hll\n"
     ]
    }
   ],
   "source": [
    "st=\"hello world 123 haii\"\n",
    "i=0 \n",
    "res=\"\"\n",
    "while i<=len(st)-1 and st[i]!=' ':\n",
    "    if st[i] not in \"AEIOUaeiou\":\n",
    "       res=res+st[i]\n",
    "    i+=1\n",
    "\n",
    "while j<=len(st)-1 :\n",
    "    if st[j]>='A' and st[j]<='Z' or st[j]>='a' and st[j]<='z':\n",
    "        res=res+st[j]\n",
    "    j+=1\n",
    "print(res)"
   ]
  },
  {
   "cell_type": "code",
   "execution_count": 48,
   "metadata": {},
   "outputs": [
    {
     "name": "stdout",
     "output_type": "stream",
     "text": [
      "eoo\n",
      "hll wrld\n"
     ]
    }
   ],
   "source": [
    "st=\"hello world\"\n",
    "i=0\n",
    "j=0\n",
    "res=\"\"\n",
    "res1=\"\"\n",
    "while i<=len(st)-1 and j<=len(st)-1:\n",
    "    ch=st[i]\n",
    "    ch1=st[j]\n",
    "    if ch1 not in \"AEIOUaeiou\" :\n",
    "        res1+=ch1\n",
    "    if ch in \"AEIOUaeiou\":\n",
    "        res+=ch\n",
    "    i+=1\n",
    "    j+=1\n",
    "print(res)\n",
    "print(res1)"
   ]
  },
  {
   "cell_type": "markdown",
   "metadata": {},
   "source": [
    "127)  i/p: \"(*12hello3$ $4#world4*)\"\n",
    "      o/p: eoo\n",
    "           hllwrld\n",
    "           12344\n",
    "           (*$ $#*)"
   ]
  },
  {
   "cell_type": "code",
   "execution_count": 46,
   "metadata": {},
   "outputs": [
    {
     "name": "stdout",
     "output_type": "stream",
     "text": [
      "eoo\n",
      "hllwrld\n",
      "12344\n",
      "(*$ $#*)\n"
     ]
    }
   ],
   "source": [
    "st=\"(*12hello3$ $4#world4*)\"\n",
    "i=0\n",
    "j=0\n",
    "k=0\n",
    "l=0\n",
    "res=\"\"\n",
    "res1=\"\"\n",
    "res2=\"\"\n",
    "res3=\"\"\n",
    "while i<=len(st)-1 and j<=len(st)-1 and k<=len(st)-1 and l<=len(st)-1:\n",
    "    ch=st[i]\n",
    "    ch1=st[j]\n",
    "    ch2=st[k]\n",
    "    ch3=st[l]\n",
    "    if ch in \"AEIOUaeiou\":\n",
    "        res+=ch\n",
    "    if ch1>='A' and ch1<='Z' or ch1>='a' and ch1<='z':\n",
    "        if ch1 not in \"AEIOUaeiou\":\n",
    "            res1+=ch1\n",
    "    if ch2>='0' and ch2<='9':\n",
    "        res2+=ch2\n",
    "    if not(ch3>='A' and ch3<='Z' or ch3>='a' and ch3<='z' or ch3>='0' and ch3<='9'):\n",
    "        res3+=ch3\n",
    "    i+=1\n",
    "    j+=1\n",
    "    k+=1\n",
    "    l+=1\n",
    "print(res)\n",
    "print(res1)\n",
    "print(res2)\n",
    "print(res3)"
   ]
  },
  {
   "cell_type": "markdown",
   "metadata": {},
   "source": [
    "126) i/p: \"12hello3 4world4\"\n",
    "     o/p: hll wrld\n",
    "          eoo\n",
    "          12344"
   ]
  },
  {
   "cell_type": "code",
   "execution_count": 58,
   "metadata": {},
   "outputs": [
    {
     "name": "stdout",
     "output_type": "stream",
     "text": [
      "hll wrld\n",
      "eoo\n",
      "12344\n"
     ]
    }
   ],
   "source": [
    "st=\"12hello3 4world4\"\n",
    "i=0\n",
    "j=0\n",
    "k=0\n",
    "res=\"\"\n",
    "res1=\"\"\n",
    "res2=\"\"\n",
    "while i<=len(st)-1 and j<=len(st)-1 and k<=len(st)-1:\n",
    "    ch=st[i]\n",
    "    ch1=st[j]\n",
    "    ch2=st[k]\n",
    "    if not(ch>='0' and ch<='9'):\n",
    "        if ch not in \"AEIOUaeiou\" or ch==' ':\n",
    "            res+=ch\n",
    "    if ch1 in \"AEIOUaeiou\":\n",
    "        res1+=ch1\n",
    "    if ch2>='0' and ch<='9':\n",
    "        res2+=ch2\n",
    "    i+=1\n",
    "    j+=1\n",
    "    k+=1\n",
    "print(res)\n",
    "print(res1)\n",
    "print(res2)"
   ]
  },
  {
   "cell_type": "markdown",
   "metadata": {},
   "source": [
    "128) i/p: \"(*12hello3$ $4#world4*)\"\n",
    "     o/p:  \")*#$ $*(,44321,ooe,dlrwllh\""
   ]
  },
  {
   "cell_type": "code",
   "execution_count": 64,
   "metadata": {},
   "outputs": [
    {
     "name": "stdout",
     "output_type": "stream",
     "text": [
      ")*#$ $*(,44321,ooe,dlrwllh\n"
     ]
    }
   ],
   "source": [
    "st=\"(*12hello3$ $4#world4*)\"\n",
    "i=len(st)-1\n",
    "j=len(st)-1\n",
    "k=len(st)-1\n",
    "l=len(st)-1\n",
    "res=\"\"\n",
    "res1=\"\"\n",
    "res2=\"\"\n",
    "res3=\"\"\n",
    "while i>=0 and j>=0 and k>=0 and l>=0:\n",
    "    ch=st[i]\n",
    "    ch1=st[j]\n",
    "    ch2=st[k]\n",
    "    ch3=st[l]\n",
    "    if ch in \"AEIOUaeiou\":\n",
    "        res+=ch\n",
    "    if ch1>='A' and ch1<='Z' or ch1>='a' and ch1<='z':\n",
    "        if ch1 not in \"AEIOUaeiou\":\n",
    "            res1+=ch1\n",
    "    if ch2>='0' and ch2<='9':\n",
    "        res2+=ch2\n",
    "    if not(ch3>='A' and ch3<='Z' or ch3>='a' and ch3<='z' or ch3>='0' and ch3<='9'):\n",
    "        res3+=ch3\n",
    "    i-=1\n",
    "    j-=1\n",
    "    k-=1\n",
    "    l-=1\n",
    "print(res3,res2,res,res1,sep=',')\n"
   ]
  },
  {
   "cell_type": "markdown",
   "metadata": {},
   "source": [
    "129) i/p: \"(*12hello3$ $4#world4*)\"\n",
    "     o/p: \"hllwrld,eoo,12344,(*$ $#*)\""
   ]
  },
  {
   "cell_type": "code",
   "execution_count": 66,
   "metadata": {},
   "outputs": [
    {
     "name": "stdout",
     "output_type": "stream",
     "text": [
      "hllwrld,eoo,12344,(*$ $#*)\n"
     ]
    }
   ],
   "source": [
    "st=\"(*12hello3$ $4#world4*)\"\n",
    "i=0\n",
    "j=0\n",
    "k=0\n",
    "l=0\n",
    "res=\"\"\n",
    "res1=\"\"\n",
    "res2=\"\"\n",
    "res3=\"\"\n",
    "while i<=len(st)-1 and j<=len(st)-1 and k<=len(st)-1 and l<=len(st)-1:\n",
    "    ch=st[i]\n",
    "    ch1=st[j]\n",
    "    ch2=st[k]\n",
    "    ch3=st[l]\n",
    "    if ch in \"AEIOUaeiou\":\n",
    "        res+=ch\n",
    "    if ch1>='A' and ch1<='Z' or ch1>='a' and ch1<='z':\n",
    "        if ch1 not in \"AEIOUaeiou\":\n",
    "            res1+=ch1\n",
    "    if ch2>='0' and ch2<='9':\n",
    "        res2+=ch2\n",
    "    if not(ch3>='A' and ch3<='Z' or ch3>='a' and ch3<='z' or ch3>='0' and ch3<='9'):\n",
    "        res3+=ch3\n",
    "    i+=1\n",
    "    j+=1\n",
    "    k+=1\n",
    "    l+=1\n",
    "print(res1,res,res2,res3,sep=',')\n"
   ]
  },
  {
   "cell_type": "markdown",
   "metadata": {},
   "source": [
    "130) i/p: \"(*12hello3$ $4#world4*)\"\n",
    "     o/p: \"hllwrld,)*#$ $*(,eoo,44321\""
   ]
  },
  {
   "cell_type": "code",
   "execution_count": 72,
   "metadata": {},
   "outputs": [
    {
     "name": "stdout",
     "output_type": "stream",
     "text": [
      "hllwrld,)*#$ $*(,eoo,44321\n"
     ]
    }
   ],
   "source": [
    "st=\"(*12hello3$ $4#world4*)\"\n",
    "i=0\n",
    "j=0\n",
    "k=len(st)-1\n",
    "l=len(st)-1\n",
    "res=\"\"\n",
    "res1=\"\"\n",
    "res2=\"\"\n",
    "res3=\"\"\n",
    "while i<=len(st)-1 and j<=len(st)-1 and k>=0 and l>=0:\n",
    "    ch=st[i]\n",
    "    ch1=st[j]\n",
    "    ch2=st[k]\n",
    "    ch3=st[l]\n",
    "    if ch in \"AEIOUaeiou\":\n",
    "        res+=ch\n",
    "    if ch1>='A' and ch1<='Z' or ch1>='a' and ch1<='z':\n",
    "        if ch1 not in \"AEIOUaeiou\":\n",
    "            res1+=ch1\n",
    "    if ch2>='0' and ch2<='9':\n",
    "        res2+=ch2\n",
    "    if not(ch3>='A' and ch3<='Z' or ch3>='a' and ch3<='z' or ch3>='0' and ch3<='9'):\n",
    "        res3+=ch3\n",
    "    i+=1\n",
    "    j+=1\n",
    "    k-=1\n",
    "    l-=1\n",
    "print(res1,res3,res,res2,sep=',')"
   ]
  },
  {
   "cell_type": "markdown",
   "metadata": {},
   "source": [
    "131) i/p: \"(*12hello3$ $4#world4*)\"\n",
    "     o/p: \")*#$ $*(,44321,ooe,dlrwllh\""
   ]
  },
  {
   "cell_type": "code",
   "execution_count": 73,
   "metadata": {},
   "outputs": [
    {
     "name": "stdout",
     "output_type": "stream",
     "text": [
      ")*#$ $*(,44321,ooe,dlrwllh\n"
     ]
    }
   ],
   "source": [
    "st=\"(*12hello3$ $4#world4*)\"\n",
    "i=len(st)-1\n",
    "j=len(st)-1\n",
    "k=len(st)-1\n",
    "l=len(st)-1\n",
    "res=\"\"\n",
    "res1=\"\"\n",
    "res2=\"\"\n",
    "res3=\"\"\n",
    "while i>=0 and j>=0 and k>=0 and l>=0:\n",
    "    ch=st[i]\n",
    "    ch1=st[j]\n",
    "    ch2=st[k]\n",
    "    ch3=st[l]\n",
    "    if ch in \"AEIOUaeiou\":\n",
    "        res+=ch\n",
    "    if ch1>='A' and ch1<='Z' or ch1>='a' and ch1<='z':\n",
    "        if ch1 not in \"AEIOUaeiou\":\n",
    "            res1+=ch1\n",
    "    if ch2>='0' and ch2<='9':\n",
    "        res2+=ch2\n",
    "    if not(ch3>='A' and ch3<='Z' or ch3>='a' and ch3<='z' or ch3>='0' and ch3<='9'):\n",
    "        res3+=ch3\n",
    "    i-=1\n",
    "    j-=1\n",
    "    k-=1\n",
    "    l-=1\n",
    "print(res3,res2,res,res1,sep=',')\n"
   ]
  },
  {
   "cell_type": "markdown",
   "metadata": {},
   "source": [
    "132) i/p: \"(*12hello3$ $4#world4*)\"\n",
    "     o/p: \"dlrwllh)*#$ $*(ooe44321\""
   ]
  },
  {
   "cell_type": "code",
   "execution_count": 77,
   "metadata": {},
   "outputs": [
    {
     "name": "stdout",
     "output_type": "stream",
     "text": [
      "dlrwllh )*#$ $*( ooe 44321\n"
     ]
    }
   ],
   "source": [
    "st=\"(*12hello3$ $4#world4*)\"\n",
    "i=len(st)-1\n",
    "j=len(st)-1\n",
    "k=len(st)-1\n",
    "l=len(st)-1\n",
    "res=\"\"\n",
    "res1=\"\"\n",
    "res2=\"\"\n",
    "res3=\"\"\n",
    "while i>=0 and j>=0 and k>=0 and l>=0:\n",
    "    ch=st[i]\n",
    "    ch1=st[j]\n",
    "    ch2=st[k]\n",
    "    ch3=st[l]\n",
    "    if ch in \"AEIOUaeiou\":\n",
    "        res+=ch\n",
    "    if ch1>='A' and ch1<='Z' or ch1>='a' and ch1<='z':\n",
    "        if ch1 not in \"AEIOUaeiou\":\n",
    "            res1+=ch1\n",
    "    if ch2>='0' and ch2<='9':\n",
    "        res2+=ch2\n",
    "    if not(ch3>='A' and ch3<='Z' or ch3>='a' and ch3<='z' or ch3>='0' and ch3<='9'):\n",
    "        res3+=ch3\n",
    "    i-=1\n",
    "    j-=1\n",
    "    k-=1\n",
    "    l-=1\n",
    "print(res1,res3,res,res2)\n"
   ]
  },
  {
   "cell_type": "markdown",
   "metadata": {},
   "source": [
    "133) i/p: \"HELLOWORLD\"\n",
    "     O/P: \"h$ll*w*rld\""
   ]
  },
  {
   "cell_type": "code",
   "execution_count": 102,
   "metadata": {},
   "outputs": [
    {
     "name": "stdout",
     "output_type": "stream",
     "text": [
      "helloworld\n",
      "h$ll*w*rld\n"
     ]
    }
   ],
   "source": [
    "# using while loop\n",
    "st=\"HELLOWORLD\"\n",
    "i=0\n",
    "j=0\n",
    "res=\"\"\n",
    "res1=\"\"\n",
    "while i<=len(st)-1:\n",
    "    ch=st[i]\n",
    "    res+=chr(ord(ch)+32)\n",
    "    i+=1\n",
    "while j<=len(res)-1:\n",
    "    ch1=res[j]\n",
    "    if ch1=='o':\n",
    "        ch1='*'\n",
    "    elif ch1=='e':\n",
    "        ch1='$'\n",
    "    res1+=ch1\n",
    "    j+=1\n",
    "\n",
    "print(res)\n",
    "print(res1)"
   ]
  },
  {
   "cell_type": "code",
   "execution_count": 104,
   "metadata": {},
   "outputs": [
    {
     "name": "stdout",
     "output_type": "stream",
     "text": [
      "h$ll*w*rld\n"
     ]
    }
   ],
   "source": [
    "#using for loop\n",
    "st=\"HELLOWORLD\"\n",
    "res=\"\"\n",
    "for i in st:\n",
    "    if i=='O':\n",
    "        i='*'\n",
    "        res+=i\n",
    "    elif i=='E':\n",
    "        i='$'\n",
    "        res+=i\n",
    "    else:\n",
    "        res+=chr(ord(i)+32)\n",
    "print(res)"
   ]
  },
  {
   "cell_type": "markdown",
   "metadata": {},
   "source": [
    "134) i/p: \"123HELLO WORLD456\"\n",
    "     O/P: \"hllwrld21\""
   ]
  },
  {
   "cell_type": "code",
   "execution_count": 5,
   "metadata": {},
   "outputs": [
    {
     "name": "stdout",
     "output_type": "stream",
     "text": [
      "hllwrld21\n"
     ]
    }
   ],
   "source": [
    "st=\"123HELLO WORLD456\"\n",
    "i=0\n",
    "sum=0\n",
    "res=\"\"\n",
    "while i<=len(st)-1:\n",
    "    ch=st[i]\n",
    "    if ch>='A' and ch<='Z':\n",
    "        if ch not in \"AEIOU\":\n",
    "            res+=chr(ord(ch)+32)\n",
    "    if ch>='0' and ch<='9':\n",
    "        sum+=int(ch)\n",
    "    i+=1\n",
    "res+=str(sum)\n",
    "print(res)"
   ]
  },
  {
   "cell_type": "markdown",
   "metadata": {},
   "source": [
    "135) i/p: \"123HELLO WORLD456\"\n",
    "     o/p: \"123hEllO wOrld456\""
   ]
  },
  {
   "cell_type": "code",
   "execution_count": 14,
   "metadata": {},
   "outputs": [
    {
     "name": "stdout",
     "output_type": "stream",
     "text": [
      "123hEllO wOrld456\n"
     ]
    }
   ],
   "source": [
    "st=\"123HELLO WORLD456\"\n",
    "i=0\n",
    "res=\"\"\n",
    "while i<=len(st)-1:\n",
    "    ch=st[i]\n",
    "    if ch>='A' and ch<='Z':\n",
    "        if ch in \"AEIOU\":\n",
    "            res+=ch\n",
    "        else:\n",
    "            res+=chr(ord(ch)+32)\n",
    "    else:\n",
    "        res+=ch\n",
    "    i+=1\n",
    "print(res)\n"
   ]
  },
  {
   "cell_type": "markdown",
   "metadata": {},
   "source": [
    "136) i/p: \"123HELLO WORLD456\"\n",
    "     o/p: \"321hEllO wOrld654\""
   ]
  },
  {
   "cell_type": "code",
   "execution_count": 33,
   "metadata": {},
   "outputs": [
    {
     "name": "stdout",
     "output_type": "stream",
     "text": [
      "321hEllO wOrld654\n"
     ]
    }
   ],
   "source": [
    "st=\"123HELLO WORLD456\"\n",
    "i=0\n",
    "res=\"\"\n",
    "while i<=len(st)-3:\n",
    "    ch=st[i]\n",
    "    ch1=st[i+1]\n",
    "    ch2=st[i+2]\n",
    "    if ch>='A' and ch<='Z' or ch==' ':\n",
    "        if ch in \"AEIOU\" or ch==' ':\n",
    "            res+=ch\n",
    "        else:\n",
    "            res+=chr(ord(ch)+32)\n",
    "    elif (ch>='0' and ch<='9') and (ch1>='0' and ch1<='9') and (ch2>='0' and ch2<='9'):\n",
    "        res+=ch2+ch1+ch  \n",
    "    i+=1\n",
    "print(res)"
   ]
  },
  {
   "cell_type": "markdown",
   "metadata": {},
   "source": [
    "137) i/p: \"123HELLO WORLD456\"\n",
    "     o/p: \"321*E**O *O***654\""
   ]
  },
  {
   "cell_type": "code",
   "execution_count": 35,
   "metadata": {},
   "outputs": [
    {
     "name": "stdout",
     "output_type": "stream",
     "text": [
      "321*E**O *O***654\n"
     ]
    }
   ],
   "source": [
    "st=\"123HELLO WORLD456\"\n",
    "i=0\n",
    "res=\"\"\n",
    "while i<=len(st)-3:\n",
    "    ch=st[i]\n",
    "    ch1=st[i+1]\n",
    "    ch2=st[i+2]\n",
    "    if ch>='A' and ch<='Z' or ch==' ':\n",
    "        if ch in \"AEIOU\" or ch==' ':\n",
    "            res+=ch\n",
    "        else:\n",
    "            ch='*'\n",
    "            res+=ch\n",
    "    elif (ch>='0' and ch<='9') and (ch1>='0' and ch1<='9') and (ch2>='0' and ch2<='9'):\n",
    "        res+=ch2+ch1+ch  \n",
    "    i+=1\n",
    "print(res)"
   ]
  },
  {
   "cell_type": "markdown",
   "metadata": {},
   "source": [
    "138) i/p: \"123HELLO WORLD456\"\n",
    "     o/p: \"123*E**O *O***456\""
   ]
  },
  {
   "cell_type": "code",
   "execution_count": 37,
   "metadata": {},
   "outputs": [
    {
     "name": "stdout",
     "output_type": "stream",
     "text": [
      "123*E**O *O***456\n"
     ]
    }
   ],
   "source": [
    "st=\"123HELLO WORLD456\"\n",
    "i=0\n",
    "res=\"\"\n",
    "while i<=len(st)-1:\n",
    "    ch=st[i]\n",
    "    if ch>='A' and ch<='Z' or ch==' ':\n",
    "        if ch in \"AEIOU\" or ch==' ':\n",
    "            res+=ch\n",
    "        else:\n",
    "            ch='*'\n",
    "            res+=ch\n",
    "    else:\n",
    "        res+=ch \n",
    "    i+=1\n",
    "print(res)"
   ]
  },
  {
   "cell_type": "markdown",
   "metadata": {},
   "source": [
    "140) i/p: \"abc\"\n",
    "     i/p: \"xyz\"\n",
    "     o/p: \"axbycz\""
   ]
  },
  {
   "cell_type": "code",
   "execution_count": 40,
   "metadata": {},
   "outputs": [
    {
     "name": "stdout",
     "output_type": "stream",
     "text": [
      "axbycz\n"
     ]
    }
   ],
   "source": [
    "st=\"abc\"\n",
    "st1=\"xyz\"\n",
    "i=0\n",
    "j=0\n",
    "res=\"\"\n",
    "while i<=len(st)-1 and j<=len(st1)-1:\n",
    "    ch=st[i]\n",
    "    ch1=st1[j]\n",
    "    res+=ch\n",
    "    res+=ch1\n",
    "    i+=1\n",
    "    j+=1\n",
    "print(res)\n"
   ]
  },
  {
   "cell_type": "markdown",
   "metadata": {},
   "source": [
    "141) i/p: \"abc\"\n",
    "     i/p: \"xyzw\"\n",
    "     o/p: \"axbyczw\""
   ]
  },
  {
   "cell_type": "code",
   "execution_count": 74,
   "metadata": {},
   "outputs": [
    {
     "name": "stdout",
     "output_type": "stream",
     "text": [
      "axbyczw\n"
     ]
    }
   ],
   "source": [
    "st=\"abc\"\n",
    "st1=\"xyzw\"\n",
    "i=0\n",
    "res=\"\"\n",
    "while i<=len(st)-1 or i<=len(st1)-1:\n",
    "    if i<=len(st)-1:\n",
    "        res+=st[i]\n",
    "    if i<=len(st1)-1:  \n",
    "        res+=st1[i]\n",
    "    i+=1\n",
    "print(res)\n"
   ]
  },
  {
   "cell_type": "markdown",
   "metadata": {},
   "source": [
    "142) i/p: \"abcd\"\n",
    "     i/p: \"xyz\"\n",
    "     o/p: \"axbyczd\""
   ]
  },
  {
   "cell_type": "code",
   "execution_count": 71,
   "metadata": {},
   "outputs": [
    {
     "name": "stdout",
     "output_type": "stream",
     "text": [
      "axbyczd\n"
     ]
    }
   ],
   "source": [
    "st=\"abcd\"\n",
    "st1=\"xyz\"\n",
    "i=0\n",
    "res=\"\"\n",
    "while i<=len(st)-1 or i<=len(st1)-1:\n",
    "    if i<=len(st)-1:\n",
    "        res+=st[i]\n",
    "    if i<=len(st1)-1:\n",
    "        res+=st1[i]\n",
    "    i+=1\n",
    "print(res)"
   ]
  },
  {
   "cell_type": "markdown",
   "metadata": {},
   "source": [
    "143) i/p: \"abc\"\n",
    "     i/p: \"xyzwop\"\n",
    "     o/p: \"axbyczwop\""
   ]
  },
  {
   "cell_type": "code",
   "execution_count": 64,
   "metadata": {},
   "outputs": [
    {
     "name": "stdout",
     "output_type": "stream",
     "text": [
      "axbyczwop\n"
     ]
    }
   ],
   "source": [
    "st=\"abc\"\n",
    "st1=\"xyzwop\"\n",
    "i=0\n",
    "res=\"\"\n",
    "while i<=len(st)-1 or i<=len(st1)-1:\n",
    "    if i<=len(st)-1:\n",
    "        res+=st[i]\n",
    "    if i<=len(st1)-1:\n",
    "        res+=st1[i]\n",
    "    i+=1\n",
    "print(res)"
   ]
  },
  {
   "cell_type": "markdown",
   "metadata": {},
   "source": [
    "144) i/p: \"abc123\"\n",
    "     o/p: \"a1b2c3\""
   ]
  },
  {
   "cell_type": "code",
   "execution_count": 82,
   "metadata": {},
   "outputs": [
    {
     "name": "stdout",
     "output_type": "stream",
     "text": [
      "a1b2c3\n"
     ]
    }
   ],
   "source": [
    "st=\"abc123\"\n",
    "i=0\n",
    "res=\"\"\n",
    "res1=\"\"\n",
    "op=\"\"\n",
    "while i<=len(st)-1:\n",
    "    ch=st[i]\n",
    "    if ch>='a' and ch<='z':\n",
    "        res+=ch\n",
    "    if ch>='0' and ch<='9':\n",
    "        res1+=ch\n",
    "    i+=1\n",
    "j=0\n",
    "while j<=len(res)-1 or j<=len(res1)-1:\n",
    "    if j<=len(res)-1:\n",
    "        op+=res[j]\n",
    "    if j<=len(st1)-1:\n",
    "        op+=res1[j]\n",
    "    j+=1\n",
    "print(op)"
   ]
  },
  {
   "cell_type": "markdown",
   "metadata": {},
   "source": [
    "145) i/p: \"abc12\"\n",
    "     o/p: \"a1b2c\""
   ]
  },
  {
   "cell_type": "code",
   "execution_count": 89,
   "metadata": {},
   "outputs": [
    {
     "name": "stdout",
     "output_type": "stream",
     "text": [
      "abc\n",
      "12\n",
      "a1b2c\n"
     ]
    }
   ],
   "source": [
    "st=\"abc12\"\n",
    "i=0\n",
    "res=\"\"\n",
    "res1=\"\"\n",
    "op=\"\"\n",
    "while i<len(st):\n",
    "    ch=st[i]\n",
    "    if ch>='a' and ch<='z':\n",
    "        res+=ch\n",
    "    if ch>='0' and ch<='9':\n",
    "        res1+=ch\n",
    "    i+=1\n",
    "j=0\n",
    "while j<len(res) or j<len(res1):\n",
    "    if j<=len(res)-1:\n",
    "        op+=res[j]\n",
    "    if j<=len(res1)-1:\n",
    "        op+=res1[j]\n",
    "    j+=1\n",
    "print(op)"
   ]
  },
  {
   "cell_type": "markdown",
   "metadata": {},
   "source": [
    "146) i/p: \"abc1234\"\n",
    "     o/p: \"a1b2c34\""
   ]
  },
  {
   "cell_type": "code",
   "execution_count": 90,
   "metadata": {},
   "outputs": [
    {
     "name": "stdout",
     "output_type": "stream",
     "text": [
      "a1b2c34\n"
     ]
    }
   ],
   "source": [
    "st=\"abc1234\"\n",
    "i=0\n",
    "res=\"\"\n",
    "res1=\"\"\n",
    "op=\"\"\n",
    "while i<len(st):\n",
    "    ch=st[i]\n",
    "    if ch>='a' and ch<='z':\n",
    "        res+=ch\n",
    "    if ch>='0' and ch<='9':\n",
    "        res1+=ch\n",
    "    i+=1\n",
    "j=0\n",
    "while j<len(res) or j<len(res1):\n",
    "    if j<=len(res)-1:\n",
    "        op+=res[j]\n",
    "    if j<=len(res1)-1:\n",
    "        op+=res1[j]\n",
    "    j+=1\n",
    "print(op)"
   ]
  },
  {
   "cell_type": "markdown",
   "metadata": {},
   "source": [
    "147) i/p: \"1a2bc34\"\n",
    "     o/p: \"a1b2c34\""
   ]
  },
  {
   "cell_type": "code",
   "execution_count": 91,
   "metadata": {},
   "outputs": [
    {
     "name": "stdout",
     "output_type": "stream",
     "text": [
      "a1b2c34\n"
     ]
    }
   ],
   "source": [
    "st=\"1a2bc34\"\n",
    "i=0\n",
    "res=\"\"\n",
    "res1=\"\"\n",
    "op=\"\"\n",
    "while i<len(st):\n",
    "    ch=st[i]\n",
    "    if ch>='a' and ch<='z':\n",
    "        res+=ch\n",
    "    if ch>='0' and ch<='9':\n",
    "        res1+=ch\n",
    "    i+=1\n",
    "j=0\n",
    "while j<len(res) or j<len(res1):\n",
    "    if j<=len(res)-1:\n",
    "        op+=res[j]\n",
    "    if j<=len(res1)-1:\n",
    "        op+=res1[j]\n",
    "    j+=1\n",
    "print(op)"
   ]
  },
  {
   "cell_type": "markdown",
   "metadata": {},
   "source": [
    "148) i/p: \"abcdnmpoijkll2yzabcd5\"\n",
    "     o/p: 3"
   ]
  },
  {
   "cell_type": "markdown",
   "metadata": {},
   "source": [
    "149) i/p: \"HAII HELLO\"\n",
    "     o/p: \"HAII213 HE4LLO5\""
   ]
  },
  {
   "cell_type": "markdown",
   "metadata": {},
   "source": [
    "150) i/p: \"HAII HELLO\"\n",
    "     O/P: \"H1AII 2H3EL4L5O\""
   ]
  },
  {
   "cell_type": "markdown",
   "metadata": {},
   "source": [
    "155) i/p: \"abcdefg\"\n",
    "     o/p: \"badcfeg\""
   ]
  },
  {
   "cell_type": "code",
   "execution_count": 8,
   "metadata": {},
   "outputs": [
    {
     "name": "stdout",
     "output_type": "stream",
     "text": [
      "bbccddeeffgg\n"
     ]
    }
   ],
   "source": [
    "st=\"abcdefg\"\n",
    "i=0\n",
    "res=\"\"\n",
    "while i<len(st)-1:\n",
    "    ch=st[i+1]\n",
    "    ch1=st[i+1]\n",
    "    if (ch>='a' and ch<='z') and (ch1>='a' and ch1<='z'):\n",
    "        res+=ch1\n",
    "        res+=ch\n",
    "    i+=1\n",
    "print(res)"
   ]
  }
 ],
 "metadata": {
  "kernelspec": {
   "display_name": "Python 3",
   "language": "python",
   "name": "python3"
  },
  "language_info": {
   "codemirror_mode": {
    "name": "ipython",
    "version": 3
   },
   "file_extension": ".py",
   "mimetype": "text/x-python",
   "name": "python",
   "nbconvert_exporter": "python",
   "pygments_lexer": "ipython3",
   "version": "3.12.1"
  }
 },
 "nbformat": 4,
 "nbformat_minor": 2
}
