{
 "cells": [
  {
   "cell_type": "code",
   "execution_count": 20,
   "metadata": {},
   "outputs": [
    {
     "name": "stdout",
     "output_type": "stream",
     "text": [
      "54 2916\n",
      "not\n"
     ]
    }
   ],
   "source": [
    "#auomorphic number\n",
    "n=int(input())\n",
    "c=0\n",
    "n1=n**2\n",
    "print(n,n1)\n",
    "while n!=0:\n",
    "    d=n%10\n",
    "    c+=1\n",
    "    n=n//10\n",
    "while n1!=0 and c!=0:\n",
    "    d1=n1%10\n",
    "    c-=1\n",
    "    n1=n1//10\n",
    "if d==d1:\n",
    "    print(\"automorphic\")\n",
    "else:print(\"not\")\n"
   ]
  },
  {
   "cell_type": "code",
   "execution_count": 13,
   "metadata": {},
   "outputs": [
    {
     "ename": "ValueError",
     "evalue": "invalid literal for int() with base 10: 'b'",
     "output_type": "error",
     "traceback": [
      "\u001b[1;31m---------------------------------------------------------------------------\u001b[0m",
      "\u001b[1;31mValueError\u001b[0m                                Traceback (most recent call last)",
      "Cell \u001b[1;32mIn[13], line 8\u001b[0m\n\u001b[0;32m      6\u001b[0m ch1\u001b[38;5;241m=\u001b[39mst[i\u001b[38;5;241m+\u001b[39m\u001b[38;5;241m1\u001b[39m]\n\u001b[0;32m      7\u001b[0m \u001b[38;5;28;01mif\u001b[39;00m (ch\u001b[38;5;241m>\u001b[39m\u001b[38;5;241m=\u001b[39m\u001b[38;5;124m'\u001b[39m\u001b[38;5;124ma\u001b[39m\u001b[38;5;124m'\u001b[39m \u001b[38;5;129;01mand\u001b[39;00m ch\u001b[38;5;241m<\u001b[39m\u001b[38;5;241m=\u001b[39m\u001b[38;5;124m'\u001b[39m\u001b[38;5;124mz\u001b[39m\u001b[38;5;124m'\u001b[39m) \u001b[38;5;129;01mor\u001b[39;00m (ch\u001b[38;5;241m>\u001b[39m\u001b[38;5;241m=\u001b[39m\u001b[38;5;124m'\u001b[39m\u001b[38;5;124mA\u001b[39m\u001b[38;5;124m'\u001b[39m \u001b[38;5;129;01mand\u001b[39;00m ch\u001b[38;5;241m<\u001b[39m\u001b[38;5;241m=\u001b[39m\u001b[38;5;124m'\u001b[39m\u001b[38;5;124mZ\u001b[39m\u001b[38;5;124m'\u001b[39m) \u001b[38;5;129;01mand\u001b[39;00m (ch1\u001b[38;5;241m>\u001b[39m\u001b[38;5;241m=\u001b[39m\u001b[38;5;124m'\u001b[39m\u001b[38;5;124m0\u001b[39m\u001b[38;5;124m'\u001b[39m \u001b[38;5;129;01mand\u001b[39;00m ch1\u001b[38;5;241m<\u001b[39m\u001b[38;5;241m=\u001b[39m\u001b[38;5;124m'\u001b[39m\u001b[38;5;124m9\u001b[39m\u001b[38;5;124m'\u001b[39m):\n\u001b[1;32m----> 8\u001b[0m     res\u001b[38;5;241m+\u001b[39m\u001b[38;5;241m=\u001b[39m\u001b[38;5;28mstr\u001b[39m(ch\u001b[38;5;241m*\u001b[39m\u001b[38;5;28;43mint\u001b[39;49m\u001b[43m(\u001b[49m\u001b[43mch1\u001b[49m\u001b[43m)\u001b[49m)\n\u001b[0;32m      9\u001b[0m \u001b[38;5;28;01melif\u001b[39;00m (ch\u001b[38;5;241m>\u001b[39m\u001b[38;5;241m=\u001b[39m\u001b[38;5;124m'\u001b[39m\u001b[38;5;124ma\u001b[39m\u001b[38;5;124m'\u001b[39m \u001b[38;5;129;01mand\u001b[39;00m ch\u001b[38;5;241m<\u001b[39m\u001b[38;5;241m=\u001b[39m\u001b[38;5;124m'\u001b[39m\u001b[38;5;124mz\u001b[39m\u001b[38;5;124m'\u001b[39m) \u001b[38;5;129;01mor\u001b[39;00m (ch\u001b[38;5;241m>\u001b[39m\u001b[38;5;241m=\u001b[39m\u001b[38;5;124m'\u001b[39m\u001b[38;5;124mA\u001b[39m\u001b[38;5;124m'\u001b[39m \u001b[38;5;129;01mand\u001b[39;00m ch\u001b[38;5;241m<\u001b[39m\u001b[38;5;241m=\u001b[39m\u001b[38;5;124m'\u001b[39m\u001b[38;5;124mZ\u001b[39m\u001b[38;5;124m'\u001b[39m):\n\u001b[0;32m     10\u001b[0m     res\u001b[38;5;241m=\u001b[39mres\u001b[38;5;241m+\u001b[39mch\n",
      "\u001b[1;31mValueError\u001b[0m: invalid literal for int() with base 10: 'b'"
     ]
    }
   ],
   "source": [
    "st=\"ab2c3d\"\n",
    "i=0\n",
    "res=\"\"\n",
    "while i<len(st)-1:\n",
    "    ch=st[i]\n",
    "    ch1=st[i+1]\n",
    "    if (ch>='a' and ch<='z') or (ch>='A' and ch<='Z') and (ch1>='0' and ch1<='9'):\n",
    "        res+=str(ch*int(ch1))\n",
    "    elif (ch>='a' and ch<='z') or (ch>='A' and ch<='Z'):\n",
    "        res=res+ch\n",
    "    res+=st[-1]\n",
    "    i+=1\n",
    "res+=st[-1]\n",
    "print(res)"
   ]
  },
  {
   "cell_type": "code",
   "execution_count": null,
   "metadata": {},
   "outputs": [],
   "source": [
    "st=\"ab2c3d\"\n",
    "i=0\n",
    "res=\"\"\n",
    "while i<len(st)-1:\n",
    "    ch=st[i]\n",
    "    ch1=st[i+1]\n",
    "    if (ch>='a' and ch<='z') or (ch>='A' and ch<='Z') and (ch1>='0' and ch1<='9'):\n",
    "        res+=str(ch*int(ch1))\n",
    "    elif (ch>='a' and ch<='z') or (ch>='A' and ch<='Z'):\n",
    "        res=res+ch\n",
    "    res+=st[-1]\n",
    "    i+=1\n",
    "res+=st[-1]\n",
    "print(res)"
   ]
  },
  {
   "cell_type": "code",
   "execution_count": 27,
   "metadata": {},
   "outputs": [
    {
     "name": "stdout",
     "output_type": "stream",
     "text": [
      "first occurance : 1 e\n"
     ]
    }
   ],
   "source": [
    "st=input()\n",
    "ch=input()\n",
    "i=0\n",
    "c=0\n",
    "while i<len(st)-1:\n",
    "    ch1=st[i]\n",
    "    if ch==ch1:\n",
    "        c+=1\n",
    "        if c==1:\n",
    "            print(ch,\"first occurance :\",i)\n",
    "    i+=1"
   ]
  },
  {
   "cell_type": "code",
   "execution_count": 39,
   "metadata": {},
   "outputs": [
    {
     "name": "stdout",
     "output_type": "stream",
     "text": [
      "s last occurance : 5\n"
     ]
    }
   ],
   "source": [
    "st=input()\n",
    "ch=input()\n",
    "i=len(st)-1\n",
    "c=0\n",
    "while i>=0:\n",
    "    ch1=st[i]\n",
    "    if ch==ch1:\n",
    "        c+=1\n",
    "        if c==1:\n",
    "            print(ch,\"last occurance :\",i)\n",
    "    i-=1"
   ]
  },
  {
   "cell_type": "code",
   "execution_count": 3,
   "metadata": {},
   "outputs": [
    {
     "name": "stdout",
     "output_type": "stream",
     "text": [
      "aaa\n"
     ]
    }
   ],
   "source": [
    "print(\"a\"*3)"
   ]
  },
  {
   "cell_type": "code",
   "execution_count": 37,
   "metadata": {},
   "outputs": [],
   "source": [
    "st=input()\n",
    "ch=input()\n",
    "i=0\n",
    "c=0\n",
    "while i<=len(st)-1:\n",
    "    ch1=st[i]\n",
    "    if ch==ch1:\n",
    "        c+=1\n",
    "        if c>1:\n",
    "            print(ch,\"not first occurance :\",i)\n",
    "    i+=1"
   ]
  },
  {
   "cell_type": "code",
   "execution_count": 41,
   "metadata": {},
   "outputs": [
    {
     "name": "stdout",
     "output_type": "stream",
     "text": [
      "s not last occurance : 3\n",
      "s not last occurance : 2\n"
     ]
    }
   ],
   "source": [
    "st=input()\n",
    "ch=input()\n",
    "i=len(st)-1\n",
    "c=0\n",
    "while i>=0:\n",
    "    ch1=st[i]\n",
    "    if ch==ch1:\n",
    "        c+=1\n",
    "        if c>1:\n",
    "            print(ch,\"not last occurance :\",i)\n",
    "    i-=1"
   ]
  },
  {
   "cell_type": "code",
   "execution_count": 45,
   "metadata": {},
   "outputs": [
    {
     "name": "stdout",
     "output_type": "stream",
     "text": [
      "['m', 'i', 's', 's', 'i', 's', 'i', 'p', 'i']\n"
     ]
    }
   ],
   "source": [
    "st=input()\n",
    "ch=input()\n",
    "i=0\n",
    "c=0\n",
    "while i<=len(st)-1:\n",
    "    ch1=st[i]\n",
    "    if ch==ch1:\n",
    "        c+=1\n",
    "        if c==1:\n",
    "            st=list(st)\n",
    "            del st[i]\n",
    "    i+=1\n",
    "print(str(st))"
   ]
  },
  {
   "cell_type": "code",
   "execution_count": 46,
   "metadata": {},
   "outputs": [
    {
     "name": "stdout",
     "output_type": "stream",
     "text": [
      "['m', 'i', 's', 's', 'i', 's', 'i', 'p', 'p']\n"
     ]
    }
   ],
   "source": [
    "st=input()\n",
    "ch=input()\n",
    "i=len(st)-1\n",
    "c=0\n",
    "while i>=0:\n",
    "    ch1=st[i]\n",
    "    if ch==ch1:\n",
    "        c+=1\n",
    "        if c==1:\n",
    "            st=list(st)\n",
    "            del st[i]\n",
    "    i-=1\n",
    "print(str(st))"
   ]
  },
  {
   "cell_type": "code",
   "execution_count": 48,
   "metadata": {},
   "outputs": [
    {
     "name": "stdout",
     "output_type": "stream",
     "text": [
      "p 2\n"
     ]
    }
   ],
   "source": [
    "st=input()\n",
    "ch=input()\n",
    "i=0\n",
    "c=0\n",
    "while i<=len(st)-1:\n",
    "    ch1=st[i]\n",
    "    if ch==ch1:\n",
    "        c+=1\n",
    "    i+=1\n",
    "print(ch,c)"
   ]
  },
  {
   "cell_type": "code",
   "execution_count": 62,
   "metadata": {},
   "outputs": [
    {
     "name": "stdout",
     "output_type": "stream",
     "text": [
      "h 0\n"
     ]
    }
   ],
   "source": [
    "st=input()\n",
    "i=0\n",
    "maxCount=0\n",
    "maxChar=st[0]\n",
    "while i<=len(st)-1:\n",
    "    ch=st[i]\n",
    "    c=0\n",
    "    j=0\n",
    "    while j<=len(st)-1:\n",
    "        ch1=st[j]\n",
    "        if ch==ch1:\n",
    "            c+=1\n",
    "        j+=1\n",
    "    if c>maxCount:\n",
    "        maxCount=c\n",
    "        maxChar=ch\n",
    "    i+=1\n",
    "print(maxChar, maxCount)"
   ]
  },
  {
   "cell_type": "code",
   "execution_count": 12,
   "metadata": {},
   "outputs": [
    {
     "name": "stdout",
     "output_type": "stream",
     "text": [
      "h 6\n"
     ]
    }
   ],
   "source": [
    "st=input()\n",
    "i=0\n",
    "minCount=0\n",
    "minChar=st[0]\n",
    "while i<=len(st)-1:\n",
    "    ch=st[i]\n",
    "    c=0\n",
    "    j=0\n",
    "    while j<=len(st)-1:\n",
    "        ch1=st[j]\n",
    "        if ch==ch1:\n",
    "            c+=1\n",
    "        j+=1\n",
    "    if minCount == 0 or c < minCount:\n",
    "        minCount=c\n",
    "        minChar=ch\n",
    "    i+=1\n",
    "print(minChar,minCount)"
   ]
  }
 ],
 "metadata": {
  "kernelspec": {
   "display_name": "Python 3",
   "language": "python",
   "name": "python3"
  },
  "language_info": {
   "codemirror_mode": {
    "name": "ipython",
    "version": 3
   },
   "file_extension": ".py",
   "mimetype": "text/x-python",
   "name": "python",
   "nbconvert_exporter": "python",
   "pygments_lexer": "ipython3",
   "version": "3.12.1"
  }
 },
 "nbformat": 4,
 "nbformat_minor": 2
}
