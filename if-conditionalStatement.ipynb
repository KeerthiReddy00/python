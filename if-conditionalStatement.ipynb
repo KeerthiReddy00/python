{
 "cells": [
  {
   "cell_type": "code",
   "execution_count": 2,
   "metadata": {},
   "outputs": [
    {
     "name": "stdout",
     "output_type": "stream",
     "text": [
      "hello\n",
      "hi\n",
      "bye\n",
      "tata khatam\n",
      "goodbye\n",
      "program ends\n"
     ]
    }
   ],
   "source": [
    "value=21\n",
    "if value>10:\n",
    "    print(\"hello\")\n",
    "    print(\"hi\")\n",
    "    print(\"bye\")\n",
    "    print(\"tata khatam\")\n",
    "    print(\"goodbye\")\n",
    "print(\"program ends\")"
   ]
  },
  {
   "cell_type": "code",
   "execution_count": 3,
   "metadata": {},
   "outputs": [
    {
     "name": "stdout",
     "output_type": "stream",
     "text": [
      "program ends\n"
     ]
    }
   ],
   "source": [
    "value=9\n",
    "if value>10:\n",
    "    print(\"hello\")\n",
    "    print(\"hi\")\n",
    "    print(\"bye\")\n",
    "    print(\"tata khatam\")\n",
    "    print(\"goodbye\")\n",
    "print(\"program ends\")"
   ]
  },
  {
   "cell_type": "code",
   "execution_count": 4,
   "metadata": {},
   "outputs": [
    {
     "name": "stdout",
     "output_type": "stream",
     "text": [
      "divisible by 3\n",
      "9\n",
      "program end\n"
     ]
    }
   ],
   "source": [
    "value=9\n",
    "if value%3==0:\n",
    "    print(\"divisible by 3\" )\n",
    "    print(value)\n",
    "print(\"program end\")\n"
   ]
  },
  {
   "cell_type": "code",
   "execution_count": 5,
   "metadata": {},
   "outputs": [
    {
     "name": "stdout",
     "output_type": "stream",
     "text": [
      "program end\n"
     ]
    }
   ],
   "source": [
    "value=13\n",
    "if value%3==0:\n",
    "    print(\"divisible by 3\" )\n",
    "    print(value)\n",
    "print(\"program end\")\n"
   ]
  },
  {
   "cell_type": "code",
   "execution_count": 6,
   "metadata": {},
   "outputs": [
    {
     "name": "stdout",
     "output_type": "stream",
     "text": [
      "it is present between 10 and 50\n",
      "25\n",
      "program ends\n"
     ]
    }
   ],
   "source": [
    "num=25\n",
    "if num>=10 and num<=50:\n",
    "    print(\"it is present between 10 and 50\")\n",
    "    print(50-num)\n",
    "print(\"program ends\")\n"
   ]
  },
  {
   "cell_type": "code",
   "execution_count": 7,
   "metadata": {},
   "outputs": [
    {
     "name": "stdout",
     "output_type": "stream",
     "text": [
      "program ends\n"
     ]
    }
   ],
   "source": [
    "num=70\n",
    "if num>=10 and num<=50:\n",
    "    print(\"it is present between 10 and 50\")\n",
    "    print(50-num)\n",
    "print(\"program ends\")"
   ]
  },
  {
   "cell_type": "code",
   "execution_count": 8,
   "metadata": {},
   "outputs": [
    {
     "name": "stdout",
     "output_type": "stream",
     "text": [
      "divisible by both 3 and 5\n",
      "12\n",
      "10\n",
      "program end\n"
     ]
    }
   ],
   "source": [
    "num=15\n",
    "if num%3==0 and num%5==0:\n",
    "    print(\"divisible by both 3 and 5\")\n",
    "    print(num-3)\n",
    "    print(num-5)\n",
    "print(\"program end\")"
   ]
  },
  {
   "cell_type": "code",
   "execution_count": 10,
   "metadata": {},
   "outputs": [
    {
     "name": "stdout",
     "output_type": "stream",
     "text": [
      "program end\n"
     ]
    }
   ],
   "source": [
    "num=13\n",
    "if num%3==0 and num%5==0:\n",
    "    print(\"divisible by both 3 and 5\")\n",
    "    print(num-3)\n",
    "    print(num-5)\n",
    "print(\"program end\")"
   ]
  },
  {
   "cell_type": "code",
   "execution_count": 11,
   "metadata": {},
   "outputs": [
    {
     "name": "stdout",
     "output_type": "stream",
     "text": [
      "100\n",
      "program ends\n"
     ]
    }
   ],
   "source": [
    "num=10\n",
    "if(20%num==0):\n",
    "    res=num**2\n",
    "    print(res)\n",
    "print(\"program ends\")"
   ]
  },
  {
   "cell_type": "code",
   "execution_count": 12,
   "metadata": {},
   "outputs": [
    {
     "name": "stdout",
     "output_type": "stream",
     "text": [
      "program ends\n"
     ]
    }
   ],
   "source": [
    "num=17\n",
    "if(20%num==0):\n",
    "    res=num**2\n",
    "    print(res)\n",
    "print(\"program ends\")"
   ]
  },
  {
   "cell_type": "code",
   "execution_count": 16,
   "metadata": {},
   "outputs": [
    {
     "name": "stdout",
     "output_type": "stream",
     "text": [
      "125\n",
      "program end\n"
     ]
    }
   ],
   "source": [
    "num=5\n",
    "if( 20%num==0 and 25%num==0):\n",
    "    print(num**3)\n",
    "print(\"program end\")\n"
   ]
  },
  {
   "cell_type": "code",
   "execution_count": 17,
   "metadata": {},
   "outputs": [
    {
     "name": "stdout",
     "output_type": "stream",
     "text": [
      "program end\n"
     ]
    }
   ],
   "source": [
    "num=3\n",
    "if( 20%num==0 and 25%num==0):\n",
    "    print(num**3)\n",
    "print(\"program end\")\n"
   ]
  },
  {
   "cell_type": "code",
   "execution_count": 18,
   "metadata": {},
   "outputs": [
    {
     "name": "stdout",
     "output_type": "stream",
     "text": [
      "68\n",
      "program ends\n"
     ]
    }
   ],
   "source": [
    "ch='D'\n",
    "if ch>='A' and ch<='Z':\n",
    "    print(ord(ch))\n",
    "print(\"program ends\")"
   ]
  },
  {
   "cell_type": "code",
   "execution_count": 19,
   "metadata": {},
   "outputs": [
    {
     "name": "stdout",
     "output_type": "stream",
     "text": [
      "program ends\n"
     ]
    }
   ],
   "source": [
    "ch='e'\n",
    "if ch>='A' and ch<='Z':\n",
    "    print(ord(ch))\n",
    "print(\"program ends\")"
   ]
  },
  {
   "cell_type": "code",
   "execution_count": 22,
   "metadata": {},
   "outputs": [
    {
     "name": "stdout",
     "output_type": "stream",
     "text": [
      "b\n",
      "98\n",
      "program end\n"
     ]
    }
   ],
   "source": [
    "ch='b'\n",
    "if ch>='a'and ch<='z' and ord(ch)%2==0:\n",
    "    print(ch)\n",
    "    print(ord(ch))\n",
    "print(\"program end\")\n",
    "\n"
   ]
  },
  {
   "cell_type": "markdown",
   "metadata": {},
   "source": [
    "Assignment on if statement:\n",
    "----------------------------"
   ]
  },
  {
   "cell_type": "code",
   "execution_count": 23,
   "metadata": {},
   "outputs": [
    {
     "name": "stdout",
     "output_type": "stream",
     "text": [
      "hello, good morning\n"
     ]
    }
   ],
   "source": [
    "num=3\n",
    "if num>2:\n",
    "    print(\"hello, good morning\")"
   ]
  },
  {
   "cell_type": "code",
   "execution_count": 24,
   "metadata": {},
   "outputs": [
    {
     "name": "stdout",
     "output_type": "stream",
     "text": [
      "29\n",
      "29\n"
     ]
    }
   ],
   "source": [
    "num=9\n",
    "if num%3==0:\n",
    "    print(num+20)\n",
    "    num+=20\n",
    "print(num)"
   ]
  },
  {
   "cell_type": "code",
   "execution_count": 25,
   "metadata": {},
   "outputs": [
    {
     "name": "stdout",
     "output_type": "stream",
     "text": [
      "52\n",
      "12\n",
      "640\n",
      "1.6\n",
      "1\n",
      "12\n",
      "1267650600228229401496703205376\n"
     ]
    }
   ],
   "source": [
    "num=32\n",
    "if num>=30 and num<=40:\n",
    "    print(num+20)\n",
    "    print(num-20)\n",
    "    print(num*20)\n",
    "    print(num/20)\n",
    "    print(num//20)\n",
    "    print(num%20)\n",
    "    print(num**20)"
   ]
  },
  {
   "cell_type": "code",
   "execution_count": 28,
   "metadata": {},
   "outputs": [
    {
     "name": "stdout",
     "output_type": "stream",
     "text": [
      "48\n",
      "24\n"
     ]
    }
   ],
   "source": [
    "num=24\n",
    "if num%2==0 and num>20:\n",
    "    print(num*2)\n",
    "print(num)"
   ]
  },
  {
   "cell_type": "code",
   "execution_count": 31,
   "metadata": {},
   "outputs": [
    {
     "name": "stdout",
     "output_type": "stream",
     "text": [
      "114\n"
     ]
    }
   ],
   "source": [
    "ch='r'\n",
    "if (ch>='a' and ch<='z' )or (ch>='A' and ch<='Z'):\n",
    "    print(ord(ch))"
   ]
  },
  {
   "cell_type": "code",
   "execution_count": 41,
   "metadata": {},
   "outputs": [
    {
     "name": "stdout",
     "output_type": "stream",
     "text": [
      "E\n"
     ]
    }
   ],
   "source": [
    "ch='e'\n",
    "if ch>='a' and ch<='z': \n",
    "    print(ch.upper())"
   ]
  },
  {
   "cell_type": "code",
   "execution_count": 43,
   "metadata": {},
   "outputs": [
    {
     "name": "stdout",
     "output_type": "stream",
     "text": [
      "6\n"
     ]
    }
   ],
   "source": [
    "ch='8'\n",
    "if ch>='0' and ch<='9':\n",
    "    print(ord(ch)%10)"
   ]
  },
  {
   "cell_type": "code",
   "execution_count": 46,
   "metadata": {},
   "outputs": [
    {
     "name": "stdout",
     "output_type": "stream",
     "text": [
      "Age2 is eligible for voting\n"
     ]
    }
   ],
   "source": [
    "age1=12\n",
    "age2=19\n",
    "if age1>=18:\n",
    "    print(\"Age1 is eligible for voting\")\n",
    "if age2>=18:\n",
    "    print(\"Age2 is eligible for voting\")"
   ]
  },
  {
   "cell_type": "code",
   "execution_count": 47,
   "metadata": {},
   "outputs": [
    {
     "name": "stdout",
     "output_type": "stream",
     "text": [
      "eligible for marriage\n"
     ]
    }
   ],
   "source": [
    "girl=18\n",
    "boy=22\n",
    "if girl>=18 and boy>=21:\n",
    "    print(\"eligible for marriage\")"
   ]
  }
 ],
 "metadata": {
  "kernelspec": {
   "display_name": "Python 3",
   "language": "python",
   "name": "python3"
  },
  "language_info": {
   "codemirror_mode": {
    "name": "ipython",
    "version": 3
   },
   "file_extension": ".py",
   "mimetype": "text/x-python",
   "name": "python",
   "nbconvert_exporter": "python",
   "pygments_lexer": "ipython3",
   "version": "3.12.1"
  }
 },
 "nbformat": 4,
 "nbformat_minor": 2
}
