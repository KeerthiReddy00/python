{
 "cells": [
  {
   "cell_type": "code",
   "execution_count": 1,
   "metadata": {},
   "outputs": [
    {
     "name": "stdout",
     "output_type": "stream",
     "text": [
      "1\n",
      "3\n",
      "5\n",
      "7\n"
     ]
    }
   ],
   "source": [
    "l=[1,2,3,4,5,6,7,8]\n",
    "i=0\n",
    "while i<=len(l)-1:\n",
    "    if l[i]%2==1:\n",
    "        print(l[i])\n",
    "    i+=1"
   ]
  },
  {
   "cell_type": "code",
   "execution_count": 2,
   "metadata": {},
   "outputs": [
    {
     "name": "stdout",
     "output_type": "stream",
     "text": [
      "hi\n"
     ]
    }
   ],
   "source": [
    "l=[\"hi\",\"hello\",\"keerthi\",\"how\",\"are\",\"you\"]\n",
    "i=0\n",
    "while i<=len(l)-1:\n",
    "    s=len(l[i])\n",
    "    if s%2==0:\n",
    "        print(l[i])\n",
    "    i+=1"
   ]
  },
  {
   "cell_type": "code",
   "execution_count": 3,
   "metadata": {},
   "outputs": [
    {
     "name": "stdout",
     "output_type": "stream",
     "text": [
      "0 1\n",
      "1 2\n",
      "2 hi\n",
      "3 45\n",
      "4 37\n",
      "5 keerthi\n"
     ]
    }
   ],
   "source": [
    "l=[1,2,\"hi\",45,37,\"keerthi\"]\n",
    "i=0\n",
    "while i<=len(l)-1:\n",
    "    print(i,l[i])\n",
    "    i+=1"
   ]
  },
  {
   "cell_type": "code",
   "execution_count": 5,
   "metadata": {},
   "outputs": [
    {
     "name": "stdout",
     "output_type": "stream",
     "text": [
      "['hi', 'hello', 'bye', 'yes', 1, 2, 3, 4]\n"
     ]
    }
   ],
   "source": [
    "l=[1,2,3,4]\n",
    "l1=[\"hi\",\"hello\",\"bye\",\"yes\"]\n",
    "i=0\n",
    "while i<=len(l)-1:\n",
    "    s=l[i]\n",
    "    l1+=[s]\n",
    "    i+=1\n",
    "print(l1)"
   ]
  },
  {
   "cell_type": "code",
   "execution_count": 6,
   "metadata": {},
   "outputs": [
    {
     "name": "stdout",
     "output_type": "stream",
     "text": [
      "3 2\n",
      "4 4\n",
      "7 10\n",
      "12 20\n",
      "27 50\n",
      "39 74\n",
      "50 96\n",
      "9 14\n"
     ]
    }
   ],
   "source": [
    "l=[1,2,5,10,25,37,48,7]\n",
    "n=int(input())\n",
    "i=0\n",
    "while i<=len(l)-1:\n",
    "    s=l[i]\n",
    "    print(s+n,s*n)\n",
    "    i+=1"
   ]
  },
  {
   "cell_type": "code",
   "execution_count": 10,
   "metadata": {},
   "outputs": [
    {
     "name": "stdout",
     "output_type": "stream",
     "text": [
      "empty\n"
     ]
    }
   ],
   "source": [
    "l=[]\n",
    "if len(l)==0:\n",
    "    print(\"empty\")\n",
    "else:\n",
    "    print(\"not empty\")"
   ]
  },
  {
   "cell_type": "code",
   "execution_count": 11,
   "metadata": {},
   "outputs": [
    {
     "name": "stdout",
     "output_type": "stream",
     "text": [
      "[1, 2, 3, 'hi', 'hello', 35, 'there']\n"
     ]
    }
   ],
   "source": [
    "l=[1,2,3,\"hi\",\"hello\",35,\"there\"]\n",
    "l1=[]\n",
    "i=0\n",
    "while i<=len(l)-1:\n",
    "    s=l[i]\n",
    "    l1+=[s]\n",
    "    i+=1\n",
    "print(l1)"
   ]
  },
  {
   "cell_type": "code",
   "execution_count": 12,
   "metadata": {},
   "outputs": [
    {
     "name": "stdout",
     "output_type": "stream",
     "text": [
      "even 5\n",
      "odd 3\n"
     ]
    }
   ],
   "source": [
    "l=[1,2,3,4,5,6,8,8]\n",
    "i=0\n",
    "c=0\n",
    "c1=0\n",
    "while i<=len(l)-1:\n",
    "    s=l[i]\n",
    "    if s%2==0:\n",
    "        c+=1\n",
    "    if s%2==1:\n",
    "        c1+=1\n",
    "    i+=1\n",
    "print(\"even\",c)\n",
    "print(\"odd\",c1)"
   ]
  },
  {
   "cell_type": "code",
   "execution_count": 13,
   "metadata": {},
   "outputs": [
    {
     "name": "stdout",
     "output_type": "stream",
     "text": [
      "positive 4\n",
      "negative 3\n"
     ]
    }
   ],
   "source": [
    "l=[-1,-2,-3,1,2,3,4]\n",
    "i=0\n",
    "c=0\n",
    "c1=0\n",
    "while i<=len(l)-1:\n",
    "    s=l[i]\n",
    "    if s>0:\n",
    "        c+=1\n",
    "    elif s<0:\n",
    "        c1+=1\n",
    "    i+=1\n",
    "print(\"positive\",c)\n",
    "print(\"negative\",c1)"
   ]
  },
  {
   "cell_type": "code",
   "execution_count": 14,
   "metadata": {},
   "outputs": [
    {
     "name": "stdout",
     "output_type": "stream",
     "text": [
      "39\n"
     ]
    }
   ],
   "source": [
    "l=[1,7,39,35,8,18,3]\n",
    "i=0\n",
    "maxDigit=0\n",
    "while i<=len(l)-1:\n",
    "    s=l[i]\n",
    "    if maxDigit<s:\n",
    "        maxDigit=s\n",
    "    i+=1\n",
    "print(maxDigit)"
   ]
  },
  {
   "cell_type": "code",
   "execution_count": 15,
   "metadata": {},
   "outputs": [
    {
     "name": "stdout",
     "output_type": "stream",
     "text": [
      "48\n",
      "1\n"
     ]
    }
   ],
   "source": [
    "l=[2,7,39,35,48,18,3,1]\n",
    "i=0\n",
    "minDigit=0\n",
    "maxDigit=0\n",
    "while i<=len(l)-1:\n",
    "    s=l[i]\n",
    "    if maxDigit<s:\n",
    "        maxDigit=s\n",
    "    if minDigit==0 or minDigit>0:\n",
    "        minDigit=s\n",
    "    i+=1\n",
    "print(maxDigit)\n",
    "print(minDigit)"
   ]
  },
  {
   "cell_type": "code",
   "execution_count": 16,
   "metadata": {},
   "outputs": [
    {
     "name": "stdout",
     "output_type": "stream",
     "text": [
      "6\n"
     ]
    }
   ],
   "source": [
    "l=[1,2,3,4,5,6]\n",
    "length=0\n",
    "i=0\n",
    "while i<=len(l)-1:\n",
    "    length+=1\n",
    "    i+=1\n",
    "print(length)"
   ]
  },
  {
   "cell_type": "code",
   "execution_count": 17,
   "metadata": {},
   "outputs": [
    {
     "name": "stdout",
     "output_type": "stream",
     "text": [
      "1\n",
      "2\n",
      "hi\n",
      "bye\n",
      "37\n"
     ]
    }
   ],
   "source": [
    "l=[1,2,\"hi\",\"bye\",37]\n",
    "i=0\n",
    "while i<=len(l)-1:\n",
    "    print(l[i])\n",
    "    i+=1\n",
    "    "
   ]
  },
  {
   "cell_type": "code",
   "execution_count": 18,
   "metadata": {},
   "outputs": [
    {
     "name": "stdout",
     "output_type": "stream",
     "text": [
      "2\n",
      "8\n",
      "12\n",
      "58\n"
     ]
    }
   ],
   "source": [
    "l=[2,8,7,12,1,37,7,58]\n",
    "i=0\n",
    "while i<=len(l)-1:\n",
    "    s=l[i]\n",
    "    if s%2==0:\n",
    "        print(s)\n",
    "    i+=1"
   ]
  },
  {
   "cell_type": "code",
   "execution_count": 19,
   "metadata": {},
   "outputs": [
    {
     "name": "stdout",
     "output_type": "stream",
     "text": [
      "1\n",
      "5\n",
      "7\n",
      "9\n",
      "13\n"
     ]
    }
   ],
   "source": [
    "l=[1,2,5,6,7,9,13]\n",
    "i=0\n",
    "while i<=len(l)-1:\n",
    "    s=l[i]\n",
    "    if s%2==1:\n",
    "        print(s)\n",
    "    i+=1"
   ]
  },
  {
   "cell_type": "code",
   "execution_count": 20,
   "metadata": {},
   "outputs": [
    {
     "name": "stdout",
     "output_type": "stream",
     "text": [
      "1\n",
      "7\n",
      "8\n",
      "9\n"
     ]
    }
   ],
   "source": [
    "l=[1,-2,-3,-5,-6,7,8,9]\n",
    "i=0\n",
    "while i<=len(l)-1:\n",
    "    s=l[i]\n",
    "    if s>0:\n",
    "        print(s)\n",
    "    i+=1"
   ]
  },
  {
   "cell_type": "code",
   "execution_count": 21,
   "metadata": {},
   "outputs": [
    {
     "name": "stdout",
     "output_type": "stream",
     "text": [
      "-2\n",
      "-3\n",
      "-5\n",
      "-6\n"
     ]
    }
   ],
   "source": [
    "l=[1,-2,-3,-5,-6,7,8,9]\n",
    "i=0\n",
    "while i<=len(l)-1:\n",
    "    s=l[i]\n",
    "    if s<0:\n",
    "        print(s)\n",
    "    i+=1"
   ]
  },
  {
   "cell_type": "code",
   "execution_count": 22,
   "metadata": {},
   "outputs": [
    {
     "name": "stdout",
     "output_type": "stream",
     "text": [
      "[2, 4, 6, 10]\n",
      "[1, 5, 7, 9, 11, 11]\n"
     ]
    }
   ],
   "source": [
    "l=[1,2,4,5,6,7,9,11,10,11]\n",
    "l1=[]\n",
    "l2=[]\n",
    "i=0\n",
    "while i<=len(l)-1:\n",
    "    s=l[i]\n",
    "    if s%2==0:\n",
    "        l1+=[s]\n",
    "    elif s%2==1:\n",
    "        l2+=[s]\n",
    "    i+=1\n",
    "print(l1)\n",
    "print(l2)"
   ]
  },
  {
   "cell_type": "code",
   "execution_count": 23,
   "metadata": {},
   "outputs": [
    {
     "name": "stdout",
     "output_type": "stream",
     "text": [
      "[2, 5, 6, 10, 11]\n",
      "[-1, -4, -7, -9, -11]\n"
     ]
    }
   ],
   "source": [
    "l=[-1,2,-4,5,6,-7,-9,-11,10,11]\n",
    "l1=[]\n",
    "l2=[]\n",
    "i=0\n",
    "while i<=len(l)-1:\n",
    "    s=l[i]\n",
    "    if s>0:\n",
    "        l1+=[s]\n",
    "    elif s<0:\n",
    "        l2+=[s]\n",
    "    i+=1\n",
    "print(l1)\n",
    "print(l2)"
   ]
  },
  {
   "cell_type": "code",
   "execution_count": 25,
   "metadata": {},
   "outputs": [
    {
     "name": "stdout",
     "output_type": "stream",
     "text": [
      "[1, 2, 3, 4, 5]\n"
     ]
    }
   ],
   "source": [
    "l=[1,2,3,4,5,1,2]\n",
    "l1=[]\n",
    "i=0\n",
    "while i<=len(l)-1:\n",
    "    s=l[i]\n",
    "    if s not in l1:\n",
    "        l1+=[s]\n",
    "    i+=1\n",
    "print(l1)"
   ]
  },
  {
   "cell_type": "code",
   "execution_count": 26,
   "metadata": {},
   "outputs": [
    {
     "name": "stdout",
     "output_type": "stream",
     "text": [
      "[1, 3, 5, 7]\n"
     ]
    }
   ],
   "source": [
    "l=[1,2,3,4,5,6,7,8]\n",
    "l1=[]\n",
    "i=0\n",
    "while i<=len(l)-1:\n",
    "    s=l[i]\n",
    "    if s%2==1:\n",
    "        l1+=[s]\n",
    "    i+=1\n",
    "print(l1)"
   ]
  },
  {
   "cell_type": "code",
   "execution_count": 28,
   "metadata": {},
   "outputs": [
    {
     "name": "stdout",
     "output_type": "stream",
     "text": [
      "[8, 7, 6, 5, 4, 3, 2, 1]\n"
     ]
    }
   ],
   "source": [
    "l=[1,2,3,4,5,6,7,8]\n",
    "l1=[]\n",
    "i=len(l)-1\n",
    "while i>=0:\n",
    "    s=l[i]\n",
    "    l1+=[s]\n",
    "    i-=1\n",
    "print(l1)"
   ]
  },
  {
   "cell_type": "code",
   "execution_count": 29,
   "metadata": {},
   "outputs": [
    {
     "name": "stdout",
     "output_type": "stream",
     "text": [
      "9987\n",
      "8655\n"
     ]
    }
   ],
   "source": [
    "l=[10,22,889,9987,8655]\n",
    "i=0\n",
    "max=0\n",
    "secondmax=0\n",
    "while i<=len(l)-1:\n",
    "    s=l[i]\n",
    "    if max<s or secondmax<max:\n",
    "        secondmax=max\n",
    "        max=s\n",
    "    i+=1\n",
    "print(secondmax)\n",
    "print(max)"
   ]
  },
  {
   "cell_type": "code",
   "execution_count": 30,
   "metadata": {},
   "outputs": [
    {
     "name": "stdout",
     "output_type": "stream",
     "text": [
      "1\n"
     ]
    }
   ],
   "source": [
    "l=[1,2,7,31,48,51,64,71,28,19,11,8]\n",
    "i=0\n",
    "mindigit=0\n",
    "while i<=len(l)-1:\n",
    "    s=l[i]\n",
    "    if mindigit==0 or mindigit>s:\n",
    "        mindigit=s\n",
    "    i+=1\n",
    "print(mindigit)"
   ]
  },
  {
   "cell_type": "code",
   "execution_count": 31,
   "metadata": {},
   "outputs": [
    {
     "name": "stdout",
     "output_type": "stream",
     "text": [
      "28\n"
     ]
    }
   ],
   "source": [
    "l=[1,2,3,4,5,6,7]\n",
    "sum=0\n",
    "i=0\n",
    "while i<=len(l)-1:\n",
    "    s=l[i]\n",
    "    sum+=s\n",
    "    i+=1\n",
    "print(sum)"
   ]
  },
  {
   "cell_type": "code",
   "execution_count": 32,
   "metadata": {},
   "outputs": [
    {
     "name": "stdout",
     "output_type": "stream",
     "text": [
      "20\n",
      "25\n"
     ]
    }
   ],
   "source": [
    "l=[1,2,3,4,5,6,7,8,9]\n",
    "even=0\n",
    "odd=0\n",
    "i=0\n",
    "while i<=len(l)-1:\n",
    "    s=l[i]\n",
    "    if s%2==0:\n",
    "        even+=s\n",
    "    elif s%2==1:\n",
    "        odd+=s\n",
    "    i+=1\n",
    "print(even)\n",
    "print(odd)"
   ]
  },
  {
   "cell_type": "code",
   "execution_count": 1,
   "metadata": {},
   "outputs": [
    {
     "name": "stdout",
     "output_type": "stream",
     "text": [
      "9\n",
      "8\n",
      "8\n"
     ]
    }
   ],
   "source": [
    "l=[\"PYspiders@12\",\"JsPiDers@123\",\"QsPIderS@1234\"]\n",
    "i=0\n",
    "while i<=len(l)-1:\n",
    "    ch=l[i]\n",
    "    j=0\n",
    "    c=0\n",
    "    while j<=len(ch)-1:\n",
    "        ch1=l[i][j]\n",
    "        if (ch1>='A' and ch1<='Z') or (ch1>='a' and ch1<='z'):\n",
    "            c+=1\n",
    "        j+=1\n",
    "    print(c)\n",
    "    i+=1"
   ]
  },
  {
   "cell_type": "code",
   "execution_count": 2,
   "metadata": {},
   "outputs": [
    {
     "name": "stdout",
     "output_type": "stream",
     "text": [
      "2\n",
      "3\n",
      "4\n"
     ]
    }
   ],
   "source": [
    "l=[\"PYspiders@12\",\"JsPiDers@123\",\"QsPIderS@1234\"]\n",
    "i=0\n",
    "while i<=len(l)-1:\n",
    "    ch=l[i]\n",
    "    j=0\n",
    "    c=0\n",
    "    while j<=len(ch)-1:\n",
    "        ch1=l[i][j]\n",
    "        if ch1>='0' and ch1<='9':\n",
    "            c+=1\n",
    "        j+=1\n",
    "    print(c)\n",
    "    i+=1"
   ]
  },
  {
   "cell_type": "code",
   "execution_count": 4,
   "metadata": {},
   "outputs": [
    {
     "name": "stdout",
     "output_type": "stream",
     "text": [
      "2\n",
      "2\n",
      "2\n"
     ]
    }
   ],
   "source": [
    "l=[\"PYspiders@12\",\"JsPiDers@123\",\"QsPIderS@1234\"]\n",
    "i=0\n",
    "while i<=len(l)-1:\n",
    "    ch=l[i]\n",
    "    j=0\n",
    "    c=0\n",
    "    while j<=len(ch)-1:\n",
    "        ch1=l[i][j]\n",
    "        if ch1 in \"AEIOUaeiou\":\n",
    "            c+=1\n",
    "        j+=1\n",
    "    print(c)\n",
    "    i+=1"
   ]
  },
  {
   "cell_type": "code",
   "execution_count": 5,
   "metadata": {},
   "outputs": [
    {
     "name": "stdout",
     "output_type": "stream",
     "text": [
      "2\n",
      "3\n",
      "4\n"
     ]
    }
   ],
   "source": [
    "l=[\"PYspiders@12\",\"JsPiDers@123\",\"QsPIderS@1234\"]\n",
    "i=0\n",
    "while i<=len(l)-1:\n",
    "    ch=l[i]\n",
    "    j=0\n",
    "    c=0\n",
    "    while j<=len(ch)-1:\n",
    "        ch1=l[i][j]\n",
    "        if ch1>='A' and ch1<='Z':\n",
    "            c+=1\n",
    "        j+=1\n",
    "    print(c)\n",
    "    i+=1"
   ]
  },
  {
   "cell_type": "code",
   "execution_count": 10,
   "metadata": {},
   "outputs": [
    {
     "name": "stdout",
     "output_type": "stream",
     "text": [
      "9\n",
      "2\n",
      "2\n",
      "2\n",
      "8\n",
      "3\n",
      "3\n",
      "3\n",
      "8\n",
      "4\n",
      "4\n",
      "4\n"
     ]
    }
   ],
   "source": [
    "l=[\"PYspiders@12\",\"JsPiDers@123\",\"QsPIderS@1234\"]\n",
    "i=0\n",
    "while i<=len(l)-1:\n",
    "    ch=l[i]\n",
    "    j=0\n",
    "    j1=0\n",
    "    j2=0\n",
    "    j3=0\n",
    "    c=0\n",
    "    c1=0\n",
    "    c2=0\n",
    "    c3=0\n",
    "    while j<=len(ch)-1:\n",
    "        ch1=l[i][j]\n",
    "        if (ch1>='A' and ch1<='Z') or (ch1>='a' and ch1<='z'):\n",
    "            c+=1\n",
    "        j+=1\n",
    "    print(c)\n",
    "    while j1<=len(ch)-1:\n",
    "        ch2=l[i][j1]\n",
    "        if ch2>='0' and ch2<='9':\n",
    "            c1+=1\n",
    "        j1+=1\n",
    "    print(c1)\n",
    "    while j2<=len(ch)-1:\n",
    "        ch3=l[i][j2]\n",
    "        if ch3>='A' and ch3<='Z':\n",
    "            c2+=1\n",
    "        j2+=1\n",
    "    print(c2)\n",
    "    while j3<=len(ch)-1:\n",
    "        ch4=l[i][j3]\n",
    "        if ch4>='A' and ch4<='Z':\n",
    "            c3+=1\n",
    "        j3+=1\n",
    "    print(c3)\n",
    "    i+=1"
   ]
  },
  {
   "cell_type": "code",
   "execution_count": 22,
   "metadata": {},
   "outputs": [
    {
     "name": "stdout",
     "output_type": "stream",
     "text": [
      "['dcba', 'zyx', '321@ba']\n"
     ]
    }
   ],
   "source": [
    "l=[\"abcd\",\"xyz\",\"ab@123\"]\n",
    "i=0\n",
    "l1=[]\n",
    "while i<=len(l)-1:\n",
    "    ch=l[i]\n",
    "    j=len(ch)-1\n",
    "    res=\"\"\n",
    "    while j>=0:\n",
    "        ch1=l[i][j]\n",
    "        res+=ch1\n",
    "        j-=1\n",
    "    l1+=[res]\n",
    "    i+=1\n",
    "print(l1)"
   ]
  },
  {
   "cell_type": "code",
   "execution_count": 27,
   "metadata": {},
   "outputs": [
    {
     "name": "stdout",
     "output_type": "stream",
     "text": [
      "17\n"
     ]
    }
   ],
   "source": [
    "l=[2,3,4,5,6,7,8,9]\n",
    "i=0\n",
    "sum=0\n",
    "while i<=len(l)-1:\n",
    "    j=1\n",
    "    c=0\n",
    "    s=l[i]\n",
    "    while j<=s:\n",
    "        if s%j==0:\n",
    "            c+=1\n",
    "        j+=1\n",
    "    if c==2:\n",
    "        sum+=s\n",
    "    i+=1\n",
    "print(sum)"
   ]
  },
  {
   "cell_type": "code",
   "execution_count": 28,
   "metadata": {},
   "outputs": [
    {
     "name": "stdout",
     "output_type": "stream",
     "text": [
      "6\n",
      "28\n",
      "496\n"
     ]
    }
   ],
   "source": [
    "l=[2,4,5,6,17,28,897,496]\n",
    "i=0\n",
    "while i<=len(l)-1:\n",
    "    j=1\n",
    "    s=l[i]\n",
    "    sum=0\n",
    "    while j<s:\n",
    "        if s%j==0:\n",
    "            sum+=j\n",
    "        j+=1\n",
    "    if sum==s:\n",
    "        print(s)\n",
    "    i+=1"
   ]
  },
  {
   "cell_type": "code",
   "execution_count": 41,
   "metadata": {},
   "outputs": [
    {
     "name": "stdout",
     "output_type": "stream",
     "text": [
      "530\n"
     ]
    }
   ],
   "source": [
    "l=[2,4,5,6,17,28,897,496]\n",
    "i=0\n",
    "mainsum=0\n",
    "while i<=len(l)-1:\n",
    "    j=1\n",
    "    s=l[i]\n",
    "    sum=0\n",
    "    while j<s:\n",
    "        if s%j==0:\n",
    "            sum+=j\n",
    "        j+=1\n",
    "    if sum==s:\n",
    "        mainsum+=s\n",
    "    i+=1\n",
    "print(mainsum)"
   ]
  },
  {
   "cell_type": "markdown",
   "metadata": {},
   "source": [
    "i/p: \"PYTHON SCRIPTING PROGRAMMING LANGUAGE\"\n",
    "o/p: [\"PYTHON\",\"SCRIPTING\",\"PROGRAMMING\",\"LANGUAGE\"]"
   ]
  },
  {
   "cell_type": "code",
   "execution_count": 53,
   "metadata": {},
   "outputs": [
    {
     "name": "stdout",
     "output_type": "stream",
     "text": [
      "['EEEEEEEEEEEEEEEEEEEEEEEEEEEEEEEEEEEEEG', 'EEEEEEEEEEEEEEEEEEEEEEEEEEEEEEEEEEEEEGG', 'EEEEEEEEEEEEEEEEEEEEEEEEEEEEEEEEEEEEEGGG', 'EEEEEEEEEEEEEEEEEEEEEEEEEEEEEEEEEEEEEGGGG', 'EEEEEEEEEEEEEEEEEEEEEEEEEEEEEEEEEEEEEGGGGG', 'EEEEEEEEEEEEEEEEEEEEEEEEEEEEEEEEEEEEEGGGGGG', 'EEEEEEEEEEEEEEEEEEEEEEEEEEEEEEEEEEEEEGGGGGGG', 'EEEEEEEEEEEEEEEEEEEEEEEEEEEEEEEEEEEEEGGGGGGGG', 'EEEEEEEEEEEEEEEEEEEEEEEEEEEEEEEEEEEEEGGGGGGGGG', 'EEEEEEEEEEEEEEEEEEEEEEEEEEEEEEEEEEEEEGGGGGGGGGG', 'EEEEEEEEEEEEEEEEEEEEEEEEEEEEEEEEEEEEEGGGGGGGGGGG', 'EEEEEEEEEEEEEEEEEEEEEEEEEEEEEEEEEEEEEGGGGGGGGGGGG', 'EEEEEEEEEEEEEEEEEEEEEEEEEEEEEEEEEEEEEGGGGGGGGGGGGG', 'EEEEEEEEEEEEEEEEEEEEEEEEEEEEEEEEEEEEEGGGGGGGGGGGGGG', 'EEEEEEEEEEEEEEEEEEEEEEEEEEEEEEEEEEEEEGGGGGGGGGGGGGGG', 'EEEEEEEEEEEEEEEEEEEEEEEEEEEEEEEEEEEEEGGGGGGGGGGGGGGGG', 'EEEEEEEEEEEEEEEEEEEEEEEEEEEEEEEEEEEEEGGGGGGGGGGGGGGGGG', 'EEEEEEEEEEEEEEEEEEEEEEEEEEEEEEEEEEEEEGGGGGGGGGGGGGGGGGG', 'EEEEEEEEEEEEEEEEEEEEEEEEEEEEEEEEEEEEEGGGGGGGGGGGGGGGGGGG', 'EEEEEEEEEEEEEEEEEEEEEEEEEEEEEEEEEEEEEGGGGGGGGGGGGGGGGGGGG', 'EEEEEEEEEEEEEEEEEEEEEEEEEEEEEEEEEEEEEGGGGGGGGGGGGGGGGGGGGG', 'EEEEEEEEEEEEEEEEEEEEEEEEEEEEEEEEEEEEEGGGGGGGGGGGGGGGGGGGGGG', 'EEEEEEEEEEEEEEEEEEEEEEEEEEEEEEEEEEEEEGGGGGGGGGGGGGGGGGGGGGGG', 'EEEEEEEEEEEEEEEEEEEEEEEEEEEEEEEEEEEEEGGGGGGGGGGGGGGGGGGGGGGGG', 'EEEEEEEEEEEEEEEEEEEEEEEEEEEEEEEEEEEEEGGGGGGGGGGGGGGGGGGGGGGGGG', 'EEEEEEEEEEEEEEEEEEEEEEEEEEEEEEEEEEEEEGGGGGGGGGGGGGGGGGGGGGGGGGG', 'EEEEEEEEEEEEEEEEEEEEEEEEEEEEEEEEEEEEEGGGGGGGGGGGGGGGGGGGGGGGGGGG', 'EEEEEEEEEEEEEEEEEEEEEEEEEEEEEEEEEEEEEGGGGGGGGGGGGGGGGGGGGGGGGGGGG', 'EEEEEEEEEEEEEEEEEEEEEEEEEEEEEEEEEEEEEGGGGGGGGGGGGGGGGGGGGGGGGGGGGG', 'EEEEEEEEEEEEEEEEEEEEEEEEEEEEEEEEEEEEEGGGGGGGGGGGGGGGGGGGGGGGGGGGGGG', 'EEEEEEEEEEEEEEEEEEEEEEEEEEEEEEEEEEEEEGGGGGGGGGGGGGGGGGGGGGGGGGGGGGGG', 'EEEEEEEEEEEEEEEEEEEEEEEEEEEEEEEEEEEEEGGGGGGGGGGGGGGGGGGGGGGGGGGGGGGGG', 'EEEEEEEEEEEEEEEEEEEEEEEEEEEEEEEEEEEEEGGGGGGGGGGGGGGGGGGGGGGGGGGGGGGGGG', 'EEEEEEEEEEEEEEEEEEEEEEEEEEEEEEEEEEEEEGGGGGGGGGGGGGGGGGGGGGGGGGGGGGGGGGG', 'EEEEEEEEEEEEEEEEEEEEEEEEEEEEEEEEEEEEEGGGGGGGGGGGGGGGGGGGGGGGGGGGGGGGGGGG', 'EEEEEEEEEEEEEEEEEEEEEEEEEEEEEEEEEEEEEGGGGGGGGGGGGGGGGGGGGGGGGGGGGGGGGGGGG', 'EEEEEEEEEEEEEEEEEEEEEEEEEEEEEEEEEEEEEGGGGGGGGGGGGGGGGGGGGGGGGGGGGGGGGGGGGG']\n"
     ]
    }
   ],
   "source": [
    "st=\"PYTHON SCRIPTING PROGRAMMING LANGUAGE\"\n",
    "i=0\n",
    "l=[]\n",
    "while i<=len(st)-1:\n",
    "    if ch>='A' and ch<='Z':\n",
    "        res+=ch\n",
    "    else:\n",
    "        res=\"\"\n",
    "        i+=1\n",
    "    l+=[res]\n",
    "    i+=1\n",
    "print(l)\n",
    "\n",
    "    "
   ]
  },
  {
   "cell_type": "code",
   "execution_count": 4,
   "metadata": {},
   "outputs": [
    {
     "name": "stdout",
     "output_type": "stream",
     "text": [
      "52\n"
     ]
    }
   ],
   "source": [
    "l=[1,2,3,4,5,45,7,8]\n",
    "i=0\n",
    "maxsum=0\n",
    "sum=0\n",
    "while i<len(l)-1:\n",
    "    ch=l[i]\n",
    "    ch1=l[i+1]\n",
    "    sum=ch+ch1\n",
    "    if maxsum<sum:\n",
    "        maxsum=sum\n",
    "    i+=1\n",
    "print(maxsum)"
   ]
  },
  {
   "cell_type": "markdown",
   "metadata": {},
   "source": [
    "1) find the sum of all given elements from an int array."
   ]
  },
  {
   "cell_type": "code",
   "execution_count": 7,
   "metadata": {},
   "outputs": [
    {
     "name": "stdout",
     "output_type": "stream",
     "text": [
      "153\n"
     ]
    }
   ],
   "source": [
    "l=[1,28,46,78]\n",
    "i=0\n",
    "sum=0\n",
    "while i<=len(l)-1:\n",
    "    ch=l[i]\n",
    "    sum+=ch\n",
    "    i+=1\n",
    "print(sum)"
   ]
  },
  {
   "cell_type": "markdown",
   "metadata": {},
   "source": [
    "2) find the min element from the given int array."
   ]
  },
  {
   "cell_type": "code",
   "execution_count": 11,
   "metadata": {},
   "outputs": [
    {
     "name": "stdout",
     "output_type": "stream",
     "text": [
      "3\n"
     ]
    }
   ],
   "source": [
    "l=[5,34,56,3,23,18,90]\n",
    "i=0\n",
    "min=0\n",
    "while i<=len(l)-1:\n",
    "    ch=l[i]\n",
    "    if min==0 or ch<min:\n",
    "        min=ch\n",
    "    i+=1\n",
    "print(min)"
   ]
  },
  {
   "cell_type": "markdown",
   "metadata": {},
   "source": [
    "3) find the max element from the given int array."
   ]
  },
  {
   "cell_type": "code",
   "execution_count": 12,
   "metadata": {},
   "outputs": [
    {
     "name": "stdout",
     "output_type": "stream",
     "text": [
      "98\n"
     ]
    }
   ],
   "source": [
    "l=[45,89,98,76,34,2,59]\n",
    "i=0\n",
    "max=0\n",
    "while i<=len(l)-1:\n",
    "    ch=l[i]\n",
    "    if ch>max:\n",
    "        max=ch\n",
    "    i+=1\n",
    "print(max)"
   ]
  },
  {
   "cell_type": "markdown",
   "metadata": {},
   "source": [
    "4) find the 2nd min element from the given int array."
   ]
  },
  {
   "cell_type": "code",
   "execution_count": 15,
   "metadata": {},
   "outputs": [
    {
     "name": "stdout",
     "output_type": "stream",
     "text": [
      "2\n",
      "34\n"
     ]
    }
   ],
   "source": [
    "l=[45,89,98,76,34,2,59]\n",
    "i=0\n",
    "secondmin=0\n",
    "min=0\n",
    "while i<len(l)-1:\n",
    "    ch=l[i]\n",
    "    if min==0 or ch<secondmin or secondmin<min:\n",
    "        secondmin=min\n",
    "        min=ch\n",
    "    i+=1\n",
    "print(min)\n",
    "print(secondmin)\n",
    "        "
   ]
  },
  {
   "cell_type": "markdown",
   "metadata": {},
   "source": [
    "5) find the 2nd max element from the given int array."
   ]
  },
  {
   "cell_type": "code",
   "execution_count": 19,
   "metadata": {},
   "outputs": [
    {
     "name": "stdout",
     "output_type": "stream",
     "text": [
      "98\n",
      "89\n"
     ]
    }
   ],
   "source": [
    "l=[45,89,98,76,34,2,59]\n",
    "i=0\n",
    "secondmax=0\n",
    "max=0\n",
    "while i<=len(l)-1:\n",
    "    ch=l[i]\n",
    "    if max<ch or secondmax>max:\n",
    "        secondmax=max\n",
    "        max=ch\n",
    "    i+=1\n",
    "print(max)\n",
    "print(secondmax)\n",
    "\n"
   ]
  },
  {
   "cell_type": "markdown",
   "metadata": {},
   "source": [
    "6) find the average value of an int array. "
   ]
  },
  {
   "cell_type": "code",
   "execution_count": 20,
   "metadata": {},
   "outputs": [
    {
     "name": "stdout",
     "output_type": "stream",
     "text": [
      "3\n"
     ]
    }
   ],
   "source": [
    "l=[1,2,3,4,5]\n",
    "i=0\n",
    "sum=0\n",
    "while i<=len(l)-1:\n",
    "    ch=l[i]\n",
    "    sum+=ch\n",
    "    i+=1\n",
    "print(sum//len(l))"
   ]
  },
  {
   "cell_type": "markdown",
   "metadata": {},
   "source": [
    "7) find out the sum of all even indexed elements from a given int array."
   ]
  },
  {
   "cell_type": "code",
   "execution_count": 21,
   "metadata": {},
   "outputs": [
    {
     "name": "stdout",
     "output_type": "stream",
     "text": [
      "9\n"
     ]
    }
   ],
   "source": [
    "l=[1,2,3,4,5]\n",
    "i=0\n",
    "sum=0\n",
    "while i<=len(l)-1:\n",
    "    ch=l[i]\n",
    "    if i%2==0:\n",
    "        sum+=ch\n",
    "    i+=1\n",
    "print(sum)"
   ]
  },
  {
   "cell_type": "markdown",
   "metadata": {},
   "source": [
    "8) find out the sum of all odd indexed elements from the given int array."
   ]
  },
  {
   "cell_type": "code",
   "execution_count": 22,
   "metadata": {},
   "outputs": [
    {
     "name": "stdout",
     "output_type": "stream",
     "text": [
      "6\n"
     ]
    }
   ],
   "source": [
    "l=[1,2,3,4,5]\n",
    "i=0\n",
    "sum=0\n",
    "while i<=len(l)-1:\n",
    "    ch=l[i]\n",
    "    if i%2==1:\n",
    "        sum+=ch\n",
    "    i+=1\n",
    "print(sum)"
   ]
  },
  {
   "cell_type": "markdown",
   "metadata": {},
   "source": [
    "9) find out the min value from all the even indexed elements from a given int array."
   ]
  },
  {
   "cell_type": "code",
   "execution_count": 25,
   "metadata": {},
   "outputs": [
    {
     "name": "stdout",
     "output_type": "stream",
     "text": [
      "2\n"
     ]
    }
   ],
   "source": [
    "l=[3,2,2,4,5]\n",
    "i=0\n",
    "min=0\n",
    "while i<=len(l)-1:\n",
    "    ch=l[i]\n",
    "    if i%2==0:\n",
    "        if min==0 or ch<min:\n",
    "            min=ch\n",
    "    i+=1\n",
    "print(min)"
   ]
  },
  {
   "cell_type": "markdown",
   "metadata": {},
   "source": [
    "10) find out the max value from all the odd indexed elements from a given int array."
   ]
  },
  {
   "cell_type": "code",
   "execution_count": 26,
   "metadata": {},
   "outputs": [
    {
     "name": "stdout",
     "output_type": "stream",
     "text": [
      "4\n"
     ]
    }
   ],
   "source": [
    "l=[3,2,2,4,5]\n",
    "i=0\n",
    "max=0\n",
    "while i<=len(l)-1:\n",
    "    ch=l[i]\n",
    "    if i%2==1:\n",
    "        if ch>max:\n",
    "            max=ch\n",
    "    i+=1\n",
    "print(max)"
   ]
  },
  {
   "cell_type": "markdown",
   "metadata": {},
   "source": [
    "11) find out the avg value from all the even indexed elements from the given int array."
   ]
  },
  {
   "cell_type": "code",
   "execution_count": 30,
   "metadata": {},
   "outputs": [
    {
     "name": "stdout",
     "output_type": "stream",
     "text": [
      "4\n"
     ]
    }
   ],
   "source": [
    "l=[1,2,3,4,5,6,7]\n",
    "i=0\n",
    "sum=0\n",
    "c=0\n",
    "while i<=len(l)-1:\n",
    "    ch=l[i]\n",
    "    if i%2==0:\n",
    "        sum+=ch\n",
    "        c+=1\n",
    "    i+=1\n",
    "print(sum//c)"
   ]
  },
  {
   "cell_type": "markdown",
   "metadata": {},
   "source": [
    "12) find out the avg value from all the odd indexed elements from the given int array."
   ]
  },
  {
   "cell_type": "code",
   "execution_count": 31,
   "metadata": {},
   "outputs": [
    {
     "name": "stdout",
     "output_type": "stream",
     "text": [
      "5\n"
     ]
    }
   ],
   "source": [
    "l=[1,2,3,4,5,6,7,8]\n",
    "i=0\n",
    "sum=0\n",
    "c=0\n",
    "while i<=len(l)-1:\n",
    "    ch=l[i]\n",
    "    if i%2==1:\n",
    "        sum+=ch\n",
    "        c+=1\n",
    "    i+=1\n",
    "print(sum//c)"
   ]
  },
  {
   "cell_type": "markdown",
   "metadata": {},
   "source": [
    "13) find out the sum of all elements from a first half of a given int array."
   ]
  },
  {
   "cell_type": "code",
   "execution_count": 33,
   "metadata": {},
   "outputs": [
    {
     "name": "stdout",
     "output_type": "stream",
     "text": [
      "75\n"
     ]
    }
   ],
   "source": [
    "l=[1,28,46,78,3,4]\n",
    "i=0\n",
    "sum=0\n",
    "while i<=(len(l)//2)-1:\n",
    "    ch=l[i]\n",
    "    sum+=ch\n",
    "    i+=1\n",
    "print(sum)"
   ]
  },
  {
   "cell_type": "markdown",
   "metadata": {},
   "source": [
    "14) find out the sum of all elements from a second half of a given int array."
   ]
  },
  {
   "cell_type": "code",
   "execution_count": 42,
   "metadata": {},
   "outputs": [
    {
     "name": "stdout",
     "output_type": "stream",
     "text": [
      "85\n"
     ]
    }
   ],
   "source": [
    "l=[1,28,46,78,3,4]\n",
    "i=(len(l)//2)\n",
    "sum=0\n",
    "while i<=len(l)-1:\n",
    "    ch=l[i]\n",
    "    sum+=ch\n",
    "    i+=1\n",
    "print(sum)"
   ]
  },
  {
   "cell_type": "markdown",
   "metadata": {},
   "source": [
    "15) find out the min value from a first half of given int array."
   ]
  },
  {
   "cell_type": "code",
   "execution_count": 44,
   "metadata": {},
   "outputs": [
    {
     "name": "stdout",
     "output_type": "stream",
     "text": [
      "5\n"
     ]
    }
   ],
   "source": [
    "l=[28,5,46,78,3,4]\n",
    "i=0\n",
    "min=0\n",
    "while i<=(len(l)//2)-1:\n",
    "    ch=l[i]\n",
    "    if min==0 or min>ch:\n",
    "        min=ch\n",
    "    i+=1\n",
    "print(min)"
   ]
  },
  {
   "cell_type": "markdown",
   "metadata": {},
   "source": [
    "16) find out the min value from a second half of given int array."
   ]
  },
  {
   "cell_type": "code",
   "execution_count": 60,
   "metadata": {},
   "outputs": [
    {
     "name": "stdout",
     "output_type": "stream",
     "text": [
      "3\n"
     ]
    }
   ],
   "source": [
    "l=[28,5,46,78,3,4]\n",
    "i=(len(l)//2)\n",
    "min=0\n",
    "while i<len(l):\n",
    "    ch=l[i]\n",
    "    if min==0 or min>ch:\n",
    "        min=ch\n",
    "    i+=1\n",
    "print(min)"
   ]
  },
  {
   "cell_type": "markdown",
   "metadata": {},
   "source": [
    "17) find out the max value from a first half of given int array."
   ]
  },
  {
   "cell_type": "code",
   "execution_count": 57,
   "metadata": {},
   "outputs": [
    {
     "name": "stdout",
     "output_type": "stream",
     "text": [
      "46\n"
     ]
    }
   ],
   "source": [
    "l=[28,5,46,78,3,4]\n",
    "i=0\n",
    "max=0\n",
    "while i<=(len(l)//2)-1:\n",
    "    ch=l[i]\n",
    "    if max<ch:\n",
    "        max=ch\n",
    "    i+=1\n",
    "print(max)"
   ]
  },
  {
   "cell_type": "markdown",
   "metadata": {},
   "source": [
    "18) find out the max value from a second half of given int array."
   ]
  },
  {
   "cell_type": "code",
   "execution_count": 61,
   "metadata": {},
   "outputs": [
    {
     "name": "stdout",
     "output_type": "stream",
     "text": [
      "78\n"
     ]
    }
   ],
   "source": [
    "l=[28,5,46,78,3,4]\n",
    "i=len(l)//2\n",
    "max=0\n",
    "while i<=len(l)-1:\n",
    "    ch=l[i]\n",
    "    if max<ch:\n",
    "        max=ch\n",
    "    i+=1\n",
    "print(max)"
   ]
  },
  {
   "cell_type": "markdown",
   "metadata": {},
   "source": [
    "19) find out the avg value from a first half of given int array."
   ]
  },
  {
   "cell_type": "code",
   "execution_count": 64,
   "metadata": {},
   "outputs": [
    {
     "name": "stdout",
     "output_type": "stream",
     "text": [
      "26\n"
     ]
    }
   ],
   "source": [
    "l=[28,5,46,78,3,4]\n",
    "i=0\n",
    "sum=0\n",
    "c=0\n",
    "while i<=(len(l)//2)-1:\n",
    "    ch=l[i]\n",
    "    sum+=ch\n",
    "    c+=1\n",
    "    i+=1\n",
    "print(sum//c)"
   ]
  },
  {
   "cell_type": "markdown",
   "metadata": {},
   "source": [
    "20) find out the avg value from a second half of given int array."
   ]
  },
  {
   "cell_type": "code",
   "execution_count": 65,
   "metadata": {},
   "outputs": [
    {
     "name": "stdout",
     "output_type": "stream",
     "text": [
      "28\n"
     ]
    }
   ],
   "source": [
    "l=[28,5,46,78,3,4]\n",
    "i=len(l)//2\n",
    "sum=0\n",
    "c=0\n",
    "while i<=len(l)-1:\n",
    "    ch=l[i]\n",
    "    sum+=ch\n",
    "    c+=1\n",
    "    i+=1\n",
    "print(sum//c)"
   ]
  },
  {
   "cell_type": "markdown",
   "metadata": {},
   "source": [
    "21) read all the elements from a given array in the reverse order."
   ]
  },
  {
   "cell_type": "code",
   "execution_count": 67,
   "metadata": {},
   "outputs": [
    {
     "name": "stdout",
     "output_type": "stream",
     "text": [
      "[4, 3, 78, 46, 5, 28]\n"
     ]
    }
   ],
   "source": [
    "l=[28,5,46,78,3,4]\n",
    "i=len(l)-1\n",
    "l1=[]\n",
    "while i>=0:\n",
    "    ch=l[i]\n",
    "    l1+=[ch]\n",
    "    i-=1\n",
    "print(l1)    "
   ]
  },
  {
   "cell_type": "markdown",
   "metadata": {},
   "source": [
    "22) read first half elements from a given array in the reverse order."
   ]
  },
  {
   "cell_type": "code",
   "execution_count": 69,
   "metadata": {},
   "outputs": [
    {
     "name": "stdout",
     "output_type": "stream",
     "text": [
      "[46, 5, 28]\n"
     ]
    }
   ],
   "source": [
    "l=[28,5,46,78,3,4]\n",
    "i=(len(l)//2)-1\n",
    "l1=[]\n",
    "while i>=0:\n",
    "    ch=l[i]\n",
    "    l1+=[ch]\n",
    "    i-=1\n",
    "print(l1)  "
   ]
  },
  {
   "cell_type": "markdown",
   "metadata": {},
   "source": [
    "23) read second half elements from a given array in the reverse order."
   ]
  },
  {
   "cell_type": "code",
   "execution_count": 71,
   "metadata": {},
   "outputs": [
    {
     "name": "stdout",
     "output_type": "stream",
     "text": [
      "[4, 3, 78]\n"
     ]
    }
   ],
   "source": [
    "l=[28,5,46,78,3,4]\n",
    "i=len(l)-1\n",
    "l1=[]\n",
    "while i>=(len(l)//2):\n",
    "    ch=l[i]\n",
    "    l1+=[ch]\n",
    "    i-=1\n",
    "print(l1)  "
   ]
  },
  {
   "cell_type": "markdown",
   "metadata": {},
   "source": [
    "24) read only even indexed elements from an array."
   ]
  },
  {
   "cell_type": "code",
   "execution_count": 72,
   "metadata": {},
   "outputs": [
    {
     "name": "stdout",
     "output_type": "stream",
     "text": [
      "28\n",
      "46\n",
      "3\n"
     ]
    }
   ],
   "source": [
    "l=[28,5,46,78,3,4]\n",
    "i=0\n",
    "while i<=len(l)-1:\n",
    "    ch=l[i]\n",
    "    if i%2==0:\n",
    "        print(ch)\n",
    "    i+=1 "
   ]
  },
  {
   "cell_type": "markdown",
   "metadata": {},
   "source": [
    "25) read only even indexed elements from an array in a reverse order"
   ]
  },
  {
   "cell_type": "code",
   "execution_count": 75,
   "metadata": {},
   "outputs": [
    {
     "name": "stdout",
     "output_type": "stream",
     "text": [
      "[3, 46, 28]\n"
     ]
    }
   ],
   "source": [
    "l=[28,5,46,78,3,4]\n",
    "i=len(l)-1\n",
    "l1=[]\n",
    "while i>=0:\n",
    "    ch=l[i]\n",
    "    if i%2==0:\n",
    "        l1+=[ch]\n",
    "    i-=1\n",
    "print(l1)\n",
    "    "
   ]
  },
  {
   "cell_type": "markdown",
   "metadata": {},
   "source": [
    "26) read only odd indexed elements from an array."
   ]
  },
  {
   "cell_type": "code",
   "execution_count": 76,
   "metadata": {},
   "outputs": [
    {
     "name": "stdout",
     "output_type": "stream",
     "text": [
      "5\n",
      "78\n",
      "4\n"
     ]
    }
   ],
   "source": [
    "l=[28,5,46,78,3,4]\n",
    "i=0\n",
    "while i<=len(l)-1:\n",
    "    ch=l[i]\n",
    "    if i%2==1:\n",
    "        print(ch)\n",
    "    i+=1 "
   ]
  },
  {
   "cell_type": "markdown",
   "metadata": {},
   "source": [
    "27) read only odd indexed elements from an array in a reverse order"
   ]
  },
  {
   "cell_type": "code",
   "execution_count": 77,
   "metadata": {},
   "outputs": [
    {
     "name": "stdout",
     "output_type": "stream",
     "text": [
      "[4, 78, 5]\n"
     ]
    }
   ],
   "source": [
    "l=[28,5,46,78,3,4]\n",
    "i=len(l)-1\n",
    "l1=[]\n",
    "while i>=0:\n",
    "    ch=l[i]\n",
    "    if i%2==1:\n",
    "        l1+=[ch]\n",
    "    i-=1\n",
    "print(l1)"
   ]
  },
  {
   "cell_type": "markdown",
   "metadata": {},
   "source": [
    "28) find out an index of a specified element from an array."
   ]
  },
  {
   "cell_type": "code",
   "execution_count": 79,
   "metadata": {},
   "outputs": [
    {
     "name": "stdout",
     "output_type": "stream",
     "text": [
      "5\n"
     ]
    }
   ],
   "source": [
    "ele=int(input())\n",
    "l=[28,5,46,78,3,4]\n",
    "i=0\n",
    "while i<=len(l)-1:\n",
    "    ch=l[i]\n",
    "    if ele==ch:\n",
    "        print(i)\n",
    "    i+=1"
   ]
  },
  {
   "cell_type": "markdown",
   "metadata": {},
   "source": [
    "29) swap two given indexed elements fron the array."
   ]
  },
  {
   "cell_type": "code",
   "execution_count": 9,
   "metadata": {},
   "outputs": [
    {
     "name": "stdout",
     "output_type": "stream",
     "text": [
      "4 6\n",
      "[1, 2, 3, 6, 5, 4]\n"
     ]
    }
   ],
   "source": [
    "index1=int(input())\n",
    "index2=int(input())\n",
    "i=0\n",
    "l=[1,2,3,4,5,6]\n",
    "ch=l[index1]\n",
    "ch1=l[index2]\n",
    "print(ch,ch1)\n",
    "while i<len(l)-1:\n",
    "    if ch in l and ch1 in l:\n",
    "        j=0\n",
    "        while j>=len(l):\n",
    "            if j==index1:\n",
    "                ch=l[j]\n",
    "            if j==index2:\n",
    "                ch1=l[j]\n",
    "            j+=1\n",
    "        l[index1]=ch1\n",
    "        l[index2]=ch\n",
    "    i+=1\n",
    "print(l)"
   ]
  },
  {
   "cell_type": "markdown",
   "metadata": {},
   "source": [
    "30) reverse the elements of given array."
   ]
  },
  {
   "cell_type": "code",
   "execution_count": 6,
   "metadata": {},
   "outputs": [
    {
     "name": "stdout",
     "output_type": "stream",
     "text": [
      "[4, 3, 78, 46, 5, 28]\n"
     ]
    }
   ],
   "source": [
    "l=[28,5,46,78,3,4]\n",
    "i=len(l)-1\n",
    "l1=[]\n",
    "while i>=0:\n",
    "    ch=l[i]\n",
    "    l1+=[ch]\n",
    "    i-=1\n",
    "print(l1)\n"
   ]
  },
  {
   "cell_type": "markdown",
   "metadata": {},
   "source": [
    "31) reverse only first half of the elements of given array."
   ]
  },
  {
   "cell_type": "code",
   "execution_count": 22,
   "metadata": {},
   "outputs": [
    {
     "name": "stdout",
     "output_type": "stream",
     "text": [
      "[3, 2, 1, 4, 5, 6]\n"
     ]
    }
   ],
   "source": [
    "l=[1,2,3,4,5,6]\n",
    "i=0\n",
    "l1=[]\n",
    "while i<=len(l)-1:\n",
    "    ch=l[i]\n",
    "    if i>=0 and i<=len(l)//2-1:\n",
    "        l1=[ch]+l1\n",
    "    else:\n",
    "        l1=l1+[ch]\n",
    "    i+=1\n",
    "print(l1)\n"
   ]
  },
  {
   "cell_type": "markdown",
   "metadata": {},
   "source": [
    "32) reverse only last half of the elements of given array."
   ]
  },
  {
   "cell_type": "code",
   "execution_count": 37,
   "metadata": {},
   "outputs": [
    {
     "name": "stdout",
     "output_type": "stream",
     "text": [
      "[1, 2, 3, 6, 5, 4]\n"
     ]
    }
   ],
   "source": [
    "l=[1,2,3,4,5,6]\n",
    "i=len(l)-1\n",
    "l1=[]\n",
    "while i>=0:\n",
    "    ch=l[i]\n",
    "    if i>=0 and i<=(len(l)//2)-1:\n",
    "        l1=[ch]+l1\n",
    "    else:\n",
    "        l1+=[ch]\n",
    "    i-=1\n",
    "print(l1)"
   ]
  },
  {
   "cell_type": "markdown",
   "metadata": {},
   "source": [
    "33) reverse only even indexed of the elements of the array."
   ]
  },
  {
   "cell_type": "code",
   "execution_count": 3,
   "metadata": {},
   "outputs": [
    {
     "name": "stdout",
     "output_type": "stream",
     "text": [
      "[5, 2, 3, 4, 1, 6]\n"
     ]
    }
   ],
   "source": [
    "l=[1,2,3,4,5,6]\n",
    "i=0\n",
    "j=len(l)-1\n",
    "l1=[]\n",
    "while i<=len(l)-1 and j>=0:\n",
    "    ch=l[i]\n",
    "    ch1=l[j]\n",
    "    if j%2==1:\n",
    "        l1=[ch1]+l1\n",
    "    if i%2==0:\n",
    "        l1=[ch]+l1\n",
    "    i+=1\n",
    "    j-=1\n",
    "print(l1)"
   ]
  },
  {
   "cell_type": "markdown",
   "metadata": {},
   "source": [
    "34) reverse only odd indexed of the elements of given array"
   ]
  },
  {
   "cell_type": "code",
   "execution_count": 4,
   "metadata": {},
   "outputs": [
    {
     "name": "stdout",
     "output_type": "stream",
     "text": [
      "[1, 6, 3, 4, 5, 2]\n"
     ]
    }
   ],
   "source": [
    "l=[1,2,3,4,5,6]\n",
    "i=len(l)-1\n",
    "j=0\n",
    "l1=[]\n",
    "while i>=0 and j<=len(l)-1:\n",
    "    ch=l[i]\n",
    "    ch1=l[j]\n",
    "    if j%2==1:\n",
    "        l1=[ch1]+l1\n",
    "    if i%2==0:\n",
    "        l1=[ch]+l1\n",
    "    i-=1\n",
    "    j+=1\n",
    "print(l1)"
   ]
  },
  {
   "cell_type": "markdown",
   "metadata": {},
   "source": [
    "35) swap odd indexed elements with its immediate next even indexed elements of given array."
   ]
  },
  {
   "cell_type": "code",
   "execution_count": 13,
   "metadata": {},
   "outputs": [
    {
     "name": "stdout",
     "output_type": "stream",
     "text": [
      "[1, 3, 2, 5, 4, 7, 6]\n"
     ]
    }
   ],
   "source": [
    "l=[1,2,3,4,5,6,7]\n",
    "i=0\n",
    "while i<len(l)-1:\n",
    "    if i%2==1 and (i+1)%2==0:\n",
    "        ch=i+1\n",
    "        ch1=i\n",
    "        l[i],l[i+1]=l[ch],l[ch1]\n",
    "    i+=1\n",
    "print(l)"
   ]
  },
  {
   "cell_type": "markdown",
   "metadata": {},
   "source": [
    "36,37,38) do right shift by one,two,three for elements of given array."
   ]
  },
  {
   "cell_type": "code",
   "execution_count": 42,
   "metadata": {},
   "outputs": [
    {
     "name": "stdout",
     "output_type": "stream",
     "text": [
      "[1, 1, 2, 3, 4, 5]\n",
      "[0, 1, 2, 3, 4, 5]\n"
     ]
    }
   ],
   "source": [
    "l=[1,2,3,4,5,6]\n",
    "i=len(l)-1\n",
    "rightshift=int(input())\n",
    "while i>0:\n",
    "    l[i]=l[i-rightshift]\n",
    "    i-=1\n",
    "while rightshift>0:\n",
    "    l[rightshift-1]=0\n",
    "    rightshift-=1\n",
    "print(l)\n"
   ]
  },
  {
   "cell_type": "markdown",
   "metadata": {},
   "source": [
    "39,40,41) do left shift by one,two,three for elements of given array."
   ]
  },
  {
   "cell_type": "code",
   "execution_count": 54,
   "metadata": {},
   "outputs": [
    {
     "name": "stdout",
     "output_type": "stream",
     "text": [
      "[3, 4, 5, 6, 0, 0]\n"
     ]
    }
   ],
   "source": [
    "l=[1,2,3,4,5,6]\n",
    "i=0\n",
    "leftshift=int(input())\n",
    "while i<len(l)-leftshift:\n",
    "    l[i]=l[i+leftshift]\n",
    "    i+=1\n",
    "while leftshift>0:\n",
    "    l[-leftshift]=0\n",
    "    leftshift-=1\n",
    "print(l)"
   ]
  },
  {
   "cell_type": "markdown",
   "metadata": {},
   "source": [
    "42,43,44) Do right rotate by one,two,three for elements of given array."
   ]
  },
  {
   "cell_type": "code",
   "execution_count": 14,
   "metadata": {},
   "outputs": [
    {
     "name": "stdout",
     "output_type": "stream",
     "text": [
      "[5, 6, 1, 2, 3, 4]\n"
     ]
    }
   ],
   "source": [
    "l=[1,2,3,4,5,6]\n",
    "j=1\n",
    "rotations=int(input())\n",
    "while j<=rotations:\n",
    "    i=len(l)-1\n",
    "    while i>=1:\n",
    "        l[i-1],l[i]=l[i],l[i-1]\n",
    "        i-=1\n",
    "    j+=1\n",
    "print(l)"
   ]
  },
  {
   "cell_type": "markdown",
   "metadata": {},
   "source": [
    "45,46,47) do left rotate by one,two,three for elements of given array."
   ]
  },
  {
   "cell_type": "code",
   "execution_count": 11,
   "metadata": {},
   "outputs": [
    {
     "name": "stdout",
     "output_type": "stream",
     "text": [
      "[3, 4, 5, 6, 1, 2]\n"
     ]
    }
   ],
   "source": [
    "l=[1,2,3,4,5,6]\n",
    "j=1\n",
    "rotations=int(input())\n",
    "while j<=rotations:\n",
    "    i=1\n",
    "    while i<=len(l)-1:\n",
    "        l[i-1],l[i]=l[i],l[i-1]\n",
    "        i+=1\n",
    "    j+=1\n",
    "print(l)\n"
   ]
  },
  {
   "cell_type": "markdown",
   "metadata": {},
   "source": [
    "48) rotate first half of elements by one."
   ]
  },
  {
   "cell_type": "code",
   "execution_count": 16,
   "metadata": {},
   "outputs": [
    {
     "name": "stdout",
     "output_type": "stream",
     "text": [
      "[3, 1, 2, 4, 5, 6]\n"
     ]
    }
   ],
   "source": [
    "l=[1,2,3,4,5,6]\n",
    "j=1\n",
    "rotations=int(input())\n",
    "while j<=rotations:\n",
    "    i=(len(l)//2)-1\n",
    "    while i>=1:\n",
    "        l[i-1],l[i]=l[i],l[i-1]\n",
    "        i-=1\n",
    "    j+=1\n",
    "print(l)"
   ]
  },
  {
   "cell_type": "markdown",
   "metadata": {},
   "source": [
    "49) rotate 2nd half of elements of the list by one."
   ]
  },
  {
   "cell_type": "code",
   "execution_count": 24,
   "metadata": {},
   "outputs": [
    {
     "name": "stdout",
     "output_type": "stream",
     "text": [
      "[1, 2, 3, 6, 4, 5]\n"
     ]
    }
   ],
   "source": [
    "l=[1,2,3,4,5,6]\n",
    "j=1\n",
    "rotations=int(input())\n",
    "while j<=rotations:\n",
    "    i=(len(l)//2)+1\n",
    "    while i<len(l):\n",
    "        l[i-1],l[i]=l[i],l[i-1]\n",
    "        i+=1\n",
    "    j+=1\n",
    "print(l)"
   ]
  },
  {
   "cell_type": "markdown",
   "metadata": {},
   "source": [
    "50) rotate first half of elements by one and rotate 2nd half of elements of the list by one seperately."
   ]
  },
  {
   "cell_type": "code",
   "execution_count": 28,
   "metadata": {},
   "outputs": [
    {
     "name": "stdout",
     "output_type": "stream",
     "text": [
      "[2, 3, 1, 6, 4, 5]\n"
     ]
    }
   ],
   "source": [
    "l=[1,2,3,4,5,6]\n",
    "j=1\n",
    "rotations=int(input())\n",
    "while j<=rotations:\n",
    "    i=(len(l)//2)-1\n",
    "    k=(len(l)//2)+1\n",
    "    while i>=1 and k<len(l):\n",
    "        l[i-1],l[i]=l[i],l[i-1]\n",
    "        i-=1\n",
    "    while k<len(l):\n",
    "        l[k-1],l[k]=l[k],l[k-1]\n",
    "        k+=1\n",
    "    j+=1\n",
    "print(l)"
   ]
  },
  {
   "cell_type": "markdown",
   "metadata": {},
   "source": [
    "51) remove specified indexed element from the given array."
   ]
  },
  {
   "cell_type": "code",
   "execution_count": 41,
   "metadata": {},
   "outputs": [
    {
     "name": "stdout",
     "output_type": "stream",
     "text": [
      "[1, 3, 4, 5, 6]\n"
     ]
    }
   ],
   "source": [
    "l=[1,2,3,4,5,6]\n",
    "index=int(input())\n",
    "i=0\n",
    "l1=[]\n",
    "while i<=len(l)-1:\n",
    "    ch=l[i]\n",
    "    if index==i:\n",
    "        i+=1\n",
    "    else:\n",
    "        l1+=[ch]\n",
    "        i+=1\n",
    "print(l1)\n"
   ]
  },
  {
   "cell_type": "markdown",
   "metadata": {},
   "source": [
    "52) update specified indexed element with a new element from the given array."
   ]
  },
  {
   "cell_type": "code",
   "execution_count": 52,
   "metadata": {},
   "outputs": [
    {
     "name": "stdout",
     "output_type": "stream",
     "text": [
      "[1, 2, 3, 4, 5, 7]\n"
     ]
    }
   ],
   "source": [
    "index=int(input())\n",
    "newElement=int(input())\n",
    "l=[1,2,3,4,5,6]\n",
    "i=0\n",
    "l1=[]\n",
    "while i<=len(l)-1:\n",
    "    ch=l[i]\n",
    "    if index==i:\n",
    "        l[i]=newElement\n",
    "        i+=1\n",
    "    else:\n",
    "        l1+=[ch]\n",
    "        i+=1\n",
    "print(l)"
   ]
  },
  {
   "cell_type": "markdown",
   "metadata": {},
   "source": [
    "53) Remove all occurrences of specified element from the given array."
   ]
  },
  {
   "cell_type": "code",
   "execution_count": 54,
   "metadata": {},
   "outputs": [
    {
     "name": "stdout",
     "output_type": "stream",
     "text": [
      "[1, 3, 4, 5, 3, 6]\n"
     ]
    }
   ],
   "source": [
    "element=int(input())\n",
    "l=[1,2,3,4,5,2,3,2,6]\n",
    "i=0\n",
    "l1=[]\n",
    "while i<=len(l)-1:\n",
    "    ch=l[i]\n",
    "    if element==ch:\n",
    "        i+=1\n",
    "    else:\n",
    "        l1+=[ch]\n",
    "        i+=1\n",
    "print(l1)"
   ]
  },
  {
   "cell_type": "markdown",
   "metadata": {},
   "source": [
    "54) Remove all odd indexed elements from the given array"
   ]
  },
  {
   "cell_type": "code",
   "execution_count": 55,
   "metadata": {},
   "outputs": [
    {
     "name": "stdout",
     "output_type": "stream",
     "text": [
      "[1, 3, 5]\n"
     ]
    }
   ],
   "source": [
    "l=[1,2,3,4,5,6]\n",
    "i=0\n",
    "l1=[]\n",
    "while i<=len(l)-1:\n",
    "    ch=l[i]\n",
    "    if i%2==1:\n",
    "        i+=1\n",
    "    else:\n",
    "        l1+=[ch]\n",
    "        i+=1\n",
    "print(l1)"
   ]
  },
  {
   "cell_type": "markdown",
   "metadata": {},
   "source": [
    "55) Remove all even indexed elements from the given array."
   ]
  },
  {
   "cell_type": "code",
   "execution_count": 56,
   "metadata": {},
   "outputs": [
    {
     "name": "stdout",
     "output_type": "stream",
     "text": [
      "[2, 4, 6]\n"
     ]
    }
   ],
   "source": [
    "l=[1,2,3,4,5,6]\n",
    "i=0\n",
    "l1=[]\n",
    "while i<=len(l)-1:\n",
    "    ch=l[i]\n",
    "    if i%2==0:\n",
    "        i+=1\n",
    "    else:\n",
    "        l1+=[ch]\n",
    "        i+=1\n",
    "print(l1)"
   ]
  },
  {
   "cell_type": "markdown",
   "metadata": {},
   "source": [
    "56) Remove the duplicates from the given array."
   ]
  },
  {
   "cell_type": "code",
   "execution_count": 61,
   "metadata": {},
   "outputs": [
    {
     "name": "stdout",
     "output_type": "stream",
     "text": [
      "[1, 2, 3, 4, 5, 6, 7]\n"
     ]
    }
   ],
   "source": [
    "l=[1,2,3,4,2,5,3,6,7]\n",
    "i=0\n",
    "l1=[]\n",
    "while i<=len(l)-1:\n",
    "    ch=l[i]\n",
    "    if ch not in l1:\n",
    "        l1+=[ch]\n",
    "    i+=1\n",
    "print(l1)"
   ]
  },
  {
   "cell_type": "markdown",
   "metadata": {},
   "source": [
    "57) Find out missed elements from the given array between min and max element."
   ]
  },
  {
   "cell_type": "code",
   "execution_count": 72,
   "metadata": {},
   "outputs": [
    {
     "name": "stdout",
     "output_type": "stream",
     "text": [
      "8\n",
      "1\n"
     ]
    },
    {
     "ename": "IndexError",
     "evalue": "list index out of range",
     "output_type": "error",
     "traceback": [
      "\u001b[1;31m---------------------------------------------------------------------------\u001b[0m",
      "\u001b[1;31mIndexError\u001b[0m                                Traceback (most recent call last)",
      "Cell \u001b[1;32mIn[72], line 16\u001b[0m\n\u001b[0;32m     14\u001b[0m \u001b[38;5;28mprint\u001b[39m(\u001b[38;5;28mmax\u001b[39m)\n\u001b[0;32m     15\u001b[0m \u001b[38;5;28mprint\u001b[39m(\u001b[38;5;28mmin\u001b[39m)\n\u001b[1;32m---> 16\u001b[0m \u001b[38;5;28;01mwhile\u001b[39;00m j \u001b[38;5;129;01min\u001b[39;00m l(\u001b[38;5;28mrange\u001b[39m(l[\u001b[38;5;28mmin\u001b[39m],\u001b[43ml\u001b[49m\u001b[43m[\u001b[49m\u001b[38;5;28;43mmax\u001b[39;49m\u001b[43m]\u001b[49m)):\n\u001b[0;32m     17\u001b[0m     \u001b[38;5;28mprint\u001b[39m(l[j])\n\u001b[0;32m     18\u001b[0m     j\u001b[38;5;241m+\u001b[39m\u001b[38;5;241m=\u001b[39m\u001b[38;5;241m1\u001b[39m\n",
      "\u001b[1;31mIndexError\u001b[0m: list index out of range"
     ]
    }
   ],
   "source": [
    "l=[1,2,3,7,3,4,8,4]\n",
    "i=0\n",
    "j=0\n",
    "k=len(l)-1\n",
    "max=0\n",
    "min=0\n",
    "while i<=len(l)-1:\n",
    "    ch=l[i]\n",
    "    if ch>max:\n",
    "        max=ch\n",
    "    if min==0 or min>ch:\n",
    "        min=ch\n",
    "    i+=1\n",
    "print(max)\n",
    "print(min)\n",
    "while j in l(range(l[min],l[max])):\n",
    "    print(l[j])\n",
    "    j+=1\n"
   ]
  },
  {
   "cell_type": "markdown",
   "metadata": {},
   "source": [
    "58) Find out index of an element which contains left indexed element is same as right indexed element"
   ]
  },
  {
   "cell_type": "code",
   "execution_count": 74,
   "metadata": {},
   "outputs": [
    {
     "name": "stdout",
     "output_type": "stream",
     "text": [
      "7\n",
      "6\n",
      "9\n"
     ]
    }
   ],
   "source": [
    "l=[1,3,6,7,6,7,8,9,8,43]\n",
    "i=0\n",
    "l1=[]\n",
    "while i<len(l)-1:\n",
    "    ch=l[i]\n",
    "    if l[i-1]==l[i+1]:\n",
    "        print(ch)\n",
    "    i+=1\n"
   ]
  },
  {
   "cell_type": "markdown",
   "metadata": {},
   "source": [
    "59) Find out the elements which are not duplicates in the given array"
   ]
  },
  {
   "cell_type": "code",
   "execution_count": 80,
   "metadata": {},
   "outputs": [
    {
     "name": "stdout",
     "output_type": "stream",
     "text": [
      "1\n",
      "6\n",
      "3\n"
     ]
    }
   ],
   "source": [
    "l=[1,2,4,5,6,2,3,4,5,4]\n",
    "i=0\n",
    "while i<=len(l)-1:\n",
    "    ch=l[i]\n",
    "    j=0\n",
    "    c=0\n",
    "    while j<=len(l)-1:\n",
    "        ch1=l[j]\n",
    "        if ch==ch1:\n",
    "            c+=1\n",
    "        j+=1\n",
    "    if c==1:\n",
    "        print(ch)\n",
    "    i+=1\n"
   ]
  },
  {
   "cell_type": "markdown",
   "metadata": {},
   "source": [
    "60) Find out elements which are having minimum one duplicate."
   ]
  },
  {
   "cell_type": "code",
   "execution_count": 98,
   "metadata": {},
   "outputs": [
    {
     "name": "stdout",
     "output_type": "stream",
     "text": [
      "2\n",
      "4\n",
      "5\n",
      "2\n",
      "4\n",
      "5\n",
      "4\n"
     ]
    }
   ],
   "source": [
    "l=[1,2,4,5,6,2,3,4,5,4]\n",
    "i=0\n",
    "while i<=len(l)-1:\n",
    "    ch=l[i]\n",
    "    j=0\n",
    "    c=0\n",
    "    while j<=len(l)-1:\n",
    "        ch1=l[j]\n",
    "        if ch==ch1:\n",
    "            c+=1\n",
    "        j+=1\n",
    "    if c>1:\n",
    "        print(ch)\n",
    "    i+=1\n",
    "    "
   ]
  },
  {
   "cell_type": "markdown",
   "metadata": {},
   "source": [
    "61)  Find out element frequency in the given array."
   ]
  },
  {
   "cell_type": "markdown",
   "metadata": {},
   "source": [
    "64) storing the words in a string into a list."
   ]
  },
  {
   "cell_type": "code",
   "execution_count": 14,
   "metadata": {},
   "outputs": [
    {
     "name": "stdout",
     "output_type": "stream",
     "text": [
      "['hi', 'im', 'mahalakshmi']\n"
     ]
    }
   ],
   "source": [
    "st=\"hi im mahalakshmi\"\n",
    "i=0\n",
    "l=[]\n",
    "res=\"\"\n",
    "while i<=len(st)-1:\n",
    "    ch=st[i]\n",
    "    if ch==' ':\n",
    "        l+=[res]\n",
    "        res=\"\"\n",
    "    else:\n",
    "        res+=ch\n",
    "    i+=1\n",
    "l+=[res]\n",
    "print(l)"
   ]
  },
  {
   "cell_type": "code",
   "execution_count": 12,
   "metadata": {},
   "outputs": [
    {
     "name": "stdout",
     "output_type": "stream",
     "text": [
      "['hi', 'im', 'mahalakshmi']\n"
     ]
    }
   ],
   "source": [
    "st=\"hi im mahalakshmi\"\n",
    "l=[]\n",
    "res=\"\"\n",
    "for i in st:\n",
    "    if i==' ':\n",
    "        l+=[res]\n",
    "        res=\"\"\n",
    "    else:\n",
    "        res+=i\n",
    "l+=[res]\n",
    "print(l)"
   ]
  },
  {
   "cell_type": "code",
   "execution_count": 16,
   "metadata": {},
   "outputs": [
    {
     "name": "stdout",
     "output_type": "stream",
     "text": [
      "com\n",
      "com\n",
      "in\n"
     ]
    }
   ],
   "source": [
    "l=['www.amazon.com','www.google.com','www.swiggy.com.in']\n",
    "res=''\n",
    "for i in l:\n",
    "    for j in i:\n",
    "        if j=='.':\n",
    "            res=''\n",
    "        else:\n",
    "            res+=j     \n",
    "    print(res)\n",
    " "
   ]
  },
  {
   "cell_type": "code",
   "execution_count": 29,
   "metadata": {},
   "outputs": [
    {
     "name": "stdout",
     "output_type": "stream",
     "text": [
      "amazon\n",
      "google\n",
      "swiggy\n"
     ]
    }
   ],
   "source": [
    "l=['www.amazon.com','www.google.com','www.swiggy.com.in']\n",
    "res=''\n",
    "for i in l:\n",
    "    c=0\n",
    "    for j in i:\n",
    "        if j=='.':\n",
    "            c+=1\n",
    "            if c==2  :\n",
    "                print(res)\n",
    "            res=''\n",
    "        else:\n",
    "            res+=j     \n",
    "    \n"
   ]
  },
  {
   "cell_type": "code",
   "execution_count": 38,
   "metadata": {},
   "outputs": [
    {
     "name": "stdout",
     "output_type": "stream",
     "text": [
      "welcome\n"
     ]
    }
   ],
   "source": [
    "st=\"hello world welcome to python\"\n",
    "l=[]\n",
    "res=\"\"\n",
    "for i in st:\n",
    "    if i==' ':\n",
    "        l+=[res]\n",
    "        res=\"\"\n",
    "    else:\n",
    "        res+=i\n",
    "l+=[res]\n",
    "max=l[0]\n",
    "for i in l:\n",
    "    if len(i)>len(max):\n",
    "        max=i\n",
    "        \n",
    "print(max)\n"
   ]
  },
  {
   "cell_type": "code",
   "execution_count": 52,
   "metadata": {},
   "outputs": [
    {
     "name": "stdout",
     "output_type": "stream",
     "text": [
      "helloworldwelcometo\n"
     ]
    }
   ],
   "source": [
    "st=\"hello world welcome to python\"\n",
    "max=0\n",
    "res=''\n",
    "st1=\"\"\n",
    "for i in st:\n",
    "    if i==' ':\n",
    "        st1+=res\n",
    "        res=\"\"\n",
    "    else:\n",
    "        res+=i\n",
    "print(st1)"
   ]
  },
  {
   "cell_type": "code",
   "execution_count": null,
   "metadata": {},
   "outputs": [],
   "source": []
  }
 ],
 "metadata": {
  "kernelspec": {
   "display_name": "Python 3",
   "language": "python",
   "name": "python3"
  },
  "language_info": {
   "codemirror_mode": {
    "name": "ipython",
    "version": 3
   },
   "file_extension": ".py",
   "mimetype": "text/x-python",
   "name": "python",
   "nbconvert_exporter": "python",
   "pygments_lexer": "ipython3",
   "version": "3.12.1"
  }
 },
 "nbformat": 4,
 "nbformat_minor": 2
}
