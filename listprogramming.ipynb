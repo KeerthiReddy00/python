{
 "cells": [
  {
   "cell_type": "code",
   "execution_count": 1,
   "metadata": {},
   "outputs": [
    {
     "name": "stdout",
     "output_type": "stream",
     "text": [
      "1\n",
      "3\n",
      "5\n",
      "7\n"
     ]
    }
   ],
   "source": [
    "l=[1,2,3,4,5,6,7,8]\n",
    "i=0\n",
    "while i<=len(l)-1:\n",
    "    if l[i]%2==1:\n",
    "        print(l[i])\n",
    "    i+=1"
   ]
  },
  {
   "cell_type": "code",
   "execution_count": 2,
   "metadata": {},
   "outputs": [
    {
     "name": "stdout",
     "output_type": "stream",
     "text": [
      "hi\n"
     ]
    }
   ],
   "source": [
    "l=[\"hi\",\"hello\",\"keerthi\",\"how\",\"are\",\"you\"]\n",
    "i=0\n",
    "while i<=len(l)-1:\n",
    "    s=len(l[i])\n",
    "    if s%2==0:\n",
    "        print(l[i])\n",
    "    i+=1"
   ]
  },
  {
   "cell_type": "code",
   "execution_count": 3,
   "metadata": {},
   "outputs": [
    {
     "name": "stdout",
     "output_type": "stream",
     "text": [
      "0 1\n",
      "1 2\n",
      "2 hi\n",
      "3 45\n",
      "4 37\n",
      "5 keerthi\n"
     ]
    }
   ],
   "source": [
    "l=[1,2,\"hi\",45,37,\"keerthi\"]\n",
    "i=0\n",
    "while i<=len(l)-1:\n",
    "    print(i,l[i])\n",
    "    i+=1"
   ]
  },
  {
   "cell_type": "code",
   "execution_count": 5,
   "metadata": {},
   "outputs": [
    {
     "name": "stdout",
     "output_type": "stream",
     "text": [
      "['hi', 'hello', 'bye', 'yes', 1, 2, 3, 4]\n"
     ]
    }
   ],
   "source": [
    "l=[1,2,3,4]\n",
    "l1=[\"hi\",\"hello\",\"bye\",\"yes\"]\n",
    "i=0\n",
    "while i<=len(l)-1:\n",
    "    s=l[i]\n",
    "    l1+=[s]\n",
    "    i+=1\n",
    "print(l1)"
   ]
  },
  {
   "cell_type": "code",
   "execution_count": 6,
   "metadata": {},
   "outputs": [
    {
     "name": "stdout",
     "output_type": "stream",
     "text": [
      "3 2\n",
      "4 4\n",
      "7 10\n",
      "12 20\n",
      "27 50\n",
      "39 74\n",
      "50 96\n",
      "9 14\n"
     ]
    }
   ],
   "source": [
    "l=[1,2,5,10,25,37,48,7]\n",
    "n=int(input())\n",
    "i=0\n",
    "while i<=len(l)-1:\n",
    "    s=l[i]\n",
    "    print(s+n,s*n)\n",
    "    i+=1"
   ]
  },
  {
   "cell_type": "code",
   "execution_count": 10,
   "metadata": {},
   "outputs": [
    {
     "name": "stdout",
     "output_type": "stream",
     "text": [
      "empty\n"
     ]
    }
   ],
   "source": [
    "l=[]\n",
    "if len(l)==0:\n",
    "    print(\"empty\")\n",
    "else:\n",
    "    print(\"not empty\")"
   ]
  },
  {
   "cell_type": "code",
   "execution_count": 11,
   "metadata": {},
   "outputs": [
    {
     "name": "stdout",
     "output_type": "stream",
     "text": [
      "[1, 2, 3, 'hi', 'hello', 35, 'there']\n"
     ]
    }
   ],
   "source": [
    "l=[1,2,3,\"hi\",\"hello\",35,\"there\"]\n",
    "l1=[]\n",
    "i=0\n",
    "while i<=len(l)-1:\n",
    "    s=l[i]\n",
    "    l1+=[s]\n",
    "    i+=1\n",
    "print(l1)"
   ]
  },
  {
   "cell_type": "code",
   "execution_count": 12,
   "metadata": {},
   "outputs": [
    {
     "name": "stdout",
     "output_type": "stream",
     "text": [
      "even 5\n",
      "odd 3\n"
     ]
    }
   ],
   "source": [
    "l=[1,2,3,4,5,6,8,8]\n",
    "i=0\n",
    "c=0\n",
    "c1=0\n",
    "while i<=len(l)-1:\n",
    "    s=l[i]\n",
    "    if s%2==0:\n",
    "        c+=1\n",
    "    if s%2==1:\n",
    "        c1+=1\n",
    "    i+=1\n",
    "print(\"even\",c)\n",
    "print(\"odd\",c1)"
   ]
  },
  {
   "cell_type": "code",
   "execution_count": 13,
   "metadata": {},
   "outputs": [
    {
     "name": "stdout",
     "output_type": "stream",
     "text": [
      "positive 4\n",
      "negative 3\n"
     ]
    }
   ],
   "source": [
    "l=[-1,-2,-3,1,2,3,4]\n",
    "i=0\n",
    "c=0\n",
    "c1=0\n",
    "while i<=len(l)-1:\n",
    "    s=l[i]\n",
    "    if s>0:\n",
    "        c+=1\n",
    "    elif s<0:\n",
    "        c1+=1\n",
    "    i+=1\n",
    "print(\"positive\",c)\n",
    "print(\"negative\",c1)"
   ]
  },
  {
   "cell_type": "code",
   "execution_count": 14,
   "metadata": {},
   "outputs": [
    {
     "name": "stdout",
     "output_type": "stream",
     "text": [
      "39\n"
     ]
    }
   ],
   "source": [
    "l=[1,7,39,35,8,18,3]\n",
    "i=0\n",
    "maxDigit=0\n",
    "while i<=len(l)-1:\n",
    "    s=l[i]\n",
    "    if maxDigit<s:\n",
    "        maxDigit=s\n",
    "    i+=1\n",
    "print(maxDigit)"
   ]
  },
  {
   "cell_type": "code",
   "execution_count": 15,
   "metadata": {},
   "outputs": [
    {
     "name": "stdout",
     "output_type": "stream",
     "text": [
      "48\n",
      "1\n"
     ]
    }
   ],
   "source": [
    "l=[2,7,39,35,48,18,3,1]\n",
    "i=0\n",
    "minDigit=0\n",
    "maxDigit=0\n",
    "while i<=len(l)-1:\n",
    "    s=l[i]\n",
    "    if maxDigit<s:\n",
    "        maxDigit=s\n",
    "    if minDigit==0 or minDigit>0:\n",
    "        minDigit=s\n",
    "    i+=1\n",
    "print(maxDigit)\n",
    "print(minDigit)"
   ]
  },
  {
   "cell_type": "code",
   "execution_count": 16,
   "metadata": {},
   "outputs": [
    {
     "name": "stdout",
     "output_type": "stream",
     "text": [
      "6\n"
     ]
    }
   ],
   "source": [
    "l=[1,2,3,4,5,6]\n",
    "length=0\n",
    "i=0\n",
    "while i<=len(l)-1:\n",
    "    length+=1\n",
    "    i+=1\n",
    "print(length)"
   ]
  },
  {
   "cell_type": "code",
   "execution_count": 17,
   "metadata": {},
   "outputs": [
    {
     "name": "stdout",
     "output_type": "stream",
     "text": [
      "1\n",
      "2\n",
      "hi\n",
      "bye\n",
      "37\n"
     ]
    }
   ],
   "source": [
    "l=[1,2,\"hi\",\"bye\",37]\n",
    "i=0\n",
    "while i<=len(l)-1:\n",
    "    print(l[i])\n",
    "    i+=1\n",
    "    "
   ]
  },
  {
   "cell_type": "code",
   "execution_count": 18,
   "metadata": {},
   "outputs": [
    {
     "name": "stdout",
     "output_type": "stream",
     "text": [
      "2\n",
      "8\n",
      "12\n",
      "58\n"
     ]
    }
   ],
   "source": [
    "l=[2,8,7,12,1,37,7,58]\n",
    "i=0\n",
    "while i<=len(l)-1:\n",
    "    s=l[i]\n",
    "    if s%2==0:\n",
    "        print(s)\n",
    "    i+=1"
   ]
  },
  {
   "cell_type": "code",
   "execution_count": 19,
   "metadata": {},
   "outputs": [
    {
     "name": "stdout",
     "output_type": "stream",
     "text": [
      "1\n",
      "5\n",
      "7\n",
      "9\n",
      "13\n"
     ]
    }
   ],
   "source": [
    "l=[1,2,5,6,7,9,13]\n",
    "i=0\n",
    "while i<=len(l)-1:\n",
    "    s=l[i]\n",
    "    if s%2==1:\n",
    "        print(s)\n",
    "    i+=1"
   ]
  },
  {
   "cell_type": "code",
   "execution_count": 20,
   "metadata": {},
   "outputs": [
    {
     "name": "stdout",
     "output_type": "stream",
     "text": [
      "1\n",
      "7\n",
      "8\n",
      "9\n"
     ]
    }
   ],
   "source": [
    "l=[1,-2,-3,-5,-6,7,8,9]\n",
    "i=0\n",
    "while i<=len(l)-1:\n",
    "    s=l[i]\n",
    "    if s>0:\n",
    "        print(s)\n",
    "    i+=1"
   ]
  },
  {
   "cell_type": "code",
   "execution_count": 21,
   "metadata": {},
   "outputs": [
    {
     "name": "stdout",
     "output_type": "stream",
     "text": [
      "-2\n",
      "-3\n",
      "-5\n",
      "-6\n"
     ]
    }
   ],
   "source": [
    "l=[1,-2,-3,-5,-6,7,8,9]\n",
    "i=0\n",
    "while i<=len(l)-1:\n",
    "    s=l[i]\n",
    "    if s<0:\n",
    "        print(s)\n",
    "    i+=1"
   ]
  },
  {
   "cell_type": "code",
   "execution_count": 22,
   "metadata": {},
   "outputs": [
    {
     "name": "stdout",
     "output_type": "stream",
     "text": [
      "[2, 4, 6, 10]\n",
      "[1, 5, 7, 9, 11, 11]\n"
     ]
    }
   ],
   "source": [
    "l=[1,2,4,5,6,7,9,11,10,11]\n",
    "l1=[]\n",
    "l2=[]\n",
    "i=0\n",
    "while i<=len(l)-1:\n",
    "    s=l[i]\n",
    "    if s%2==0:\n",
    "        l1+=[s]\n",
    "    elif s%2==1:\n",
    "        l2+=[s]\n",
    "    i+=1\n",
    "print(l1)\n",
    "print(l2)"
   ]
  },
  {
   "cell_type": "code",
   "execution_count": 23,
   "metadata": {},
   "outputs": [
    {
     "name": "stdout",
     "output_type": "stream",
     "text": [
      "[2, 5, 6, 10, 11]\n",
      "[-1, -4, -7, -9, -11]\n"
     ]
    }
   ],
   "source": [
    "l=[-1,2,-4,5,6,-7,-9,-11,10,11]\n",
    "l1=[]\n",
    "l2=[]\n",
    "i=0\n",
    "while i<=len(l)-1:\n",
    "    s=l[i]\n",
    "    if s>0:\n",
    "        l1+=[s]\n",
    "    elif s<0:\n",
    "        l2+=[s]\n",
    "    i+=1\n",
    "print(l1)\n",
    "print(l2)"
   ]
  },
  {
   "cell_type": "code",
   "execution_count": 25,
   "metadata": {},
   "outputs": [
    {
     "name": "stdout",
     "output_type": "stream",
     "text": [
      "[1, 2, 3, 4, 5]\n"
     ]
    }
   ],
   "source": [
    "l=[1,2,3,4,5,1,2]\n",
    "l1=[]\n",
    "i=0\n",
    "while i<=len(l)-1:\n",
    "    s=l[i]\n",
    "    if s not in l1:\n",
    "        l1+=[s]\n",
    "    i+=1\n",
    "print(l1)"
   ]
  },
  {
   "cell_type": "code",
   "execution_count": 26,
   "metadata": {},
   "outputs": [
    {
     "name": "stdout",
     "output_type": "stream",
     "text": [
      "[1, 3, 5, 7]\n"
     ]
    }
   ],
   "source": [
    "l=[1,2,3,4,5,6,7,8]\n",
    "l1=[]\n",
    "i=0\n",
    "while i<=len(l)-1:\n",
    "    s=l[i]\n",
    "    if s%2==1:\n",
    "        l1+=[s]\n",
    "    i+=1\n",
    "print(l1)"
   ]
  },
  {
   "cell_type": "code",
   "execution_count": 28,
   "metadata": {},
   "outputs": [
    {
     "name": "stdout",
     "output_type": "stream",
     "text": [
      "[8, 7, 6, 5, 4, 3, 2, 1]\n"
     ]
    }
   ],
   "source": [
    "l=[1,2,3,4,5,6,7,8]\n",
    "l1=[]\n",
    "i=len(l)-1\n",
    "while i>=0:\n",
    "    s=l[i]\n",
    "    l1+=[s]\n",
    "    i-=1\n",
    "print(l1)"
   ]
  },
  {
   "cell_type": "code",
   "execution_count": 29,
   "metadata": {},
   "outputs": [
    {
     "name": "stdout",
     "output_type": "stream",
     "text": [
      "9987\n",
      "8655\n"
     ]
    }
   ],
   "source": [
    "l=[10,22,889,9987,8655]\n",
    "i=0\n",
    "max=0\n",
    "secondmax=0\n",
    "while i<=len(l)-1:\n",
    "    s=l[i]\n",
    "    if max<s or secondmax<max:\n",
    "        secondmax=max\n",
    "        max=s\n",
    "    i+=1\n",
    "print(secondmax)\n",
    "print(max)"
   ]
  },
  {
   "cell_type": "code",
   "execution_count": 30,
   "metadata": {},
   "outputs": [
    {
     "name": "stdout",
     "output_type": "stream",
     "text": [
      "1\n"
     ]
    }
   ],
   "source": [
    "l=[1,2,7,31,48,51,64,71,28,19,11,8]\n",
    "i=0\n",
    "mindigit=0\n",
    "while i<=len(l)-1:\n",
    "    s=l[i]\n",
    "    if mindigit==0 or mindigit>s:\n",
    "        mindigit=s\n",
    "    i+=1\n",
    "print(mindigit)"
   ]
  },
  {
   "cell_type": "code",
   "execution_count": 31,
   "metadata": {},
   "outputs": [
    {
     "name": "stdout",
     "output_type": "stream",
     "text": [
      "28\n"
     ]
    }
   ],
   "source": [
    "l=[1,2,3,4,5,6,7]\n",
    "sum=0\n",
    "i=0\n",
    "while i<=len(l)-1:\n",
    "    s=l[i]\n",
    "    sum+=s\n",
    "    i+=1\n",
    "print(sum)"
   ]
  },
  {
   "cell_type": "code",
   "execution_count": 32,
   "metadata": {},
   "outputs": [
    {
     "name": "stdout",
     "output_type": "stream",
     "text": [
      "20\n",
      "25\n"
     ]
    }
   ],
   "source": [
    "l=[1,2,3,4,5,6,7,8,9]\n",
    "even=0\n",
    "odd=0\n",
    "i=0\n",
    "while i<=len(l)-1:\n",
    "    s=l[i]\n",
    "    if s%2==0:\n",
    "        even+=s\n",
    "    elif s%2==1:\n",
    "        odd+=s\n",
    "    i+=1\n",
    "print(even)\n",
    "print(odd)"
   ]
  },
  {
   "cell_type": "code",
   "execution_count": null,
   "metadata": {},
   "outputs": [],
   "source": []
  }
 ],
 "metadata": {
  "kernelspec": {
   "display_name": "Python 3",
   "language": "python",
   "name": "python3"
  },
  "language_info": {
   "codemirror_mode": {
    "name": "ipython",
    "version": 3
   },
   "file_extension": ".py",
   "mimetype": "text/x-python",
   "name": "python",
   "nbconvert_exporter": "python",
   "pygments_lexer": "ipython3",
   "version": "3.12.1"
  }
 },
 "nbformat": 4,
 "nbformat_minor": 2
}
