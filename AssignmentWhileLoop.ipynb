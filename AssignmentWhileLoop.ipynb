{
 "cells": [
  {
   "cell_type": "markdown",
   "metadata": {},
   "source": [
    "1) WAP to count divisiors of the given num 1 to itself."
   ]
  },
  {
   "cell_type": "code",
   "execution_count": 2,
   "metadata": {},
   "outputs": [
    {
     "name": "stdout",
     "output_type": "stream",
     "text": [
      "3\n"
     ]
    }
   ],
   "source": [
    "i=1 # Step-2 : Condition starting\n",
    "itself=int(input())  # Step-1 : giving user input\n",
    "divisorCount=0  # count of the divisors\n",
    "while i<=itself: #Step-3 : giving condition whether the given input is satisfied or not(i<=input)\n",
    "    if itself%i==0: # Step-5 : giving if condition to obtain the divisor\n",
    "       divisorCount+=1  # step-6 : incresing the count if the if condition gets true\n",
    "    i+=1 # step-4 : increment if while condition gets true\n",
    "print(divisorCount) # step-7 : final output of the count after the loop finishes its all iterations"
   ]
  },
  {
   "cell_type": "markdown",
   "metadata": {},
   "source": [
    "2) WAP to print sum of the divisors of the given num 1 to itself."
   ]
  },
  {
   "cell_type": "code",
   "execution_count": 4,
   "metadata": {},
   "outputs": [
    {
     "name": "stdout",
     "output_type": "stream",
     "text": [
      "3\n"
     ]
    }
   ],
   "source": [
    "i=1 # Step-2 : Condition starting\n",
    "itself=int(input())   # Step-1 : giving user input\n",
    "sum=0 # variable to store the sum value\n",
    "while i<=itself: #Step-3 : giving condition whether the given input is satisfied or not(i<=input)\n",
    "    if itself % i==0: # Step-5 : giving if condition to obtain the divisor\n",
    "        sum=sum+i  # step-6 : storing sum value from each element\n",
    "    i+=1  # step-4 : increment if while condition gets true\n",
    "print(sum ) # Step-7 : printing sumvalue after the loop completees its iterations"
   ]
  },
  {
   "cell_type": "markdown",
   "metadata": {},
   "source": [
    "3) WAP to check sum of the numbers from 1 to 5 is even or odd."
   ]
  },
  {
   "cell_type": "code",
   "execution_count": 6,
   "metadata": {},
   "outputs": [
    {
     "name": "stdout",
     "output_type": "stream",
     "text": [
      "odd 15\n"
     ]
    }
   ],
   "source": [
    "i=1  # Step-1 : giving user input\n",
    "sum=0 # variable to store the sum value\n",
    "while i<=5:  #Step-2 : giving condition whether the given input is satisfied or not(input<=5)\n",
    "    sum=sum+i # step-3 : storing sum value if the while condition is true\n",
    "    i+=1 # step-4 : increment if while condition gets true\n",
    "if sum%2==0:  #step-5 : checkin whether the condition is divisibke by 2 or not to know whether it is an even or not\n",
    "    print(\"even\",sum) # step-6 : printing statement if if statement is true\n",
    "else:  #step-7 : else condition if if stetement is false\n",
    "    print (\"odd\",sum)  # step-8 : printing statement if if statement is false\n"
   ]
  },
  {
   "cell_type": "markdown",
   "metadata": {},
   "source": [
    "4) WAP to check product of the numbers from 4 to 1 is divisible by 3 or not."
   ]
  },
  {
   "cell_type": "code",
   "execution_count": 14,
   "metadata": {},
   "outputs": [
    {
     "name": "stdout",
     "output_type": "stream",
     "text": [
      "24\n",
      "divisible by 3 24\n"
     ]
    }
   ],
   "source": [
    "i=4  # Step-1 : giving user input\n",
    "product=1\n",
    "while i>=1:  #Step-2 : giving condition whether the given input is satisfied or not(input>=1)\n",
    "    product=product*i  # step-3 : storing product value if the while condition is true\n",
    "    i-=1  # step-4 : decrement if while condition gets true\n",
    "if product%3==0: #step-5 : checkin whether the condition is divisibke by 3 or not \n",
    "    print(\"divisible by 3\", product)  # step-6 : printing statement if if statement is true\n",
    "else:  #step-7 : else condition if if stetement is false\n",
    "    print(\"not divisible by 3\",product)  # step-8 : printing statement if if statement is false"
   ]
  },
  {
   "cell_type": "markdown",
   "metadata": {},
   "source": [
    "5) WAP to check count of the divisors of the given number from 1 to 10 is equals to 2 or not."
   ]
  },
  {
   "cell_type": "code",
   "execution_count": 16,
   "metadata": {},
   "outputs": [
    {
     "name": "stdout",
     "output_type": "stream",
     "text": [
      "not equal to 2 4\n"
     ]
    }
   ],
   "source": [
    "i=1\n",
    "num=int(input())  # Step-1 : giving user input\n",
    "count=0\n",
    "while i<=10:\n",
    "    if num%i==0:\n",
    "        count+=1   # step-3 : incresing count value if the if condition is true\n",
    "    i+=1  # step-4 : increment if while condition gets true\n",
    "if(count==2):  #step-5 : checkin whether the count is equaln to 2 or not \n",
    "    print(\"equals to 2\",count)  # step-6 : printing statement if if statement is true\n",
    "else:  #step-7 : else condition if if stetement is false\n",
    "    print(\"not equal to 2\",count)  # step-8 : printing statement if if statement is false"
   ]
  }
 ],
 "metadata": {
  "kernelspec": {
   "display_name": "Python 3",
   "language": "python",
   "name": "python3"
  },
  "language_info": {
   "codemirror_mode": {
    "name": "ipython",
    "version": 3
   },
   "file_extension": ".py",
   "mimetype": "text/x-python",
   "name": "python",
   "nbconvert_exporter": "python",
   "pygments_lexer": "ipython3",
   "version": "3.12.1"
  }
 },
 "nbformat": 4,
 "nbformat_minor": 2
}
