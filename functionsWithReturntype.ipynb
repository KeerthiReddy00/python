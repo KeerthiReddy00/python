{
 "cells": [
  {
   "cell_type": "code",
   "execution_count": 1,
   "metadata": {},
   "outputs": [
    {
     "name": "stdout",
     "output_type": "stream",
     "text": [
      "smith\n"
     ]
    }
   ],
   "source": [
    "def hero():\n",
    "    return \"smith\"\n",
    "name=hero()\n",
    "print(name)"
   ]
  },
  {
   "cell_type": "code",
   "execution_count": 2,
   "metadata": {},
   "outputs": [
    {
     "name": "stdout",
     "output_type": "stream",
     "text": [
      "smith\n"
     ]
    }
   ],
   "source": [
    "def hero():\n",
    "    return \"smith\"\n",
    "print(hero())"
   ]
  },
  {
   "cell_type": "code",
   "execution_count": 3,
   "metadata": {},
   "outputs": [
    {
     "name": "stdout",
     "output_type": "stream",
     "text": [
      "1\n"
     ]
    }
   ],
   "source": [
    "def hello():\n",
    "    return 1\n",
    "    print(\"hello\")#this is not executed because return keyword is not given below of the function\n",
    "print(hello())# so, cursur came directly outside of the function after function keyword is mentioned in function."
   ]
  },
  {
   "cell_type": "code",
   "execution_count": 4,
   "metadata": {},
   "outputs": [
    {
     "name": "stdout",
     "output_type": "stream",
     "text": [
      "hello\n",
      "1\n"
     ]
    }
   ],
   "source": [
    "def hello():\n",
    "    print(\"hello\")\n",
    "    return 1\n",
    "print(hello())"
   ]
  },
  {
   "cell_type": "code",
   "execution_count": 5,
   "metadata": {},
   "outputs": [
    {
     "name": "stdout",
     "output_type": "stream",
     "text": [
      "hello\n",
      "None\n"
     ]
    }
   ],
   "source": [
    "def hello():\n",
    "    print(\"hello\")\n",
    "print(hello())"
   ]
  },
  {
   "cell_type": "code",
   "execution_count": 7,
   "metadata": {},
   "outputs": [
    {
     "name": "stdout",
     "output_type": "stream",
     "text": [
      "5\n",
      "5\n"
     ]
    }
   ],
   "source": [
    "def gives():\n",
    "    return 5\n",
    "v=gives()\n",
    "print(v)\n",
    "print(gives())"
   ]
  },
  {
   "cell_type": "code",
   "execution_count": 8,
   "metadata": {},
   "outputs": [
    {
     "name": "stdout",
     "output_type": "stream",
     "text": [
      "240\n"
     ]
    }
   ],
   "source": [
    "def sum(n1,n2):\n",
    "    return n1+n2\n",
    "res=sum(10,20)*sum(2,6)\n",
    "print(res)"
   ]
  },
  {
   "cell_type": "code",
   "execution_count": 9,
   "metadata": {},
   "outputs": [
    {
     "name": "stdout",
     "output_type": "stream",
     "text": [
      "90\n"
     ]
    }
   ],
   "source": [
    "def sum(n1,n2):\n",
    "    return n1+n2\n",
    "res=sum(10,20)*sum(1,2)\n",
    "print(res)\n"
   ]
  },
  {
   "cell_type": "code",
   "execution_count": 10,
   "metadata": {},
   "outputs": [
    {
     "name": "stdout",
     "output_type": "stream",
     "text": [
      "120\n"
     ]
    }
   ],
   "source": [
    "def sum(n1,n2):\n",
    "    return n1+n2\n",
    "res=sum(10,20)*sum(2,2)\n",
    "print(res)"
   ]
  },
  {
   "cell_type": "code",
   "execution_count": 15,
   "metadata": {},
   "outputs": [
    {
     "name": "stdout",
     "output_type": "stream",
     "text": [
      "30\n",
      "200\n",
      "180\n"
     ]
    }
   ],
   "source": [
    "def sum(n1,n2):\n",
    "    return n1+n2\n",
    "def prod(n1,n2):\n",
    "    return n1*n2\n",
    "print(sum(10,20))\n",
    "print(prod(10,20))\n",
    "res=sum(10,20)*prod(3,2)\n",
    "print(res)"
   ]
  },
  {
   "cell_type": "code",
   "execution_count": 52,
   "metadata": {},
   "outputs": [
    {
     "name": "stdout",
     "output_type": "stream",
     "text": [
      "720\n"
     ]
    }
   ],
   "source": [
    "def fact(n):\n",
    "    f=1\n",
    "    for i in range(1,n+1):\n",
    "            f=f*i\n",
    "    return f\n",
    "res=fact(6)\n",
    "print(res)\n"
   ]
  },
  {
   "cell_type": "code",
   "execution_count": 38,
   "metadata": {},
   "outputs": [
    {
     "name": "stdout",
     "output_type": "stream",
     "text": [
      "odd\n"
     ]
    }
   ],
   "source": [
    "def sum(n):\n",
    "    sum=0\n",
    "    for i in range(1,n+1):\n",
    "        sum+=i\n",
    "    return sum\n",
    "res=sum(5)\n",
    "if res%2==0:\n",
    "    print(\"even\")\n",
    "else:\n",
    "    print(\"odd\")\n"
   ]
  },
  {
   "cell_type": "code",
   "execution_count": 53,
   "metadata": {},
   "outputs": [
    {
     "name": "stdout",
     "output_type": "stream",
     "text": [
      "15\n"
     ]
    }
   ],
   "source": [
    "def sumOfDigits(n):\n",
    "    sum=0\n",
    "    while n!=0:\n",
    "        d=n%10\n",
    "        sum+=d\n",
    "        n=n//10\n",
    "    return sum\n",
    "res=sumOfDigits(12345)\n",
    "print(res)"
   ]
  },
  {
   "cell_type": "code",
   "execution_count": 54,
   "metadata": {},
   "outputs": [
    {
     "name": "stdout",
     "output_type": "stream",
     "text": [
      "60\n"
     ]
    }
   ],
   "source": [
    "def prod(n):\n",
    "    p=1\n",
    "    while n!=0:\n",
    "        d=n%10\n",
    "        p=p*d\n",
    "        n=n//10\n",
    "    return p\n",
    "res=prod(1256)\n",
    "print(res)"
   ]
  },
  {
   "cell_type": "code",
   "execution_count": 61,
   "metadata": {},
   "outputs": [
    {
     "name": "stdout",
     "output_type": "stream",
     "text": [
      "False\n"
     ]
    }
   ],
   "source": [
    "def prime(n):\n",
    "    c=0\n",
    "    i=1\n",
    "    while i<=n:\n",
    "        if n%i==0:\n",
    "            c+=1\n",
    "        i+=1\n",
    "    if c==2:\n",
    "        return True\n",
    "    else:\n",
    "        return False\n",
    "res=prime(9)\n",
    "print(res)"
   ]
  },
  {
   "cell_type": "code",
   "execution_count": 65,
   "metadata": {},
   "outputs": [
    {
     "name": "stdout",
     "output_type": "stream",
     "text": [
      "True\n"
     ]
    }
   ],
   "source": [
    "def perfect(n):\n",
    "    sum=0\n",
    "    i=1\n",
    "    while i<n:\n",
    "        if n%i==0:\n",
    "            sum+=i\n",
    "        i+=1\n",
    "    if sum==n:\n",
    "        return True\n",
    "    else:\n",
    "        return False\n",
    "res=perfect(28)\n",
    "print(res)"
   ]
  },
  {
   "cell_type": "code",
   "execution_count": 67,
   "metadata": {},
   "outputs": [
    {
     "name": "stdout",
     "output_type": "stream",
     "text": [
      "False\n"
     ]
    }
   ],
   "source": [
    "def even(n):\n",
    "    if n%2==0:\n",
    "        return True\n",
    "    else:\n",
    "        return False\n",
    "res=even(3)\n",
    "print(res)"
   ]
  },
  {
   "cell_type": "code",
   "execution_count": 68,
   "metadata": {},
   "outputs": [
    {
     "name": "stdout",
     "output_type": "stream",
     "text": [
      "ihtreek\n"
     ]
    }
   ],
   "source": [
    "def reverse(st):\n",
    "    i=0\n",
    "    res=\"\"\n",
    "    while i<=len(st)-1:\n",
    "        res=st[i]+res\n",
    "        i+=1\n",
    "    return res\n",
    "op=reverse(\"keerthi\")\n",
    "print(op)\n"
   ]
  },
  {
   "cell_type": "code",
   "execution_count": 78,
   "metadata": {},
   "outputs": [
    {
     "name": "stdout",
     "output_type": "stream",
     "text": [
      "False\n"
     ]
    }
   ],
   "source": [
    "def strong(n):\n",
    "    sum=0\n",
    "    n1=n\n",
    "    while n!=0:\n",
    "        d=n%10\n",
    "        i=1\n",
    "        p=1\n",
    "        while i<=d:\n",
    "            p=p*i\n",
    "            i+=1\n",
    "        sum+=p\n",
    "        n=n//10\n",
    "    if sum==n1:\n",
    "        return True\n",
    "    else:\n",
    "        return False\n",
    "res=strong(9)\n",
    "print(res)"
   ]
  },
  {
   "cell_type": "code",
   "execution_count": 81,
   "metadata": {},
   "outputs": [
    {
     "name": "stdout",
     "output_type": "stream",
     "text": [
      "False\n"
     ]
    }
   ],
   "source": [
    "def spy(n):\n",
    "    sum=0\n",
    "    product=1\n",
    "    while n!=0:\n",
    "        d=n%10\n",
    "        sum+=d\n",
    "        product*=d\n",
    "        n=n//10\n",
    "    if sum==product:\n",
    "        return True\n",
    "    else:\n",
    "        return False\n",
    "res=spy(34)\n",
    "print(res)\n"
   ]
  }
 ],
 "metadata": {
  "kernelspec": {
   "display_name": "Python 3",
   "language": "python",
   "name": "python3"
  },
  "language_info": {
   "codemirror_mode": {
    "name": "ipython",
    "version": 3
   },
   "file_extension": ".py",
   "mimetype": "text/x-python",
   "name": "python",
   "nbconvert_exporter": "python",
   "pygments_lexer": "ipython3",
   "version": "3.12.1"
  }
 },
 "nbformat": 4,
 "nbformat_minor": 2
}
