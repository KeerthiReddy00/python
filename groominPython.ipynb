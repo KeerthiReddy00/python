{
 "cells": [
  {
   "cell_type": "code",
   "execution_count": 2,
   "metadata": {},
   "outputs": [
    {
     "name": "stdout",
     "output_type": "stream",
     "text": [
      "4\n"
     ]
    }
   ],
   "source": [
    "n=int(input())\n",
    "\n",
    "if 125%n!=0:\n",
    "    d=n%100\n",
    "    print(d)\n",
    "else:\n",
    "    print(n)"
   ]
  },
  {
   "cell_type": "code",
   "execution_count": 4,
   "metadata": {},
   "outputs": [
    {
     "name": "stdout",
     "output_type": "stream",
     "text": [
      "34\n",
      "347\n"
     ]
    }
   ],
   "source": [
    "n=int(input())\n",
    "n1=n\n",
    "if n%2==1:\n",
    "    n=n//10\n",
    "    print(n)\n",
    "print(n1)"
   ]
  },
  {
   "cell_type": "markdown",
   "metadata": {},
   "source": [
    "wAp to check the given number is odd if it is odd, remove the last digit of the given number and orint the current number, any how print the same num"
   ]
  },
  {
   "cell_type": "markdown",
   "metadata": {},
   "source": [
    "wap to check the given number is present in bet 50 and 100 exclusive if it is present print the prod of num with 10 and print the char of that number"
   ]
  },
  {
   "cell_type": "code",
   "execution_count": 6,
   "metadata": {},
   "outputs": [
    {
     "name": "stdout",
     "output_type": "stream",
     "text": [
      "700\n",
      "F\n",
      "70\n"
     ]
    }
   ],
   "source": [
    "n=int(input())\n",
    "if n>50 and n<100:\n",
    "    print(n*10)\n",
    "    print(chr(n))\n",
    "print(n)"
   ]
  },
  {
   "cell_type": "markdown",
   "metadata": {},
   "source": [
    "wap to check the given char is lower case alphabet and its ascii should be odd if so then print the char along with its ascii any"
   ]
  },
  {
   "cell_type": "code",
   "execution_count": 7,
   "metadata": {},
   "outputs": [
    {
     "name": "stdout",
     "output_type": "stream",
     "text": [
      "g\n",
      "103\n",
      "g\n"
     ]
    }
   ],
   "source": [
    "ch=input()\n",
    "if (ch>='a' and ch<='z') and ord(ch)%2==1:\n",
    "    print(ch)\n",
    "    print(ord(ch))\n",
    "print(ch)"
   ]
  },
  {
   "cell_type": "markdown",
   "metadata": {},
   "source": [
    "wap to check the ascii value of the last character in the given string is even if it is print that char and along with that print the ascii of the mid char in the given string if it is odd then convert the mid char of the given string into uppercase alphabet"
   ]
  },
  {
   "cell_type": "code",
   "execution_count": 17,
   "metadata": {},
   "outputs": [
    {
     "name": "stdout",
     "output_type": "stream",
     "text": [
      "A\n",
      "madams\n"
     ]
    }
   ],
   "source": [
    "st=input()\n",
    "mid=st[len(st)//2]\n",
    "if ord(st[-1])%2==0:\n",
    "    print(st[-1])\n",
    "    print(ord(mid))\n",
    "else:\n",
    "    print(chr(ord(mid)-32))\n",
    "print(st)"
   ]
  },
  {
   "cell_type": "markdown",
   "metadata": {},
   "source": [
    "wap to check the given char is an odd digit if it is print odd if it is even then print its bin value and print the same char"
   ]
  },
  {
   "cell_type": "code",
   "execution_count": 21,
   "metadata": {},
   "outputs": [
    {
     "name": "stdout",
     "output_type": "stream",
     "text": [
      "0b1011000\n",
      "88\n"
     ]
    }
   ],
   "source": [
    "ch=input()\n",
    "if int(ch)%2==1:\n",
    "    print(\"odd digit\")\n",
    "else:\n",
    "    print(bin(int(ch)))\n",
    "    print(ch)"
   ]
  },
  {
   "cell_type": "code",
   "execution_count": 1,
   "metadata": {},
   "outputs": [
    {
     "name": "stdout",
     "output_type": "stream",
     "text": [
      "2\n",
      "b\n",
      "abc\n"
     ]
    }
   ],
   "source": [
    "st=input()\n",
    "i=0\n",
    "c=0\n",
    "while i<=len(st)-1:\n",
    "    if ord(st[i])%2==1:\n",
    "        c+=1\n",
    "    i+=1\n",
    "print(c)\n",
    "print(st[len(st)//2])\n",
    "print(st)"
   ]
  },
  {
   "cell_type": "code",
   "execution_count": 5,
   "metadata": {},
   "outputs": [
    {
     "name": "stdout",
     "output_type": "stream",
     "text": [
      "not a prime\n"
     ]
    }
   ],
   "source": [
    "ch=input()\n",
    "i=1\n",
    "c=0\n",
    "if ch>='0' and ch<='9':\n",
    "    cube=int(ch)**3\n",
    "    while i<=cube:\n",
    "        if cube%i==0:\n",
    "            c+=1\n",
    "        i+=1\n",
    "    if c==2:\n",
    "        print(\"prime\")\n",
    "    else:\n",
    "        print(\"not a prime\")\n"
   ]
  },
  {
   "cell_type": "code",
   "execution_count": 8,
   "metadata": {},
   "outputs": [
    {
     "name": "stdout",
     "output_type": "stream",
     "text": [
      "2\n"
     ]
    }
   ],
   "source": [
    "n=int(input())\n",
    "ch=chr(n)\n",
    "if ch>='a' and ch<='z':\n",
    "    print(\"lowercase\")\n",
    "    print(chr(ord(ch)-32))\n",
    "elif ch>='A' and ch<='Z':\n",
    "    print(\"uppercase\")\n",
    "    print(ch)\n",
    "print(n)"
   ]
  },
  {
   "cell_type": "code",
   "execution_count": 16,
   "metadata": {},
   "outputs": [
    {
     "name": "stdout",
     "output_type": "stream",
     "text": [
      "strong number\n",
      "152399025\n"
     ]
    }
   ],
   "source": [
    "n=int(input())\n",
    "sum=0\n",
    "n1=n\n",
    "while n!=0:\n",
    "    d=n%10\n",
    "    if d%2==1:\n",
    "        sum+=d\n",
    "    n=n//10\n",
    "product=1\n",
    "sum1=0\n",
    "while sum!=0:\n",
    "    d1=sum%10\n",
    "    i=0\n",
    "    while i<=d1:\n",
    "        product*=i\n",
    "        i+=1\n",
    "    sum1=sum1+product\n",
    "    sum=sum//10\n",
    "if sum1==sum:\n",
    "    print(\"strong number\")\n",
    "    print(n1**2)\n",
    "else:\n",
    "    print(\"not a strong number\")"
   ]
  },
  {
   "cell_type": "code",
   "execution_count": 15,
   "metadata": {},
   "outputs": [
    {
     "name": "stdout",
     "output_type": "stream",
     "text": [
      "prime\n",
      "27\n"
     ]
    }
   ],
   "source": [
    "n=int(input())\n",
    "c=0\n",
    "while n!=0:\n",
    "    d=n%10\n",
    "    if d%2==1:\n",
    "        c+=1\n",
    "    n=n//10\n",
    "i=1\n",
    "c1=0\n",
    "while i<=c:\n",
    "    if c%i==0:\n",
    "        c1+=1\n",
    "    i+=1\n",
    "if c1==2:\n",
    "    print(\"prime\")\n",
    "    print(c**3)\n",
    "else:\n",
    "    print(\"not prime\")\n",
    "    print(c)\n"
   ]
  },
  {
   "cell_type": "code",
   "execution_count": 19,
   "metadata": {},
   "outputs": [
    {
     "name": "stdout",
     "output_type": "stream",
     "text": [
      "97\n",
      "99\n",
      "2\n"
     ]
    }
   ],
   "source": [
    "st=input()\n",
    "i=0\n",
    "c=0\n",
    "while i<=len(st)-1:\n",
    "    asc=ord(st[i])\n",
    "    if asc%2==1:\n",
    "        c+=1\n",
    "        print(asc)\n",
    "    i+=1\n",
    "print(c)"
   ]
  }
 ],
 "metadata": {
  "kernelspec": {
   "display_name": "Python 3",
   "language": "python",
   "name": "python3"
  },
  "language_info": {
   "codemirror_mode": {
    "name": "ipython",
    "version": 3
   },
   "file_extension": ".py",
   "mimetype": "text/x-python",
   "name": "python",
   "nbconvert_exporter": "python",
   "pygments_lexer": "ipython3",
   "version": "3.12.1"
  }
 },
 "nbformat": 4,
 "nbformat_minor": 2
}
